import numpy as np
import tensorflow as tf
import matplotlib.pyplot as plt
import math
from skimage import data

image = data.camera()
plt.imshow(image, cmap='gray')
print(image.shape) 

tf.reset_default_graph()

#Kernel weights as a 2D array. 
kernel_h = np.array([3, 3])
kernel_h = [[1,2,1], [0,0,0], [-1,-2,-1]]


input_placeholder = tf.placeholder(dtype=tf.float32, shape=(1, image.shape[0], image.shape[1], 1))
with tf.name_scope('convolution'):
    conv_h = tf.constant(kernel_h, dtype=tf.float32, shape=(3, 3, 1, 1))
    filtered_h = tf.nn.conv2d(input=input_placeholder, filter=conv_h, strides=[1, 1, 1, 1], padding='SAME')
    
with tf.Session() as sess:
    result_h = sess.run(filtered_h, feed_dict={input_placeholder: image[np.newaxis, :, :, np.newaxis]})

#Visualising horizonal 
plt.imshow(result_h[0, :, :, 0], cmap='gray') 
