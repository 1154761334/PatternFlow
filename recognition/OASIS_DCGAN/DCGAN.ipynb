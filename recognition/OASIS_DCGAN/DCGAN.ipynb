{
 "cells": [
  {
   "cell_type": "code",
   "execution_count": 4,
   "metadata": {},
   "outputs": [],
   "source": [
    "import tensorflow as tf\n",
    "physical_devices = tf.config.list_physical_devices('GPU') "
   ]
  },
  {
   "cell_type": "code",
   "execution_count": 5,
   "metadata": {},
   "outputs": [],
   "source": [
    "import os"
   ]
  },
  {
   "cell_type": "code",
   "execution_count": null,
   "metadata": {},
   "outputs": [],
   "source": [
    "from tensorflow.keras.preprocessing.image import ImageDataGenerator"
   ]
  },
  {
   "cell_type": "markdown",
   "metadata": {},
   "source": [
    "<h3> Architecture guidelines for stable Deep Convolutional GANs [5] </h3>"
   ]
  },
  {
   "cell_type": "markdown",
   "metadata": {},
   "source": [
    "<p>• Replace any pooling layers with strided convolutions (discriminator) and fractional-strided\n",
    "convolutions (generator).</p>\n",
    "<p>• Use batchnorm in both the generator and the discriminator.</p>\n",
    "<p>• Remove fully connected hidden layers for deeper architectures.</p>\n",
    "<p>• Use ReLU activation in generator for all layers except for the output, which uses Tanh.</p>\n",
    "<p>• Use LeakyReLU activation in the discriminator for all layers.</p>"
   ]
  },
  {
   "cell_type": "markdown",
   "metadata": {},
   "source": [
    "<h3>Training</h3>\n",
    "<p>- Preprocessing, scaled to range of tanh activation [-1,1]</p>\n",
    "<p>- Batch Size = 128 </p>\n",
    "<p>- Weight initialisation from Gaussian with mean = 0 and std = 0.2</p>\n",
    "<p>- LeakyRelu with alpha = 0.2 </p>\n",
    "<p>- Adam optimiser with learning_rate of 0.0002 and momentum beta_1=0.5 </p>"
   ]
  },
  {
   "cell_type": "code",
   "execution_count": null,
   "metadata": {},
   "outputs": [],
   "source": []
  }
 ],
 "metadata": {
  "kernelspec": {
   "display_name": "Python 3",
   "language": "python",
   "name": "python3"
  },
  "language_info": {
   "codemirror_mode": {
    "name": "ipython",
    "version": 3
   },
   "file_extension": ".py",
   "mimetype": "text/x-python",
   "name": "python",
   "nbconvert_exporter": "python",
   "pygments_lexer": "ipython3",
   "version": "3.7.6"
  }
 },
 "nbformat": 4,
 "nbformat_minor": 4
}
