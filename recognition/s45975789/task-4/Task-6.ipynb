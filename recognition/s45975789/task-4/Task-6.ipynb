{
 "cells": [
  {
   "cell_type": "code",
   "execution_count": 8,
   "metadata": {},
   "outputs": [
    {
     "name": "stdout",
     "output_type": "stream",
     "text": [
      "2.1.0\n"
     ]
    }
   ],
   "source": [
    "# importing packages and libaray\n",
    "import matplotlib.pyplot as plt\n",
    "import numpy as np\n",
    "import os\n",
    "import PIL\n",
    "import tensorflow as tf\n",
    "from tensorflow import keras\n",
    "print(tf.__version__)\n",
    "import importlib\n",
    "import Ganmodel\n",
    "from tensorflow.keras.layers import Conv2D, MaxPooling2D,LeakyReLU\n",
    "from tensorflow.keras.models import Sequential, Model\n",
    "from tensorflow.keras.layers import Activation, Dropout, Flatten, Dense, Input"
   ]
  },
  {
   "cell_type": "code",
   "execution_count": 9,
   "metadata": {},
   "outputs": [],
   "source": [
    "# defining path for accessing dataset\n",
    "image_dir = 'H:/Downloads/keras_png_slices_data/Dataset/keras_png_slices_seg_train/image'\n"
   ]
  },
  {
   "cell_type": "code",
   "execution_count": 10,
   "metadata": {},
   "outputs": [],
   "source": [
    "# function for loading images.\n",
    "def data_gen(img_folder, batch_size):\n",
    "    c = 0\n",
    "    n = os.listdir(img_folder) #List of training images\n",
    "    np.random.shuffle(n)\n",
    "    print(\"Number of Train_images:\",len(n))\n",
    "    \n",
    "    while (True):\n",
    "        img = np.zeros((batch_size, 256, 256, 1)).astype('float')\n",
    "       \n",
    "        for i in range(c, c+batch_size): #Reading set of images for a mentioned batch-size . \n",
    "            train_img = tf.keras.preprocessing.image.img_to_array(tf.keras.preprocessing.image.load_img(\n",
    "                img_folder+'/'+n[i],color_mode='grayscale', target_size=(256, 256)))/255\n",
    "            \n",
    "            img[i-c] = train_img #add to array - img[0], img[1], and so on.\n",
    "             \n",
    "        c+=batch_size\n",
    "        if(c+batch_size>=len(os.listdir(img_folder))):\n",
    "            c=0\n",
    "            np.random.shuffle(n)\n",
    "                  \n",
    "        return img"
   ]
  },
  {
   "cell_type": "code",
   "execution_count": 11,
   "metadata": {},
   "outputs": [
    {
     "name": "stdout",
     "output_type": "stream",
     "text": [
      "Number of Train_images: 9664\n",
      "Shape of Train image:  (256, 256, 1)\n"
     ]
    }
   ],
   "source": [
    "# Creating Data-generator to load images\n",
    "train_gen = data_gen(image_dir, batch_size = 16)\n",
    "#print(\"Shape of Train image: \",train_gen[1].shape)"
   ]
  },
  {
   "cell_type": "code",
   "execution_count": 12,
   "metadata": {},
   "outputs": [],
   "source": [
    "#Build Generator and Discriminator\n",
    "generator = Ganmodel.make_generator_model()\n",
    "discriminator = Ganmodel.make_discriminator_model()"
   ]
  },
  {
   "cell_type": "code",
   "execution_count": 14,
   "metadata": {},
   "outputs": [],
   "source": [
    "#defining parameter\n",
    "noise = Input((100,))\n",
    "num_epochs=15000\n",
    "batch_size=16\n",
    "display_interval=1000\n",
    "losses=[] \n",
    "\n",
    "#Defining the Adversarial ground truths \n",
    "valid = np.ones((batch_size, 1)) \n",
    "\n",
    "#Adding some noise  \n",
    "valid += 0.05 * np.random.random(valid.shape) \n",
    "fake = np.zeros((batch_size, 1)) \n",
    "fake += 0.05 * np.random.random(fake.shape)\n",
    "#print(fake.shape)\n",
    "\n",
    "#generate image from generator with noise as input\n",
    "generated_image = generator(noise)\n",
    "\n",
    "#sending generated image as input for discriminator to discriminate as real or fake\n",
    "v= discriminator(generated_image)\n",
    "\n",
    "#combining both models\n",
    "combined_network = Model(noise, v) \n",
    "\n",
    "#compiling combined model with binary_crossentropy loss and Adam optimser with lr=0.0002 and beta=0.5\n",
    "combined_network.compile(loss='binary_crossentropy', \n",
    "                         optimizer=tf.keras.optimizers.Adam(0.0002,0.5)) "
   ]
  },
  {
   "cell_type": "code",
   "execution_count": null,
   "metadata": {},
   "outputs": [],
   "source": []
  }
 ],
 "metadata": {
  "kernelspec": {
   "display_name": "Python 3",
   "language": "python",
   "name": "python3"
  },
  "language_info": {
   "codemirror_mode": {
    "name": "ipython",
    "version": 3
   },
   "file_extension": ".py",
   "mimetype": "text/x-python",
   "name": "python",
   "nbconvert_exporter": "python",
   "pygments_lexer": "ipython3",
   "version": "3.7.9"
  }
 },
 "nbformat": 4,
 "nbformat_minor": 4
}
