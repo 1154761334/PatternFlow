{
 "cells": [
  {
   "cell_type": "code",
   "execution_count": 1,
   "metadata": {},
   "outputs": [],
   "source": [
    "# importing packages and libaray\n",
    "import matplotlib.pyplot as plt\n",
    "import numpy as np\n",
    "import os\n",
    "import PIL\n",
    "import tensorflow as tf\n",
    "from tensorflow import keras\n",
    "print(tf.__version__)\n"
   ]
  },
  {
   "cell_type": "code",
   "execution_count": 2,
   "metadata": {},
   "outputs": [],
   "source": [
    "# defining path for accessing dataset\n",
    "image_dir = 'C:/Users/s4597578/Downloads/keras_png_slices_data/Dataset/keras_png_slices_train/image'"
   ]
  },
  {
   "cell_type": "code",
   "execution_count": 6,
   "metadata": {},
   "outputs": [],
   "source": [
    "# function for loading images.\n",
    "def data_gen(img_folder, batch_size):\n",
    "    c = 0\n",
    "    n = os.listdir(img_folder) #List of training images\n",
    "    np.random.shuffle(n)\n",
    "    print(\"Number of Train_images:\",len(n))\n",
    "    \n",
    "    while (True):\n",
    "        img = np.zeros((batch_size, 256, 256, 1)).astype('float')\n",
    "       \n",
    "        for i in range(c, c+batch_size): #Reading set of images for a mentioned batch-size . \n",
    "            train_img = tf.keras.preprocessing.image.img_to_array(tf.keras.preprocessing.image.load_img(\n",
    "                img_folder+'/'+n[i],color_mode='grayscale', target_size=(256, 256)))/255\n",
    "            \n",
    "            img[i-c] = train_img #add to array - img[0], img[1], and so on.\n",
    "             \n",
    "        c+=batch_size\n",
    "        if(c+batch_size>=len(os.listdir(img_folder))):\n",
    "            c=0\n",
    "            np.random.shuffle(n)\n",
    "                  \n",
    "        return img"
   ]
  },
  {
   "cell_type": "code",
   "execution_count": 8,
   "metadata": {},
   "outputs": [
    {
     "name": "stdout",
     "output_type": "stream",
     "text": [
      "Number of Train_images: 9664\n",
      "Shape of Train image:  (256, 256, 1)\n"
     ]
    }
   ],
   "source": [
    "# Creating Data-generator to load images\n",
    "train_gen = data_gen(image_dir, batch_size = 16)\n",
    "print(\"Shape of Train image: \",train_gen[1].shape)"
   ]
  }
 ],
 "metadata": {
  "kernelspec": {
   "display_name": "Python 3",
   "language": "python",
   "name": "python3"
  },
  "language_info": {
   "codemirror_mode": {
    "name": "ipython",
    "version": 3
   },
   "file_extension": ".py",
   "mimetype": "text/x-python",
   "name": "python",
   "nbconvert_exporter": "python",
   "pygments_lexer": "ipython3",
   "version": "3.7.9"
  }
 },
 "nbformat": 4,
 "nbformat_minor": 4
}
