{
 "cells": [
  {
   "cell_type": "code",
   "execution_count": 1,
   "metadata": {},
   "outputs": [
    {
     "name": "stdout",
     "output_type": "stream",
     "text": [
      "2.1.0\n"
     ]
    }
   ],
   "source": [
    "# importing packages and libaray\n",
    "import matplotlib.pyplot as plt\n",
    "import numpy as np\n",
    "import os\n",
    "import PIL\n",
    "import tensorflow as tf\n",
    "from tensorflow import keras\n",
    "print(tf.__version__)\n",
    "import importlib\n",
    "import Ganmodel\n"
   ]
  },
  {
   "cell_type": "code",
   "execution_count": 2,
   "metadata": {},
   "outputs": [],
   "source": [
    "# defining path for accessing dataset\n",
    "image_dir = 'H:/Downloads/keras_png_slices_data/Dataset/keras_png_slices_seg_train/image'\n"
   ]
  },
  {
   "cell_type": "code",
   "execution_count": 3,
   "metadata": {},
   "outputs": [],
   "source": [
    "# function for loading images.\n",
    "def data_gen(img_folder, batch_size):\n",
    "    c = 0\n",
    "    n = os.listdir(img_folder) #List of training images\n",
    "    np.random.shuffle(n)\n",
    "    print(\"Number of Train_images:\",len(n))\n",
    "    \n",
    "    while (True):\n",
    "        img = np.zeros((batch_size, 256, 256, 1)).astype('float')\n",
    "       \n",
    "        for i in range(c, c+batch_size): #Reading set of images for a mentioned batch-size . \n",
    "            train_img = tf.keras.preprocessing.image.img_to_array(tf.keras.preprocessing.image.load_img(\n",
    "                img_folder+'/'+n[i],color_mode='grayscale', target_size=(256, 256)))/255\n",
    "            \n",
    "            img[i-c] = train_img #add to array - img[0], img[1], and so on.\n",
    "             \n",
    "        c+=batch_size\n",
    "        if(c+batch_size>=len(os.listdir(img_folder))):\n",
    "            c=0\n",
    "            np.random.shuffle(n)\n",
    "                  \n",
    "        return img"
   ]
  },
  {
   "cell_type": "code",
   "execution_count": 4,
   "metadata": {},
   "outputs": [
    {
     "name": "stdout",
     "output_type": "stream",
     "text": [
      "Number of Train_images: 9664\n",
      "Shape of Train image:  (256, 256, 1)\n"
     ]
    }
   ],
   "source": [
    "# Creating Data-generator to load images\n",
    "train_gen = data_gen(image_dir, batch_size = 16)\n",
    "print(\"Shape of Train image: \",train_gen[1].shape)"
   ]
  },
  {
   "cell_type": "code",
   "execution_count": 5,
   "metadata": {},
   "outputs": [],
   "source": [
    "#Build Generator and Discriminator\n",
    "generator = Ganmodel.make_generator_model()\n",
    "discriminator = Ganmodel.make_discriminator_model()"
   ]
  },
  {
   "cell_type": "code",
   "execution_count": 6,
   "metadata": {},
   "outputs": [
    {
     "name": "stdout",
     "output_type": "stream",
     "text": [
      "Model: \"model\"\n",
      "_________________________________________________________________\n",
      "Layer (type)                 Output Shape              Param #   \n",
      "=================================================================\n",
      "input_1 (InputLayer)         [(None, 100)]             0         \n",
      "_________________________________________________________________\n",
      "sequential (Sequential)      (None, 256, 256, 1)       51720897  \n",
      "=================================================================\n",
      "Total params: 51,720,897\n",
      "Trainable params: 51,588,833\n",
      "Non-trainable params: 132,064\n",
      "_________________________________________________________________\n",
      "Model: \"model_1\"\n",
      "_________________________________________________________________\n",
      "Layer (type)                 Output Shape              Param #   \n",
      "=================================================================\n",
      "input_2 (InputLayer)         [(None, 256, 256, 1)]     0         \n",
      "_________________________________________________________________\n",
      "sequential_1 (Sequential)    (None, 1)                 1580929   \n",
      "=================================================================\n",
      "Total params: 1,580,929\n",
      "Trainable params: 1,580,929\n",
      "Non-trainable params: 0\n",
      "_________________________________________________________________\n"
     ]
    },
    {
     "data": {
      "text/plain": [
       "(None, None)"
      ]
     },
     "execution_count": 6,
     "metadata": {},
     "output_type": "execute_result"
    }
   ],
   "source": [
    "generator.summary(),discriminator.summary()"
   ]
  },
  {
   "cell_type": "code",
   "execution_count": null,
   "metadata": {},
   "outputs": [],
   "source": []
  }
 ],
 "metadata": {
  "kernelspec": {
   "display_name": "Python 3",
   "language": "python",
   "name": "python3"
  },
  "language_info": {
   "codemirror_mode": {
    "name": "ipython",
    "version": 3
   },
   "file_extension": ".py",
   "mimetype": "text/x-python",
   "name": "python",
   "nbconvert_exporter": "python",
   "pygments_lexer": "ipython3",
   "version": "3.7.9"
  }
 },
 "nbformat": 4,
 "nbformat_minor": 4
}
