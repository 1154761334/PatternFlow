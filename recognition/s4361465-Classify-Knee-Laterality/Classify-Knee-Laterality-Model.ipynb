{
 "cells": [
  {
   "cell_type": "code",
   "execution_count": 1,
   "metadata": {},
   "outputs": [
    {
     "name": "stdout",
     "output_type": "stream",
     "text": [
      "2.1.0\n"
     ]
    }
   ],
   "source": [
    "import tensorflow as tf\n",
    "from tensorflow import image\n",
    "from tensorflow.keras import layers, models, preprocessing\n",
    "import matplotlib.pyplot as plt\n",
    "import pathlib\n",
    "import numpy as np\n",
    "import cv2\n",
    "print(tf.__version__)\n",
    "\n",
    "# this stuff should probs go into the driver script\n",
    "# only using the non-tf packages for the preprocessing of data\n",
    "from sklearn.model_selection import train_test_split\n",
    "from sklearn.metrics import classification_report\n",
    "\n",
    "# Function for model\n",
    "def classification(images_shape):\n",
    "    \"\"\"Model for binary classification \n",
    "    Parameters: \n",
    "          images_shape (tuple): The input shape of the images used to train the model.\"\"\"\n",
    "    model = tf.keras.models.Sequential([\n",
    "        tf.keras.layers.Conv2D(16, (3, 3), activation = 'relu', input_shape=images_shape),\n",
    "        #tf.keras.layers.Conv2D(128,(3,3), activation='relu',padding='same'),\n",
    "        #tf.keras.layers.MaxPooling2D((2,2)),\n",
    "        #tf.keras.layers.Dropout(0.25),\n",
    "\n",
    "        #tf.keras.layers.Conv2D(32,(3,3), activation='relu',padding='same'),\n",
    "        #tf.keras.layers.Conv2D(256,(3,3), activation='relu',padding='same'),\n",
    "        #tf.keras.layers.MaxPooling2D((2,2)),\n",
    "        #tf.keras.layers.Dropout(0.25),\n",
    "\n",
    "        #tf.keras.layers.Conv2D(64,(3,3), activation='relu',padding='same'),\n",
    "        #tf.keras.layers.MaxPooling2D((2,2)),\n",
    "\n",
    "        tf.keras.layers.Flatten(),\n",
    "        tf.keras.layers.Dense(128, activation='relu'),\n",
    "        #tf.keras.layers.Dropout(0.25),\n",
    "        tf.keras.layers.Dense(1, activation='sigmoid')\n",
    "    ])\n",
    "#activation sigmoid and corresponding loss function"
   ]
  },
  {
   "cell_type": "markdown",
   "metadata": {},
   "source": [
    "**Need to figure out the driver script bit, will save this file in final form as a .py file then will import it into the driver script and run it like Classify-Knee-Laterality-Model.Classify(train_images, train_labels, ...). Need to look up examples of driver scripts ***"
   ]
  },
  {
   "cell_type": "markdown",
   "metadata": {},
   "source": [
    "TODO Need to randomise the collection of images, then take a selection for training, testing (10%??) and validation. \n",
    "then do the binary CNN.\n",
    "It might be good to create a labels array for the things, so if left is in title then that one has a left label assigned to it (??). This would incoporate into the previous iteration of the CNN decently. \n",
    "\n",
    "Note in README, mention packages used, format of data to be inputted, the required version of tensorflow"
   ]
  },
  {
   "cell_type": "markdown",
   "metadata": {},
   "source": [
    "https://www.kaggle.com/abhmul/python-image-generator-tutorial <- loop at Input 19, shouldn't be too hard to convert what you have to this format\n",
    "https://colab.research.google.com/drive/1WnvxjwQaQzt5bhXbE2EVuFC8DG-59Gmu?usp=sharing\n",
    "https://towardsdatascience.com/10-minutes-to-building-a-cnn-binary-image-classifier-in-tensorflow-4e216b2034aa"
   ]
  }
 ],
 "metadata": {
  "kernelspec": {
   "display_name": "Python 3",
   "language": "python",
   "name": "python3"
  },
  "language_info": {
   "codemirror_mode": {
    "name": "ipython",
    "version": 3
   },
   "file_extension": ".py",
   "mimetype": "text/x-python",
   "name": "python",
   "nbconvert_exporter": "python",
   "pygments_lexer": "ipython3",
   "version": "3.7.9"
  }
 },
 "nbformat": 4,
 "nbformat_minor": 4
}
