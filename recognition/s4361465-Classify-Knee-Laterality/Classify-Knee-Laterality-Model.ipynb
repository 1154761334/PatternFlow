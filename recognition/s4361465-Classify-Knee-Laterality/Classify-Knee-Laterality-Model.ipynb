{
 "cells": [
  {
   "cell_type": "code",
   "execution_count": 1,
   "metadata": {},
   "outputs": [
    {
     "name": "stdout",
     "output_type": "stream",
     "text": [
      "2.1.0\n"
     ]
    }
   ],
   "source": [
    "import tensorflow as tf\n",
    "from tensorflow import image\n",
    "from tensorflow.keras import layers, models, preprocessing\n",
    "import matplotlib.pyplot as plt\n",
    "import pathlib\n",
    "import numpy as np\n",
    "import cv2\n",
    "print(tf.__version__)\n",
    "\n",
    "# this stuff should probs go into the driver script\n",
    "# only using the non-tf packages for the preprocessing of data\n",
    "from sklearn.model_selection import train_test_split\n",
    "from sklearn.metrics import classification_report"
   ]
  },
  {
   "cell_type": "markdown",
   "metadata": {},
   "source": [
    "**Need to figure out the driver script bit, will save this file in final form as a .py file then will import it into the driver script and run it like Classify-Knee-Laterality-Model.Classify(train_images, train_labels, ...). Need to look up examples of driver scripts ***"
   ]
  },
  {
   "cell_type": "code",
   "execution_count": 2,
   "metadata": {},
   "outputs": [],
   "source": [
    "# from titles get labels \n",
    "# after extracting labels separate into training, validation and testing sets"
   ]
  },
  {
   "cell_type": "code",
   "execution_count": 2,
   "metadata": {
    "scrolled": true
   },
   "outputs": [
    {
     "name": "stdout",
     "output_type": "stream",
     "text": [
      "total images 18680\n",
      "left images 7760\n",
      "right count 10920\n",
      "sum  18680\n"
     ]
    }
   ],
   "source": [
    "# this stuff should probs go into the driver script\n",
    "import random\n",
    "\n",
    "#data_dir = \"AKOA_Analysis\"\n",
    "\n",
    "#data_dir = pathlib.Path(data_dir)\n",
    "\n",
    "#print('total images', len(list(data_dir.glob('*.png'))))\n",
    "\n",
    "#left_images = list(data_dir.glob('*left*.png'))\n",
    "#left_underscored = list(data_dir.glob('*L_E_F_T*.png'))\n",
    "#left_images = left_images + left_underscored\n",
    "#print('left images', len(left_images))\n",
    "\n",
    "#right_images = list(data_dir.glob('*right*.png'))\n",
    "#right_underscored = list(data_dir.glob('*R_I_G_H_T*.png'))\n",
    "#right_images = right_images + right_underscored\n",
    "#print('right count', len(right_images))\n",
    "\n",
    "#print('sum ', len(right_images)+len(left_images))\n",
    "\n",
    "#need to normalise stuff"
   ]
  },
  {
   "cell_type": "markdown",
   "metadata": {},
   "source": [
    "TODO Need to randomise the collection of images, then take a selection for training, testing (10%??) and validation. \n",
    "then do the binary CNN.\n",
    "It might be good to create a labels array for the things, so if left is in title then that one has a left label assigned to it (??). This would incoporate into the previous iteration of the CNN decently. \n",
    "\n",
    "Note in README, mention packages used, format of data to be inputted, the required version of tensorflow"
   ]
  },
  {
   "cell_type": "code",
   "execution_count": 5,
   "metadata": {},
   "outputs": [
    {
     "name": "stdout",
     "output_type": "stream",
     "text": [
      "total images first AKOA_Analysis\\OAI9062645_BaseLine_5_de3d1_SAG_3D_DESS_WE_LEFT.nii.gz_36.png\n",
      "total images first post shuffle AKOA_Analysis\\OAI9574271_BaseLine_5_de3d1_SAG_3D_DESS_WE_RIGHT.nii.gz_34.png\n"
     ]
    }
   ],
   "source": [
    "# this stuff should probs go into the driver script\n",
    "# Randomising the collection of images\n",
    "\n",
    "#total_images = list(data_dir.glob('*.png'))\n",
    "#print('total images first', total_images[1])\n",
    "#random.seed(87)\n",
    "#random.shuffle(total_images)\n",
    "#print('total images first post shuffle', total_images[1])\n",
    "#total_images = total_images[1:1000]\n",
    "\n",
    "# want to extract the labels for \n",
    "# Need to take a selection for training, testing and validation "
   ]
  },
  {
   "cell_type": "code",
   "execution_count": 15,
   "metadata": {},
   "outputs": [
    {
     "name": "stdout",
     "output_type": "stream",
     "text": [
      "(18680, 1)\n"
     ]
    }
   ],
   "source": [
    "# this stuff should probs go into the driver script\n",
    "#total_images_labels =np.array([None]*len(total_images))\n",
    "#left = [\"left\", \"l_e_f_t\"]\n",
    "#right = [\"right\", \"r_i_g_h_t\"]\n",
    "\n",
    "#for i in range(len(total_images)):\n",
    "#    path = total_images[i]\n",
    "#    # make path names all lowercase\n",
    "#    path = str(path).lower()\n",
    "#    #total_images_labels = total_images_labels.reshape((10023,1))\n",
    "#    # give labels for eahc case \n",
    "#    if any(x in path for x in left):\n",
    "#        total_images_labels[i] =0 #left\n",
    "#    elif any(x in path for x in right):\n",
    "#        total_images_labels[i] =1 #right\n",
    "#    else:\n",
    "#        print(total_images[i]) # print to screen any path names that aren't covered\n",
    "#total_images_labels = total_images_labels.reshape((len(total_images),1))\n",
    "\n",
    "#print(total_images_labels.shape)"
   ]
  },
  {
   "cell_type": "code",
   "execution_count": null,
   "metadata": {},
   "outputs": [],
   "source": [
    "#from PIL import Image\n",
    "#image = Image.open(total_images[4])\n",
    "\n",
    "#print('mode', image.mode)\n"
   ]
  },
  {
   "cell_type": "markdown",
   "metadata": {},
   "source": [
    "https://www.kaggle.com/abhmul/python-image-generator-tutorial <- loop at Input 19, shouldn't be too hard to convert what you have to this format\n",
    "https://colab.research.google.com/drive/1WnvxjwQaQzt5bhXbE2EVuFC8DG-59Gmu?usp=sharing\n",
    "https://towardsdatascience.com/10-minutes-to-building-a-cnn-binary-image-classifier-in-tensorflow-4e216b2034aa"
   ]
  },
  {
   "cell_type": "code",
   "execution_count": 32,
   "metadata": {},
   "outputs": [],
   "source": [
    "# this stuff should probs go into the driver script\n",
    "# read in all the images to the list \n",
    "\n",
    "# might be better to have this as an iterator/generator: checkout Assignments/Prac Notes/Coding Exercise\n",
    "#loaded_images = np.array([None]*len(total_images))\n",
    "\n",
    "#for i in range(len(total_images)):\n",
    "#    loaded_images[i] = cv2.resize(plt.imread(total_images[i]),(64,64)).reshape((1,64,64,3)) #may want to change this size"
   ]
  },
  {
   "cell_type": "code",
   "execution_count": 8,
   "metadata": {},
   "outputs": [
    {
     "name": "stdout",
     "output_type": "stream",
     "text": [
      "(18680,)\n",
      "(1, 64, 64, 3)\n",
      "(18680, 64, 64, 3)\n"
     ]
    }
   ],
   "source": [
    "# this stuff should probs go into the driver script\n",
    "#def conv_tensor(arg):\n",
    "#    arg = tf.convert_to_tensor(arg, dtype=tf.float32)\n",
    "#    return arg\n",
    "\n",
    "#fixing the shape of the images data\n",
    "#print(loaded_images.shape)\n",
    "#print(loaded_images[1].shape)\n",
    "\n",
    "#loaded_images =np.concatenate(loaded_images, axis=0)\n",
    "\n",
    "#print(loaded_images.shape)\n"
   ]
  },
  {
   "cell_type": "code",
   "execution_count": 9,
   "metadata": {
    "scrolled": true
   },
   "outputs": [
    {
     "name": "stdout",
     "output_type": "stream",
     "text": [
      "14010\n",
      "14010\n",
      "4670\n",
      "4670\n",
      "Sum left train 5841\n",
      "sum right train 8169\n",
      "Sum left test 1919\n",
      "sum right test 2751\n",
      "[0]\n"
     ]
    },
    {
     "data": {
      "image/png": "[encoded data removed]",
      "text/plain": [
       "<Figure size 432x288 with 1 Axes>"
      ]
     },
     "metadata": {
      "needs_background": "light"
     },
     "output_type": "display_data"
    }
   ],
   "source": [
    "# this stuff should probs go into the driver script\n",
    "\n",
    "\n",
    "#train_images, test_images, train_labels, test_labels = train_test_split(loaded_images,\n",
    "#                total_images_labels,test_size=0.25, random_state=101)\n",
    "#print(len(train_images))\n",
    "#print(len(train_labels))\n",
    "#print(len(test_images))\n",
    "#print(len(test_labels))\n",
    "\n",
    "#sum_train_left=0\n",
    "#sum_train_right=0\n",
    "#sum_test_left=0\n",
    "#sum_test_right=0\n",
    "#for i in range(len(train_labels)):\n",
    "    # make path names all lowercase\n",
    "#    if train_labels[i] ==0:\n",
    "#        sum_train_left +=1\n",
    "#    elif train_labels[i] ==1:\n",
    "#        sum_train_right +=1\n",
    "#for i in range(len(test_labels)):   \n",
    "#    if test_labels[i]==0:\n",
    "#        sum_test_left +=1\n",
    "#    elif test_labels[i]==1:\n",
    "#        sum_test_right+=1\n",
    "\n",
    "#print('Sum left train', sum_train_left)\n",
    "#print('sum right train', sum_train_right)\n",
    "#print('Sum left test', sum_test_left)\n",
    "#print('sum right test', sum_test_right) \n",
    "\n",
    "#plt.imshow(train_images[4])\n",
    "#print(train_labels[4])\n",
    "\n",
    "#train_images = conv_tensor(train_images)\n",
    "#test_images = conv_tensor(test_images)\n",
    "#train_labels = conv_tensor(train_labels)\n",
    "#test_labels = conv_tensor(test_labels)\n"
   ]
  },
  {
   "cell_type": "code",
   "execution_count": 10,
   "metadata": {
    "scrolled": true
   },
   "outputs": [
    {
     "name": "stdout",
     "output_type": "stream",
     "text": [
      "Model: \"sequential\"\n",
      "_________________________________________________________________\n",
      "Layer (type)                 Output Shape              Param #   \n",
      "=================================================================\n",
      "conv2d (Conv2D)              (None, 62, 62, 16)        448       \n",
      "_________________________________________________________________\n",
      "flatten (Flatten)            (None, 61504)             0         \n",
      "_________________________________________________________________\n",
      "dense (Dense)                (None, 128)               7872640   \n",
      "_________________________________________________________________\n",
      "dense_1 (Dense)              (None, 1)                 129       \n",
      "=================================================================\n",
      "Total params: 7,873,217\n",
      "Trainable params: 7,873,217\n",
      "Non-trainable params: 0\n",
      "_________________________________________________________________\n",
      "Train on 14010 samples, validate on 4670 samples\n",
      "Epoch 1/10\n",
      "14010/14010 [==============================] - 18s 1ms/sample - loss: 0.0807 - accuracy: 0.9799 - val_loss: 6.6407e-04 - val_accuracy: 1.0000\n",
      "Epoch 2/10\n",
      "14010/14010 [==============================] - 17s 1ms/sample - loss: 2.9046e-04 - accuracy: 1.0000 - val_loss: 1.7890e-04 - val_accuracy: 1.0000\n",
      "Epoch 3/10\n",
      "14010/14010 [==============================] - 17s 1ms/sample - loss: 9.6443e-05 - accuracy: 1.0000 - val_loss: 7.9015e-05 - val_accuracy: 1.0000\n",
      "Epoch 4/10\n",
      "14010/14010 [==============================] - 17s 1ms/sample - loss: 4.7350e-05 - accuracy: 1.0000 - val_loss: 4.6585e-05 - val_accuracy: 1.0000\n",
      "Epoch 5/10\n",
      "14010/14010 [==============================] - 17s 1ms/sample - loss: 2.7040e-05 - accuracy: 1.0000 - val_loss: 2.7792e-05 - val_accuracy: 1.0000\n",
      "Epoch 6/10\n",
      "14010/14010 [==============================] - 17s 1ms/sample - loss: 1.7086e-05 - accuracy: 1.0000 - val_loss: 1.8967e-05 - val_accuracy: 1.0000\n",
      "Epoch 7/10\n",
      "14010/14010 [==============================] - 17s 1ms/sample - loss: 1.1207e-05 - accuracy: 1.0000 - val_loss: 1.2962e-05 - val_accuracy: 1.0000\n",
      "Epoch 8/10\n",
      "14010/14010 [==============================] - 17s 1ms/sample - loss: 7.6004e-06 - accuracy: 1.0000 - val_loss: 9.7217e-06 - val_accuracy: 1.0000\n",
      "Epoch 9/10\n",
      "14010/14010 [==============================] - 17s 1ms/sample - loss: 5.4089e-06 - accuracy: 1.0000 - val_loss: 6.9178e-06 - val_accuracy: 1.0000\n",
      "Epoch 10/10\n",
      "14010/14010 [==============================] - 17s 1ms/sample - loss: 3.8980e-06 - accuracy: 1.0000 - val_loss: 5.1579e-06 - val_accuracy: 1.0000\n",
      "4670/4670 - 1s - loss: 5.1579e-06 - accuracy: 1.0000\n"
     ]
    },
    {
     "data": {
      "image/png": "[encoded data removed]",
      "text/plain": [
       "<Figure size 432x288 with 1 Axes>"
      ]
     },
     "metadata": {
      "needs_background": "light"
     },
     "output_type": "display_data"
    }
   ],
   "source": [
    "#Function for model\n",
    "def Classification(input_shape, )\n",
    "\"\"\"Model for binary classification \"\"\"\n",
    "    model = tf.keras.models.Sequential([\n",
    "        tf.keras.layers.Conv2D(16,(3,3), activation ='relu', input_shape = (64, 64, 3)),\n",
    "        #tf.keras.layers.Conv2D(128,(3,3), activation='relu',padding='same'),\n",
    "        #tf.keras.layers.MaxPooling2D((2,2)),\n",
    "        #tf.keras.layers.Dropout(0.25),\n",
    "\n",
    "        #tf.keras.layers.Conv2D(32,(3,3), activation='relu',padding='same'),\n",
    "        #tf.keras.layers.Conv2D(256,(3,3), activation='relu',padding='same'),\n",
    "        #tf.keras.layers.MaxPooling2D((2,2)),\n",
    "        #tf.keras.layers.Dropout(0.25),\n",
    "\n",
    "        #tf.keras.layers.Conv2D(64,(3,3), activation='relu',padding='same'),\n",
    "        #tf.keras.layers.MaxPooling2D((2,2)),\n",
    "\n",
    "        tf.keras.layers.Flatten(),\n",
    "        tf.keras.layers.Dense(128, activation='relu'),\n",
    "        #tf.keras.layers.Dropout(0.25),\n",
    "        tf.keras.layers.Dense(1, activation='sigmoid')\n",
    "    ])\n",
    "#activation sigmoid and corresponding loss function\n",
    "\n",
    "#this below stuff may end up going into the driver script ??\n",
    "model.summary()\n",
    "model.compile(loss='binary_crossentropy', optimizer='Adam', metrics =['accuracy'])\n",
    "\n",
    "#fit the keras model to the dataset\n",
    "history=model.fit(train_images,train_labels,batch_size=32, epochs=10, validation_data=(test_images, test_labels))\n",
    "\n",
    "plt.plot(history.history['accuracy'], label='accuracy')\n",
    "plt.plot(history.history['val_accuracy'], label = 'val_accuracy')\n",
    "plt.xlabel('Epoch')\n",
    "plt.ylabel('Accuracy')\n",
    "plt.ylim([0.0, 1])\n",
    "plt.legend(loc='lower right')\n",
    "\n",
    "plt.plot(history.history['loss'], label='loss')\n",
    "plt.xlabel('Epoch')\n",
    "plt.ylabel('Loss')\n",
    "plt.ylim([0.0, 1])\n",
    "plt.legend(loc='lower right')\n",
    "\n",
    "test_loss, test_accuracy = model.evaluate(test_images, test_labels, verbose=2)"
   ]
  },
  {
   "cell_type": "code",
   "execution_count": null,
   "metadata": {},
   "outputs": [],
   "source": []
  }
 ],
 "metadata": {
  "kernelspec": {
   "display_name": "Python 3",
   "language": "python",
   "name": "python3"
  },
  "language_info": {
   "codemirror_mode": {
    "name": "ipython",
    "version": 3
   },
   "file_extension": ".py",
   "mimetype": "text/x-python",
   "name": "python",
   "nbconvert_exporter": "python",
   "pygments_lexer": "ipython3",
   "version": "3.7.9"
  }
 },
 "nbformat": 4,
 "nbformat_minor": 4
}
