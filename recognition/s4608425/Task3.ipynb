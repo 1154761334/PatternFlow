{
 "cells": [
  {
   "cell_type": "code",
   "execution_count": 1,
   "metadata": {},
   "outputs": [],
   "source": [
    "import glob\n",
    "from PIL import Image\n",
    "import numpy as np\n",
    "import tensorflow as tf\n",
    "\n",
    "height=256\n",
    "width = 256\n",
    "Xvalues= list()\n",
    "files = glob.glob(\"C:/Users/s4608425/Downloads/ISIC2018_Task1-2_Training_Input_x2/*.jpg\")\n",
    "for filename in range(len(files)) :\n",
    "    img = np.array((Image.open(files[filename])).resize((height,width),Image.ANTIALIAS))\n",
    "    Xvalues.append(img)\n",
    "Xvalues=np.array(Xvalues)\n",
    "\n",
    "Yvalues= list()\n",
    "files= glob.glob(\"C:/Users/s4608425/Downloads/ISIC2018_Task1_Training_GroundTruth_x2/*.png\")\n",
    "for filename in range(len(files)) :\n",
    "    img = np.array((Image.open(files[filename])).resize((height,width),Image.ANTIALIAS))\n",
    "    Yvalues.append(img)\n",
    "Yvalues= np.expand_dims(a = np.array(Yvalues), axis= -1)\n",
    "Yvalues = np.around(Yvalues/255.0)\n",
    " \n"
   ]
  },
  {
   "cell_type": "code",
   "execution_count": 14,
   "metadata": {},
   "outputs": [],
   "source": [
    "import numpy as np\n",
    "import tensorflow \n",
    "from tensorflow import keras\n",
    "from tensorflow.keras import layers, Sequential,Model\n",
    "from tensorflow.keras.layers import Conv2D,UpSampling2D,concatenate,MaxPooling2D,Conv2DTranspose,LeakyReLU\n",
    "from sklearn.model_selection import train_test_split\n",
    "from MODEL import MODEL_implementation\n"
   ]
  },
  {
   "cell_type": "code",
   "execution_count": 15,
   "metadata": {},
   "outputs": [],
   "source": [
    "Xtrain, Xtest, Ytrain, Ytest = train_test_split(Xvalues, Yvalues, train_size=0.7, random_state=7)\n",
    "Xtest, Xval, Ytest, Yval = train_test_split(Xtrain, Ytrain, test_size=0.3, random_state=7)\n",
    "model = MODEL_implementation()\n"
   ]
  },
  {
   "cell_type": "code",
   "execution_count": 17,
   "metadata": {},
   "outputs": [],
   "source": [
    "model.compile(loss='binary_crossentropy',optimizer='adam',metrics=['accuracy'])"
   ]
  },
  {
   "cell_type": "code",
   "execution_count": 18,
   "metadata": {},
   "outputs": [
    {
     "name": "stdout",
     "output_type": "stream",
     "text": [
      "Train on 1815 samples, validate on 545 samples\n",
      "Epoch 1/10\n",
      "1815/1815 [==============================] - 93s 52ms/sample - loss: 280940.9958 - accuracy: 0.6719 - val_loss: 51.3003 - val_accuracy: 0.7401\n",
      "Epoch 2/10\n",
      "1815/1815 [==============================] - 83s 46ms/sample - loss: 17.5394 - accuracy: 0.7510 - val_loss: 10.1619 - val_accuracy: 0.8055\n",
      "Epoch 3/10\n",
      "1815/1815 [==============================] - 83s 46ms/sample - loss: 9.2419 - accuracy: 0.7677 - val_loss: 6.3668 - val_accuracy: 0.7728\n",
      "Epoch 4/10\n",
      "1815/1815 [==============================] - 84s 46ms/sample - loss: 6.0165 - accuracy: 0.7878 - val_loss: 4.4058 - val_accuracy: 0.8167\n",
      "Epoch 5/10\n",
      "1815/1815 [==============================] - 84s 46ms/sample - loss: 4.3116 - accuracy: 0.8031 - val_loss: 3.7729 - val_accuracy: 0.7450\n",
      "Epoch 6/10\n",
      "1815/1815 [==============================] - 84s 46ms/sample - loss: 2.9333 - accuracy: 0.8305 - val_loss: 2.9076 - val_accuracy: 0.8351\n",
      "Epoch 7/10\n",
      "1815/1815 [==============================] - 84s 46ms/sample - loss: 2.5622 - accuracy: 0.8225 - val_loss: 2.3197 - val_accuracy: 0.7604\n",
      "Epoch 8/10\n",
      "1815/1815 [==============================] - 84s 46ms/sample - loss: 2.0127 - accuracy: 0.8293 - val_loss: 1.7437 - val_accuracy: 0.7981\n",
      "Epoch 9/10\n",
      "1815/1815 [==============================] - 84s 46ms/sample - loss: 1.5204 - accuracy: 0.8414 - val_loss: 1.5070 - val_accuracy: 0.8077\n",
      "Epoch 10/10\n",
      "1815/1815 [==============================] - 84s 46ms/sample - loss: 1.2710 - accuracy: 0.8404 - val_loss: 1.1371 - val_accuracy: 0.8619\n"
     ]
    }
   ],
   "source": [
    "modelOutput = model.fit(Xtrain, Ytrain, batch_size=9, epochs=10, validation_data = (Xval, Yval))"
   ]
  },
  {
   "cell_type": "code",
   "execution_count": null,
   "metadata": {},
   "outputs": [],
   "source": []
  }
 ],
 "metadata": {
  "kernelspec": {
   "display_name": "Python 3",
   "language": "python",
   "name": "python3"
  },
  "language_info": {
   "codemirror_mode": {
    "name": "ipython",
    "version": 3
   },
   "file_extension": ".py",
   "mimetype": "text/x-python",
   "name": "python",
   "nbconvert_exporter": "python",
   "pygments_lexer": "ipython3",
   "version": "3.7.7"
  }
 },
 "nbformat": 4,
 "nbformat_minor": 4
}
