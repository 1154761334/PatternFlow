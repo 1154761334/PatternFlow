{
 "cells": [
  {
   "cell_type": "code",
   "execution_count": null,
   "metadata": {},
   "outputs": [],
   "source": [
    "import glob\n",
    "from PIL import Image\n",
    "import numpy as np\n",
    "import tensorflow as tf\n",
    "\n",
    "height=256\n",
    "width = 256\n",
    "Xvalues= []\n",
    "files = glob.glob(\"C:/Users/s4608425/Downloads/ISIC2018_Task1-2_Training_Input_x2/*.jpg\")\n",
    "for filename in range(len(files)) :\n",
    "    img = np.array((Image.open(files[filename])).resize((height,width),Image.ANTIALIAS))\n",
    "    Xvalues.append(img)\n",
    "Xvalues=np.array(Xvalues)\n",
    "\n",
    "Yvalues= []\n",
    "files= glob.glob(\"C:/Users/s4608425/Downloads/ISIC2018_Task1_Training_GroundTruth_x2/*.png\")\n",
    "for filename in range(len(files)) :\n",
    "    img = np.array((Image.open(files[filename])).resize((height,width),Image.ANTIALIAS))\n",
    "    Yvalues.append(img)\n",
    "Yvalues= np.expand_dims(a = np.array(Yvalues), axis= -1)\n",
    "Yvalues = np.around(Yvalues/255.0)"
   ]
  }
 ],
 "metadata": {
  "kernelspec": {
   "display_name": "Python 3",
   "language": "python",
   "name": "python3"
  },
  "language_info": {
   "codemirror_mode": {
    "name": "ipython",
    "version": 3
   },
   "file_extension": ".py",
   "mimetype": "text/x-python",
   "name": "python",
   "nbconvert_exporter": "python",
   "pygments_lexer": "ipython3",
   "version": "3.7.7"
  }
 },
 "nbformat": 4,
 "nbformat_minor": 4
}
