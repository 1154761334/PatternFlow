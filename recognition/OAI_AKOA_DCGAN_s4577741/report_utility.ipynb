{
  "nbformat": 4,
  "nbformat_minor": 0,
  "metadata": {
    "colab": {
      "name": "report_utility.ipynb",
      "provenance": [],
      "authorship_tag": "ABX9TyMT+O0YRnKMH6wXEde50eh8",
      "include_colab_link": true
    },
    "kernelspec": {
      "name": "python3",
      "display_name": "Python 3"
    }
  },
  "cells": [
    {
      "cell_type": "markdown",
      "metadata": {
        "id": "view-in-github",
        "colab_type": "text"
      },
      "source": [
        "<a href=\"https://colab.research.google.com/github/MajorRedux/PatternFlow/blob/topic-recognition/recognition/OAI_AKOA_DCGAN_s4577741/report_utility.ipynb\" target=\"_parent\"><img src=\"https://colab.research.google.com/assets/colab-badge.svg\" alt=\"Open In Colab\"/></a>"
      ]
    },
    {
      "cell_type": "markdown",
      "metadata": {
        "id": "JGyY4CgGHHVP"
      },
      "source": [
        "# **Report Utility Functions**"
      ]
    },
    {
      "cell_type": "code",
      "metadata": {
        "id": "T4ihZeZ-KCOy"
      },
      "source": [
        "# imports\n",
        "from keras.optimizers import Nadam"
      ],
      "execution_count": 8,
      "outputs": []
    },
    {
      "cell_type": "code",
      "metadata": {
        "id": "TsV3NSFqYOxc"
      },
      "source": [
        "## optimizer\n",
        "# standard parameters - learning rate 0.0002 gives good results\n",
        "_optimizer = Nadam(learning_rate=0.0002, beta_1=0.9, beta_2=0.999, epsilon=1e-07)\n",
        "_kernel_initializer = 'he_uniform'\n",
        "_activation = 'selu'"
      ],
      "execution_count": 9,
      "outputs": []
    },
    {
      "cell_type": "code",
      "metadata": {
        "id": "rboCH7mEHE-j",
        "outputId": "99728f68-839a-4c68-e58d-16ff96b3672f",
        "colab": {
          "base_uri": "https://localhost:8080/",
          "height": 34
        }
      },
      "source": [
        "# Generator generates new data instances that are similar to training data. Generator takes random latent vector and outputs fake image of the same size as reshaped AKOA image\n",
        "%%writefile report_utility\n",
        "def build_generator(img_shape, noise_shape = (100,)):\n",
        "    '''\n",
        "    noise_shape : the dimension of the input vector for the generator\n",
        "    img_shape   : the dimension of the output\n",
        "    '''\n",
        "\n",
        "    ## latent variable as input\n",
        "    input_noise = layers.Input(shape=noise_shape) \n",
        "    net = layers.Dense(256, activation=_activation, kernel_initializer=_kernel_initializer)(input_noise)\n",
        "    #net = layers.Dense(256, activation=_activation, kernel_initializer=_kernel_initializer)(input_noise) \n",
        "    net = layers.Dense(1*65*57, activation=_activation)(net)\n",
        "    net = layers.Reshape((65,57,1))(net)\n",
        "    \n",
        "    net = layers.Conv2DTranspose(128, kernel_size=(2,2) ,  strides=(2,2) , use_bias=False)(net)\n",
        "    net = layers.Conv2D( 16  , ( 1 , 1 ) , activation=_activation, kernel_initializer=_kernel_initializer , padding='same', name=\"block_4_1\", dilation_rate=(1, 1))(d) ## 16,16\n",
        "    net = layers.Conv2D( 16  , ( 1 , 1 ) , activation=_activation, kernel_initializer=_kernel_initializer , padding='same', name=\"block_4_2\", dilation_rate=(2, 2))(d) ## 16,16\n",
        "\n",
        "    net = layers.Conv2DTranspose(64, kernel_size=(2,2) ,  strides=(2,2) , use_bias=False)(net)\n",
        "    net = layers.Conv2D( 32  , ( 1 , 1 ) , activation=_activation, kernel_initializer=_kernel_initializer , padding='same', name=\"block_5_1\", dilation_rate=(1, 1))(d) ## 32,32\n",
        "    net = layers.Conv2D( 32  , ( 1 , 1 ) , activation=_activation, kernel_initializer=_kernel_initializer , padding='same', name=\"block_5_2\", dilation_rate=(2, 2))(d) ## 32,32\n",
        "\n",
        "    if img_shape[0] == 64:\n",
        "        net = layers.Conv2DTranspose(64, kernel_size=(2,2) ,  strides=(2,2) , use_bias=False)(net)\n",
        "        net = layers.Conv2D( 64  , ( 1 , 1 ) , activation=_activation, kernel_initializer=_kernel_initializer , padding='same', name=\"block_8_1\", dilation_rate=(1, 1))(d) ## 64,64\n",
        "        net = layers.Conv2D( 64  , ( 1 , 1 ) , activation=_activation, kernel_initializer=_kernel_initializer , padding='same', name=\"block_8_2\", dilation_rate=(2, 2))(d) ## 64,64\n",
        "    \n",
        "    img = layers.Conv2D( 3 , ( 1 , 1 ) , activation='sigmoid' , padding='same', name=\"final_block\")(d) ## 32, 32\n",
        "    model = models.Model(input_noise, img)\n",
        "    model.summary() \n",
        "    return(model)"
      ],
      "execution_count": 10,
      "outputs": [
        {
          "output_type": "stream",
          "text": [
            "Overwriting report_utility\n"
          ],
          "name": "stdout"
        }
      ]
    },
    {
      "cell_type": "code",
      "metadata": {
        "id": "bGFM7HvtYhU0"
      },
      "source": [
        ""
      ],
      "execution_count": null,
      "outputs": []
    }
  ]
}