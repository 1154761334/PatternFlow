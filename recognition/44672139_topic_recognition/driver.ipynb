{
 "cells": [
  {
   "cell_type": "code",
   "execution_count": 5,
   "metadata": {},
   "outputs": [
    {
     "name": "stdout",
     "output_type": "stream",
     "text": [
      "Size of training set: 1816\n",
      "Size of validation set: 389\n",
      "2594\n",
      "2594\n",
      "2594\n"
     ]
    }
   ],
   "source": [
    "import tensorflow as tf\n",
    "import matplotlib.pyplot as plt\n",
    "import numpy as np\n",
    "import glob\n",
    "import www\n",
    "\n",
    "\n",
    "masks = sorted(glob.glob(\"D:/ISIC2018_Task1_Training_GroundTruth_x2/*.png\"))\n",
    "files = sorted(glob.glob(\"D:/ISIC2018_Task1-2_Training_Input_x2/*.jpg\"))\n",
    "\n",
    "train_images, train_masks, val_masks, val_images, test_masks, test_images = www.split_data(files, masks, 0.2, 0.5)\n",
    "\n",
    "print('Size of training set:', len(train_images))\n",
    "print('Size of validation set:', len(val_images))\n",
    "print('Size of test set:', len(test_images))\n",
    "\n",
    "train_data = www.shuffle_map_data(train_images, train_masks)\n",
    "val_data = www.shuffle_map_data(val_images, val_masks)\n",
    "test_data = www.shuffle_map_data(test_images, test_masks)\n",
    "\n"
   ]
  },
  {
   "cell_type": "code",
   "execution_count": null,
   "metadata": {},
   "outputs": [],
   "source": []
  }
 ],
 "metadata": {
  "kernelspec": {
   "display_name": "Python 3",
   "language": "python",
   "name": "python3"
  },
  "language_info": {
   "codemirror_mode": {
    "name": "ipython",
    "version": 3
   },
   "file_extension": ".py",
   "mimetype": "text/x-python",
   "name": "python",
   "nbconvert_exporter": "python",
   "pygments_lexer": "ipython3",
   "version": "3.7.6"
  }
 },
 "nbformat": 4,
 "nbformat_minor": 4
}
