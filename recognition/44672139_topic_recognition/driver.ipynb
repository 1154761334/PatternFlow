{
 "cells": [
  {
   "cell_type": "code",
   "execution_count": 5,
   "metadata": {},
   "outputs": [
    {
     "name": "stdout",
     "output_type": "stream",
     "text": [
      "Size of training set: 1816\n",
      "Size of validation set: 389\n",
      "2594\n",
      "2594\n",
      "2594\n"
     ]
    }
   ],
   "source": [
    "import tensorflow as tf\n",
    "import matplotlib.pyplot as plt\n",
    "import numpy as np\n",
    "import glob\n",
    "import helper\n",
    "\n",
    "\n",
    "masks = sorted(glob.glob(\"D:/ISIC2018_Task1_Training_GroundTruth_x2/*.png\"))\n",
    "files = sorted(glob.glob(\"D:/ISIC2018_Task1-2_Training_Input_x2/*.jpg\"))\n",
    "\n",
    "train_images, train_masks, val_masks, val_images, test_masks, test_images = helper.split_data(files, masks, 0.2, 0.5)\n",
    "\n",
    "print('Size of training set:', len(train_images))\n",
    "print('Size of validation set:', len(val_images))\n",
    "print('Size of test set:', len(test_images))\n",
    "\n",
    "train_data = helper.shuffle_map_data(train_images, train_masks)\n",
    "val_data = helper.shuffle_map_data(val_images, val_masks)\n",
    "test_data = helper.shuffle_map_data(test_images, test_masks)\n",
    "\n",
    "#visualise data    \n",
    "#for image, mask in train_data.take(1):\n",
    "#    helperdisplay([tf.squeeze(image), tf.argmax(mask, axis=-1)])\n",
    "    \n",
    "#for image, mask in train_data.take(1):\n",
    " #   print(mask)\n",
    "    \n",
    "        \n",
    "model = helper.unet_model(2, f=4)\n",
    "model.compile(optimizer='adam',\n",
    "             loss ='categorical_crossentropy',\n",
    "             metrics=[helper.dice_coef, 'accuracy'])\n",
    "\n",
    "\n",
    "helper.predictions(val_data, model)\n",
    "    "
   ]
  },
  {
   "cell_type": "code",
   "execution_count": null,
   "metadata": {},
   "outputs": [],
   "source": [
    "history = model.fit(train_data.batch(32), epochs = 5, validation_data = val_data.batch(32))"
   ]
  },
  {
   "cell_type": "code",
   "execution_count": null,
   "metadata": {},
   "outputs": [],
   "source": [
    "helper.predictions(val_data, model)"
   ]
  },
  {
   "cell_type": "code",
   "execution_count": null,
   "metadata": {},
   "outputs": [],
   "source": [
    "loss = history.history['loss']\n",
    "val_loss = history.history['val_loss']\n",
    "\n",
    "epochs = range(5)\n",
    "\n",
    "plt.figure()\n",
    "plt.plot(epochs, loss, 'r', label='Training loss')\n",
    "plt.plot(epochs, val_loss, 'bo', label='Validation loss')\n",
    "plt.title('Training and Validation Loss')\n",
    "plt.xlabel('Epoch')\n",
    "plt.ylabel('Loss Value')\n",
    "plt.ylim([0, 1])\n",
    "plt.legend()\n",
    "plt.show()"
   ]
  }
 ],
 "metadata": {
  "kernelspec": {
   "display_name": "Python 3",
   "language": "python",
   "name": "python3"
  },
  "language_info": {
   "codemirror_mode": {
    "name": "ipython",
    "version": 3
   },
   "file_extension": ".py",
   "mimetype": "text/x-python",
   "name": "python",
   "nbconvert_exporter": "python",
   "pygments_lexer": "ipython3",
   "version": "3.7.6"
  }
 },
 "nbformat": 4,
 "nbformat_minor": 4
}
