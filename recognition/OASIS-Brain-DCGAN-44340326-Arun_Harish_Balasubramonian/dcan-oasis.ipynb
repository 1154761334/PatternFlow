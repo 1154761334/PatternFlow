{
 "cells": [
  {
   "cell_type": "code",
   "execution_count": 17,
   "metadata": {},
   "outputs": [],
   "source": [
    "from tensorflow.keras import layers\n",
    "import matplotlib.pyplot as plt\n",
    "import matplotlib.image as mpimg\n",
    "from os import listdir, path"
   ]
  },
  {
   "cell_type": "code",
   "execution_count": 4,
   "metadata": {},
   "outputs": [],
   "source": [
    "DATASET = \"dataset\"\n",
    "TRAINSET = \"{0}/keras_png_slices_train\".format(DATASET)\n",
    "TESTSET = \"{0}/keras_png_slices_test\".format(DATASET)"
   ]
  },
  {
   "cell_type": "code",
   "execution_count": 23,
   "metadata": {},
   "outputs": [],
   "source": [
    "def train_set():\n",
    "    trainDataset = []\n",
    "    for i in listdir(TRAINSET):\n",
    "        source = \"{}/{}\".format(TRAINSET, i)\n",
    "        trainDataset.append(\n",
    "            mpimg.imread(source)\n",
    "        )\n",
    "    return trainDataset\n",
    "\n",
    "def test_set():\n",
    "    testDataset = []\n",
    "    for i in listdir(TESTSET):\n",
    "        source = \"{}/{}\".format(TESTSET, i)\n",
    "        testDataset.append(\n",
    "            mpimg.imread(source)\n",
    "        )\n",
    "    return testDataset"
   ]
  },
  {
   "cell_type": "code",
   "execution_count": 19,
   "metadata": {},
   "outputs": [],
   "source": [
    "trainDataset = train_set()"
   ]
  },
  {
   "cell_type": "code",
   "execution_count": 24,
   "metadata": {},
   "outputs": [],
   "source": [
    "testDataset = test_set()"
   ]
  },
  {
   "cell_type": "code",
   "execution_count": null,
   "metadata": {},
   "outputs": [],
   "source": []
  }
 ],
 "metadata": {
  "kernelspec": {
   "display_name": ".env",
   "language": "python",
   "name": ".env"
  },
  "language_info": {
   "codemirror_mode": {
    "name": "ipython",
    "version": 3
   },
   "file_extension": ".py",
   "mimetype": "text/x-python",
   "name": "python",
   "nbconvert_exporter": "python",
   "pygments_lexer": "ipython3",
   "version": "3.8.5"
  }
 },
 "nbformat": 4,
 "nbformat_minor": 4
}
