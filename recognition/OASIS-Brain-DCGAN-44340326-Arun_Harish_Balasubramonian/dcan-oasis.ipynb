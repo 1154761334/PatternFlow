{
 "cells": [
  {
   "cell_type": "code",
   "execution_count": 1,
   "metadata": {},
   "outputs": [],
   "source": [
    "import tensorflow as tf\n",
    "from tensorflow.keras import layers\n",
    "import matplotlib.pyplot as plt\n",
    "import matplotlib.image as mpimg\n",
    "from os import listdir, path\n",
    "from time import time"
   ]
  },
  {
   "cell_type": "code",
   "execution_count": 2,
   "metadata": {},
   "outputs": [],
   "source": [
    "DATASET = \"dataset\"\n",
    "TRAINSET = \"{0}/keras_png_slices_train\".format(DATASET)\n",
    "TESTSET = \"{0}/keras_png_slices_test\".format(DATASET)\n",
    "BATCH_SIZE = 90\n",
    "EPOCH = 1\n",
    "NOISE_INPUT_DIM = 64"
   ]
  },
  {
   "cell_type": "code",
   "execution_count": 3,
   "metadata": {},
   "outputs": [],
   "source": [
    "def train_set():\n",
    "    train_dataset = []\n",
    "    for i in listdir(TRAINSET):\n",
    "        source = \"{}/{}\".format(TRAINSET, i)\n",
    "        train_dataset.append(\n",
    "            mpimg.imread(source)\n",
    "        )\n",
    "    return train_dataset\n",
    "\n",
    "def test_set():\n",
    "    test_dataset = []\n",
    "    for i in listdir(TESTSET):\n",
    "        source = \"{}/{}\".format(TESTSET, i)\n",
    "        test_dataset.append(\n",
    "            mpimg.imread(source)\n",
    "        )\n",
    "    return test_dataset"
   ]
  },
  {
   "cell_type": "code",
   "execution_count": 4,
   "metadata": {},
   "outputs": [],
   "source": [
    "train_dataset = train_set()"
   ]
  },
  {
   "cell_type": "code",
   "execution_count": 9,
   "metadata": {},
   "outputs": [
    {
     "name": "stdout",
     "output_type": "stream",
     "text": [
      "1.0\n"
     ]
    }
   ],
   "source": [
    "maxvalue = 1\n",
    "for m in range(1000):\n",
    "    for i in range(256):\n",
    "        for j in range(256):\n",
    "            value = train_dataset[m][i][j]\n",
    "            maxvalue = max(value, maxvalue)\n",
    "print(maxvalue)"
   ]
  },
  {
   "cell_type": "code",
   "execution_count": null,
   "metadata": {},
   "outputs": [],
   "source": [
    "test_dataset = test_set()"
   ]
  },
  {
   "cell_type": "code",
   "execution_count": 5,
   "metadata": {},
   "outputs": [],
   "source": [
    "cross_entropy = tf.keras.losses.BinaryCrossentropy(from_logits=True)"
   ]
  },
  {
   "cell_type": "code",
   "execution_count": 6,
   "metadata": {},
   "outputs": [],
   "source": [
    "# Build the generator model\n",
    "def generator_model():\n",
    "    model = tf.keras.Sequential()\n",
    "    model.add(layers.Dense(4*4*256, use_bias=False, input_shape=(NOISE_INPUT_DIM,)))\n",
    "    model.add(layers.BatchNormalization())\n",
    "    model.add(layers.Reshape((4, 4, 256)))\n",
    "    \n",
    "    model.add(layers.Conv2DTranspose(128, (5, 5), strides=(1, 1), padding=\"same\", activation=\"relu\"))\n",
    "    model.add(layers.BatchNormalization())\n",
    "    \n",
    "    \n",
    "    model.add(layers.Conv2DTranspose(8, (5, 5), strides=(2,2 ), padding=\"same\", activation=\"relu\"))\n",
    "    model.add(layers.BatchNormalization())\n",
    "    \n",
    "    \n",
    "    model.add(layers.Conv2DTranspose(16, (32, 32), strides=(8,8), padding=\"same\", activation=\"relu\"))\n",
    "    model.add(layers.BatchNormalization())\n",
    "    \n",
    "    model.add(layers.Conv2DTranspose(1, (32, 32), strides=(4, 4), padding=\"same\",activation=\"tanh\"))\n",
    "    return model\n",
    "    "
   ]
  },
  {
   "cell_type": "code",
   "execution_count": 7,
   "metadata": {},
   "outputs": [],
   "source": [
    "def generator_loss_func(output):\n",
    "    return cross_entropy(tf.ones_like(output), output)"
   ]
  },
  {
   "cell_type": "code",
   "execution_count": 8,
   "metadata": {},
   "outputs": [],
   "source": [
    "def generator_optimiser():\n",
    "    return tf.keras.optimizers.Adam(1e-4)"
   ]
  },
  {
   "cell_type": "code",
   "execution_count": 9,
   "metadata": {},
   "outputs": [],
   "source": [
    "# Build the discriminator model\n",
    "def discriminator_model():\n",
    "    model = tf.keras.Sequential()\n",
    "    model.add(layers.Conv2D(64, (5, 5), strides=(5, 5), padding=\"same\", input_shape=[256, 256, 1]))\n",
    "    model.add(layers.LeakyReLU())\n",
    "    model.add(layers.Dropout(0.3))\n",
    "    \n",
    "    model.add(layers.Conv2D(128, (5,5), strides=(5, 5), padding=\"same\"))\n",
    "    model.add(layers.LeakyReLU())\n",
    "    model.add(layers.Dropout(0.3))\n",
    "    \n",
    "    model.add(layers.Conv2D(64, (5, 5), strides=(5, 5), padding=\"same\"))\n",
    "    model.add(layers.LeakyReLU())\n",
    "    model.add(layers.Dropout(0.25))\n",
    "    \n",
    "    model.add(layers.Flatten())\n",
    "    model.add(layers.Dense(1))\n",
    "    model.add(layers.Activation(tf.keras.activations.sigmoid))\n",
    "    return model"
   ]
  },
  {
   "cell_type": "code",
   "execution_count": 10,
   "metadata": {},
   "outputs": [],
   "source": [
    "def discriminator_loss_func(ro, fo):\n",
    "    real_loss = cross_entropy(tf.ones_like(ro), ro)\n",
    "    fake_loss = cross_entropy(tf.zeros_like(fo), fo)\n",
    "    return real_loss + fake_loss"
   ]
  },
  {
   "cell_type": "code",
   "execution_count": 11,
   "metadata": {},
   "outputs": [],
   "source": [
    "def discriminator_optimiser():\n",
    "    return tf.keras.optimizers.Adam(1e-4)"
   ]
  },
  {
   "cell_type": "code",
   "execution_count": 12,
   "metadata": {
    "tags": []
   },
   "outputs": [],
   "source": [
    "generator = generator_model()"
   ]
  },
  {
   "cell_type": "code",
   "execution_count": 13,
   "metadata": {},
   "outputs": [],
   "source": [
    "discriminator = discriminator_model()"
   ]
  },
  {
   "cell_type": "code",
   "execution_count": 14,
   "metadata": {},
   "outputs": [],
   "source": [
    "generator_optmiser_func = generator_optimiser()\n",
    "discriminator_optimiser_func = discriminator_optimiser()"
   ]
  },
  {
   "cell_type": "code",
   "execution_count": 15,
   "metadata": {},
   "outputs": [],
   "source": [
    "@tf.function\n",
    "def training(images):\n",
    "    input_noise_set = tf.random.normal([BATCH_SIZE, NOISE_INPUT_DIM])\n",
    "    with tf.GradientTape() as generator_tape, tf.GradientTape() as discriminator_tape:\n",
    "        # Training the generator\n",
    "        generated_image = generator(input_noise_set, training=True)\n",
    "        output_real = discriminator(images, training=True)\n",
    "        output_fake = discriminator(generated_image, training=True)\n",
    "        # Get the loss of the generator and discriminator\n",
    "        generator_current_loss = generator_loss_func(output_fake)\n",
    "        # The discriminator loss involves both the real data and the fake noisy data \n",
    "        # This is so that discriminator would get better at identifying the noisy data\n",
    "        # along with the real training data set\n",
    "        discriminator_current_loss = discriminator_loss_func(output_real, output_fake)\n",
    "    \n",
    "    generator_gradient = generator_tape.gradient(generator_current_loss, generator.trainable_variables)\n",
    "    discriminator_gradient = discriminator_tape.gradient(discriminator_current_loss, discriminator.trainable_variables)\n",
    "    \n",
    "    # Apply gradient optmised to both generator and discriminator\n",
    "    generator_optmiser_func.apply_gradients(zip(generator_gradient, generator.trainable_variables))\n",
    "    discriminator_optimiser_func.apply_gradients(zip(discriminator_gradient, discriminator.trainable_variables))"
   ]
  },
  {
   "cell_type": "code",
   "execution_count": 16,
   "metadata": {},
   "outputs": [],
   "source": [
    "def train_model():\n",
    "    for i in range(EPOCH):\n",
    "        start_time = time()\n",
    "        for idx in range(4500):\n",
    "            image_dataset = train_dataset[idx]\n",
    "            expanded_image_dataset = tf.expand_dims(image_dataset, axis=0)\n",
    "            expanded_image_dataset = tf.expand_dims(expanded_image_dataset, axis=-1)\n",
    "            training(expanded_image_dataset)\n",
    "        if i % 5 == 0:\n",
    "            # Every fifth epoch save the model\n",
    "            generator.save(\"./generator\")\n",
    "            discriminator.save(\"./discriminator\")\n",
    "        print (\"EPOCH iteration {} took {} seconds\".format(i + 1, time() - start_time))\n",
    "    generator.save(\"./generator\")\n",
    "    discriminator.save(\"./discriminator\")"
   ]
  },
  {
   "cell_type": "code",
   "execution_count": null,
   "metadata": {
    "scrolled": false
   },
   "outputs": [],
   "source": [
    "with tf.device(\"/device:GPU:0\"):\n",
    "    train_model()"
   ]
  },
  {
   "cell_type": "code",
   "execution_count": 4,
   "metadata": {},
   "outputs": [
    {
     "name": "stdout",
     "output_type": "stream",
     "text": [
      "WARNING:tensorflow:Inconsistent references when loading the checkpoint into this object graph. Either the Trackable object references in the Python program have changed in an incompatible way, or the checkpoint was generated in an incompatible program.\n",
      "\n",
      "Two checkpoint references resolved to different objects (<tensorflow.python.keras.layers.core.Dense object at 0x7f27686d4220> and <tensorflow.python.keras.layers.normalization_v2.BatchNormalization object at 0x7f27686d4880>).\n",
      "WARNING:tensorflow:Inconsistent references when loading the checkpoint into this object graph. Either the Trackable object references in the Python program have changed in an incompatible way, or the checkpoint was generated in an incompatible program.\n",
      "\n",
      "Two checkpoint references resolved to different objects (<tensorflow.python.keras.layers.normalization_v2.BatchNormalization object at 0x7f27686d4880> and <tensorflow.python.keras.layers.core.Reshape object at 0x7f27686a64f0>).\n",
      "WARNING:tensorflow:Inconsistent references when loading the checkpoint into this object graph. Either the Trackable object references in the Python program have changed in an incompatible way, or the checkpoint was generated in an incompatible program.\n",
      "\n",
      "Two checkpoint references resolved to different objects (<tensorflow.python.keras.layers.convolutional.Conv2DTranspose object at 0x7f27686a66d0> and <tensorflow.python.keras.layers.normalization_v2.BatchNormalization object at 0x7f27686b0040>).\n",
      "WARNING:tensorflow:Inconsistent references when loading the checkpoint into this object graph. Either the Trackable object references in the Python program have changed in an incompatible way, or the checkpoint was generated in an incompatible program.\n",
      "\n",
      "Two checkpoint references resolved to different objects (<tensorflow.python.keras.layers.normalization_v2.BatchNormalization object at 0x7f27686b0040> and <tensorflow.python.keras.layers.convolutional.Conv2DTranspose object at 0x7f27686b0d60>).\n",
      "WARNING:tensorflow:Inconsistent references when loading the checkpoint into this object graph. Either the Trackable object references in the Python program have changed in an incompatible way, or the checkpoint was generated in an incompatible program.\n",
      "\n",
      "Two checkpoint references resolved to different objects (<tensorflow.python.keras.layers.convolutional.Conv2DTranspose object at 0x7f27686b0d60> and <tensorflow.python.keras.layers.normalization_v2.BatchNormalization object at 0x7f27686b56a0>).\n",
      "WARNING:tensorflow:Inconsistent references when loading the checkpoint into this object graph. Either the Trackable object references in the Python program have changed in an incompatible way, or the checkpoint was generated in an incompatible program.\n",
      "\n",
      "Two checkpoint references resolved to different objects (<tensorflow.python.keras.layers.normalization_v2.BatchNormalization object at 0x7f27686b56a0> and <tensorflow.python.keras.layers.convolutional.Conv2DTranspose object at 0x7f276863a400>).\n",
      "WARNING:tensorflow:Inconsistent references when loading the checkpoint into this object graph. Either the Trackable object references in the Python program have changed in an incompatible way, or the checkpoint was generated in an incompatible program.\n",
      "\n",
      "Two checkpoint references resolved to different objects (<tensorflow.python.keras.layers.convolutional.Conv2DTranspose object at 0x7f276863a400> and <tensorflow.python.keras.layers.normalization_v2.BatchNormalization object at 0x7f276863ad00>).\n",
      "WARNING:tensorflow:Inconsistent references when loading the checkpoint into this object graph. Either the Trackable object references in the Python program have changed in an incompatible way, or the checkpoint was generated in an incompatible program.\n",
      "\n",
      "Two checkpoint references resolved to different objects (<tensorflow.python.keras.layers.normalization_v2.BatchNormalization object at 0x7f276863ad00> and <tensorflow.python.keras.layers.convolutional.Conv2DTranspose object at 0x7f2768640a60>).\n",
      "WARNING:tensorflow:Inconsistent references when loading the checkpoint into this object graph. Either the Trackable object references in the Python program have changed in an incompatible way, or the checkpoint was generated in an incompatible program.\n",
      "\n",
      "Two checkpoint references resolved to different objects (<tensorflow.python.keras.layers.convolutional.Conv2DTranspose object at 0x7f27686a66d0> and <tensorflow.python.keras.layers.core.Reshape object at 0x7f27686a64f0>).\n",
      "WARNING:tensorflow:No training configuration found in save file, so the model was *not* compiled. Compile it manually.\n",
      "WARNING:tensorflow:Inconsistent references when loading the checkpoint into this object graph. Either the Trackable object references in the Python program have changed in an incompatible way, or the checkpoint was generated in an incompatible program.\n",
      "\n",
      "Two checkpoint references resolved to different objects (<tensorflow.python.keras.layers.convolutional.Conv2D object at 0x7f2768399c40> and <tensorflow.python.keras.layers.advanced_activations.LeakyReLU object at 0x7f27683aaa30>).\n",
      "WARNING:tensorflow:Inconsistent references when loading the checkpoint into this object graph. Either the Trackable object references in the Python program have changed in an incompatible way, or the checkpoint was generated in an incompatible program.\n",
      "\n",
      "Two checkpoint references resolved to different objects (<tensorflow.python.keras.layers.convolutional.Conv2D object at 0x7f27683aafd0> and <tensorflow.python.keras.layers.advanced_activations.LeakyReLU object at 0x7f27683b4940>).\n",
      "WARNING:tensorflow:Inconsistent references when loading the checkpoint into this object graph. Either the Trackable object references in the Python program have changed in an incompatible way, or the checkpoint was generated in an incompatible program.\n",
      "\n",
      "Two checkpoint references resolved to different objects (<tensorflow.python.keras.layers.convolutional.Conv2D object at 0x7f27683b4ee0> and <tensorflow.python.keras.layers.advanced_activations.LeakyReLU object at 0x7f276833b850>).\n",
      "WARNING:tensorflow:Inconsistent references when loading the checkpoint into this object graph. Either the Trackable object references in the Python program have changed in an incompatible way, or the checkpoint was generated in an incompatible program.\n",
      "\n",
      "Two checkpoint references resolved to different objects (<tensorflow.python.keras.layers.core.Dropout object at 0x7f27683aad90> and <tensorflow.python.keras.layers.advanced_activations.LeakyReLU object at 0x7f27683aaa30>).\n",
      "WARNING:tensorflow:Inconsistent references when loading the checkpoint into this object graph. Either the Trackable object references in the Python program have changed in an incompatible way, or the checkpoint was generated in an incompatible program.\n",
      "\n",
      "Two checkpoint references resolved to different objects (<tensorflow.python.keras.layers.convolutional.Conv2D object at 0x7f27683aafd0> and <tensorflow.python.keras.layers.core.Dropout object at 0x7f27683aad90>).\n",
      "WARNING:tensorflow:Inconsistent references when loading the checkpoint into this object graph. Either the Trackable object references in the Python program have changed in an incompatible way, or the checkpoint was generated in an incompatible program.\n",
      "\n",
      "Two checkpoint references resolved to different objects (<tensorflow.python.keras.layers.core.Dropout object at 0x7f27683b4ca0> and <tensorflow.python.keras.layers.advanced_activations.LeakyReLU object at 0x7f27683b4940>).\n",
      "WARNING:tensorflow:Inconsistent references when loading the checkpoint into this object graph. Either the Trackable object references in the Python program have changed in an incompatible way, or the checkpoint was generated in an incompatible program.\n",
      "\n",
      "Two checkpoint references resolved to different objects (<tensorflow.python.keras.layers.convolutional.Conv2D object at 0x7f27683b4ee0> and <tensorflow.python.keras.layers.core.Dropout object at 0x7f27683b4ca0>).\n",
      "WARNING:tensorflow:Inconsistent references when loading the checkpoint into this object graph. Either the Trackable object references in the Python program have changed in an incompatible way, or the checkpoint was generated in an incompatible program.\n",
      "\n",
      "Two checkpoint references resolved to different objects (<tensorflow.python.keras.layers.core.Dropout object at 0x7f276833bbb0> and <tensorflow.python.keras.layers.advanced_activations.LeakyReLU object at 0x7f276833b850>).\n"
     ]
    },
    {
     "name": "stdout",
     "output_type": "stream",
     "text": [
      "WARNING:tensorflow:Inconsistent references when loading the checkpoint into this object graph. Either the Trackable object references in the Python program have changed in an incompatible way, or the checkpoint was generated in an incompatible program.\n",
      "\n",
      "Two checkpoint references resolved to different objects (<tensorflow.python.keras.layers.core.Flatten object at 0x7f276833be20> and <tensorflow.python.keras.layers.core.Dropout object at 0x7f276833bbb0>).\n",
      "WARNING:tensorflow:Inconsistent references when loading the checkpoint into this object graph. Either the Trackable object references in the Python program have changed in an incompatible way, or the checkpoint was generated in an incompatible program.\n",
      "\n",
      "Two checkpoint references resolved to different objects (<tensorflow.python.keras.layers.core.Dense object at 0x7f276833bee0> and <tensorflow.python.keras.layers.core.Flatten object at 0x7f276833be20>).\n",
      "WARNING:tensorflow:No training configuration found in save file, so the model was *not* compiled. Compile it manually.\n"
     ]
    }
   ],
   "source": [
    "generator_model = tf.keras.models.load_model(\"./generator\")\n",
    "discriminator_model = tf.keras.models.load_model(\"./discriminator\")"
   ]
  },
  {
   "cell_type": "code",
   "execution_count": 9,
   "metadata": {
    "scrolled": true
   },
   "outputs": [
    {
     "data": {
      "text/plain": [
       "<matplotlib.image.AxesImage at 0x7f275832b400>"
      ]
     },
     "execution_count": 9,
     "metadata": {},
     "output_type": "execute_result"
    },
    {
     "data": {
      "image/png": "[encoded data removed]",
      "text/plain": [
       "<Figure size 432x288 with 1 Axes>"
      ]
     },
     "metadata": {
      "needs_background": "light"
     },
     "output_type": "display_data"
    }
   ],
   "source": [
    "noise = tf.random.normal([1, NOISE_INPUT_DIM])\n",
    "generated_image = generator_model(noise)[0]\n",
    "\n",
    "plt.imshow(generated_image, cmap=\"gray\")"
   ]
  }
 ],
 "metadata": {
  "kernelspec": {
   "display_name": "Python 3",
   "language": "python",
   "name": "python3"
  },
  "language_info": {
   "codemirror_mode": {
    "name": "ipython",
    "version": 3
   },
   "file_extension": ".py",
   "mimetype": "text/x-python",
   "name": "python",
   "nbconvert_exporter": "python",
   "pygments_lexer": "ipython3",
   "version": "3.8.5"
  }
 },
 "nbformat": 4,
 "nbformat_minor": 4
}
