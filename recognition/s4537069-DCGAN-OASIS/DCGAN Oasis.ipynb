{
 "cells": [
  {
   "cell_type": "code",
   "execution_count": 1,
   "metadata": {},
   "outputs": [],
   "source": [
    "#Imports\n",
    "import tensorflow as tf\n",
    "import glob\n",
    "import os\n",
    "\n",
    "#Set up TF\n",
    "devices = tf.config.list_physical_devices('GPU')\n",
    "tf.config.experimental.set_memory_growth(devices[0], True)"
   ]
  },
  {
   "cell_type": "code",
   "execution_count": 2,
   "metadata": {},
   "outputs": [],
   "source": [
    "#Set up directories for dataset (These were retrived from D:// in the GPU lab)\n",
    "\n",
    "#Test\n",
    "test_directory = sorted(glob.glob(\"D:\\keras_png_slices_data\\keras_png_slices_test\\\\*.png\\\\\"))\n",
    "seg_test_directory = sorted(glob.glob(\"D:\\\\keras_png_slices_data\\\\keras_png_slices_seg_test\\\\*.png\\\\\"))\n",
    "\n",
    "#Train\n",
    "train_directory = sorted(glob.glob(\"D:\\keras_png_slices_data\\keras_png_slices_train\\\\*.png\\\\\"))\n",
    "seg_train_directory = sorted(glob.glob(\"D:\\\\keras_png_slices_data\\\\keras_png_slices_seg_train\\\\*.png\\\\\"))\n",
    "\n",
    "\n",
    "#Validation\n",
    "validation_directory = sorted(glob.glob(\"D:\\keras_png_slices_data\\keras_png_slices_validate\\\\*.png\\\\\"))\n",
    "seg_validation_directory = sorted(glob.glob(\"D:\\\\keras_png_slices_data\\\\keras_png_slices_seg_validate\\\\*.png\\\\\"))\n"
   ]
  }
 ],
 "metadata": {
  "kernelspec": {
   "display_name": "Python 3",
   "language": "python",
   "name": "python3"
  },
  "language_info": {
   "codemirror_mode": {
    "name": "ipython",
    "version": 3
   },
   "file_extension": ".py",
   "mimetype": "text/x-python",
   "name": "python",
   "nbconvert_exporter": "python",
   "pygments_lexer": "ipython3",
   "version": "3.7.9"
  }
 },
 "nbformat": 4,
 "nbformat_minor": 4
}
