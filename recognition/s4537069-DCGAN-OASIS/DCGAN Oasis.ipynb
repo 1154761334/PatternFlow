{
 "cells": [
  {
   "cell_type": "code",
   "execution_count": 1,
   "metadata": {},
   "outputs": [],
   "source": [
    "#Imports\n",
    "import tensorflow as tf\n",
    "import glob\n",
    "import os\n",
    "\n",
    "#Set up TF\n",
    "devices = tf.config.list_physical_devices('GPU')\n",
    "tf.config.experimental.set_memory_growth(devices[0], True)"
   ]
  },
  {
   "cell_type": "code",
   "execution_count": 4,
   "metadata": {},
   "outputs": [],
   "source": [
    "#Set up directories for dataset (These were retrived from D:// in the GPU lab)\n",
    "\n",
    "#Test\n",
    "test_directory = sorted(glob.glob(\"D:\\keras_png_slices_data\\keras_png_slices_test\\\\*.png\\\\\"))\n",
    "seg_test_directory = sorted(glob.glob(\"D:\\\\keras_png_slices_data\\\\keras_png_slices_seg_test\\\\*.png\\\\\"))\n",
    "\n",
    "#Train\n",
    "train_directory = sorted(glob.glob(\"D:\\keras_png_slices_data\\keras_png_slices_train\\\\*.png\\\\\"))\n",
    "seg_train_directory = sorted(glob.glob(\"D:\\\\keras_png_slices_data\\\\keras_png_slices_seg_train\\\\*.png\\\\\"))\n",
    "\n",
    "\n",
    "#Validation\n",
    "validation_directory = sorted(glob.glob(\"D:\\keras_png_slices_data\\keras_png_slices_validate\\\\*.png\\\\\"))\n",
    "seg_validation_directory = sorted(glob.glob(\"D:\\\\keras_png_slices_data\\\\keras_png_slices_seg_validate\\\\*.png\\\\\"))\n"
   ]
  },
  {
   "cell_type": "code",
   "execution_count": null,
   "metadata": {},
   "outputs": [],
   "source": [
    "#Creates datasets, slice tensors along their first dimension, shuffle them.\n",
    "\n",
    "#Test\n",
    "test_data = tf.data.Dataset.from_tensor_slices((test_directory, seg_test_directory))\n",
    "test_data = test_data.shuffle(len(test_directory))\n",
    "\n",
    "#Train\n",
    "train_data = tf.data.Dataset.from_tensor_slices((train_directory, seg_train_directory))\n",
    "train_data = test_data.shuffle(len(train_directory))\n",
    "\n",
    "#Validation\n",
    "validation_data = tf.data.Dataset.from_tensor_slices((validation_directory, seg_validation_directory))\n",
    "validation_data = test_data.shuffle(len(validation_directory))                                               \n",
    "           "
   ]
  }
 ],
 "metadata": {
  "kernelspec": {
   "display_name": "Python 3",
   "language": "python",
   "name": "python3"
  },
  "language_info": {
   "codemirror_mode": {
    "name": "ipython",
    "version": 3
   },
   "file_extension": ".py",
   "mimetype": "text/x-python",
   "name": "python",
   "nbconvert_exporter": "python",
   "pygments_lexer": "ipython3",
   "version": "3.7.9"
  }
 },
 "nbformat": 4,
 "nbformat_minor": 4
}
