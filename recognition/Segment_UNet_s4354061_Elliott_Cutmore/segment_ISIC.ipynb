{
 "cells": [
  {
   "cell_type": "code",
   "execution_count": 1,
   "metadata": {},
   "outputs": [],
   "source": [
    "import tensorflow as tf\n",
    "from tensorflow.compat.v1 import ConfigProto\n",
    "from tensorflow.compat.v1 import InteractiveSession\n",
    "import tensorflow.keras.backend as K\n",
    "from tensorflow.keras import datasets, Model\n",
    "from tensorflow.keras.preprocessing.image import ImageDataGenerator\n",
    "from tensorflow.keras.layers import Input, Conv2D, MaxPooling2D, Dropout, concatenate, Concatenate, UpSampling2D, Conv2DTranspose, Dense\n",
    "from PIL import Image\n",
    "from tensorflow.keras.optimizers import SGD, Adam\n",
    "from tensorflow.keras.callbacks import ModelCheckpoint, TensorBoard\n",
    "from datetime import datetime\n",
    "import os\n",
    "import matplotlib.pyplot as plt\n",
    "import numpy as np\n",
    "import glob\n",
    "\n",
    "# Load the TensorBoard notebook extension\n",
    "%load_ext tensorboard\n",
    "\n"
   ]
  },
  {
   "cell_type": "code",
   "execution_count": null,
   "metadata": {},
   "outputs": [],
   "source": [
    "datagen = ImageDataGenerator(\n",
    "    validation_split = \n",
    ")\n",
    "datagen."
   ]
  },
  {
   "cell_type": "code",
   "execution_count": null,
   "metadata": {},
   "outputs": [],
   "source": [
    "## Load functions\n",
    "\n",
    "def load_image(img_path):\n",
    "    return np.array(Image.open(fname)) / 255.\n",
    "\n",
    "def load_image_one_hot(img_path):\n",
    "    img =  np.array(Image.open(fname)) * (1./255.) # 0 to 1\n",
    "    img = np.ndarray.astype(img, np.uint8)\n",
    "    return (np.arange(img.max()+1) == img[...,None]).astype(np.uint8)\n"
   ]
  },
  {
   "cell_type": "code",
   "execution_count": 4,
   "metadata": {},
   "outputs": [],
   "source": [
    "## Load datasets\n",
    "\n",
    "data_dir = \"./\"\n",
    "folders = [\"ISIC2018_Task1-2_Training_Input_x2/\",\n",
    "          \"ISIC2018_Task1_Training_GroundTruth_x2/\"]\n",
    "case_pattern = \"ISIC_???????.jpg\"\n",
    "seg_pattern = \"ISIC_???????_segmentation.png\"\n",
    "\n",
    "# Pre-defined\n",
    "h, w = 1296, 1936\n",
    "seed = 123\n",
    "\n",
    "case_file_pattern = os.path.join(data_dir, folders[0], case_pattern)\n",
    "seg_file_pattern = os.path.join(data_dir, folders[1], seg_pattern)\n",
    "\n",
    "case_fname = glob.glob(case_file_pattern)\n",
    "seg_fname = glob.glob(seg_file_pattern)\n",
    "\n"
   ]
  },
  {
   "cell_type": "code",
   "execution_count": 5,
   "metadata": {},
   "outputs": [
    {
     "name": "stdout",
     "output_type": "stream",
     "text": [
      "cases:  2594\nsegs:  2594\n./ISIC2018_Task1-2_Training_Input_x2/ISIC_???????.jpg\n./ISIC2018_Task1_Training_GroundTruth_x2/ISIC_???????_segmentation.png\nD:\\s4354061\n"
     ]
    }
   ],
   "source": [
    "print(\"cases: \", len(case_fname))\n",
    "print(\"segs: \", len(seg_fname))\n",
    "print(case_file_pattern)\n",
    "print(seg_file_pattern)\n",
    "print(os.getcwd())"
   ]
  },
  {
   "cell_type": "code",
   "execution_count": 6,
   "metadata": {},
   "outputs": [
    {
     "name": "stdout",
     "output_type": "stream",
     "text": [
      "./ISIC2018_Task1-2_Training_Input_x2\\ISIC_0000000.jpg\n./ISIC2018_Task1_Training_GroundTruth_x2\\ISIC_0000000_segmentation.png\n"
     ]
    }
   ],
   "source": [
    "print(case_fname[0])\n",
    "print(seg_fname[0])"
   ]
  },
  {
   "cell_type": "code",
   "execution_count": null,
   "metadata": {},
   "outputs": [
    {
     "name": "stdout",
     "output_type": "stream",
     "text": [
      "Reading case...\n"
     ]
    }
   ],
   "source": [
    "## DATA FORMATTING\n",
    "train_frac = 0.85\n",
    "case, seg = [], []\n",
    "\n",
    "print(\"Reading case...\")\n",
    "i=0\n",
    "for fname in (case_fname):\n",
    "    case.append(load_image(fname))\n",
    "    print(i)\n",
    "    i+=1\n",
    "\n",
    "# train_oh = load_image_one_hot(tf.constant(train_fname))\n",
    "    \n",
    "print(\"Reading seg...\")\n",
    "i = 0\n",
    "for fname in (seg_fname):\n",
    "    seg.append(load_image_one_hot(fname))\n",
    "    print(i)\n",
    "    i+=1\n",
    "\n",
    "train = np.array(train)\n",
    "seg = np.array(seg)\n",
    "\n",
    "case = case[:, :, :, np.newaxis]\n",
    "seg = seg[:, :, :, np.newaxis]\n",
    "\n",
    "\n",
    "\n",
    "print(\"Case images: \", case.shape, \"\\tdtype: \", case.dtype)\n",
    "print(\"Seg images: \", seg.shape, \"\\tdtype: \", seg.dtype)\n",
    "\n",
    "# del train_fname, test_fname, validate_fname"
   ]
  },
  {
   "cell_type": "code",
   "execution_count": null,
   "metadata": {},
   "outputs": [],
   "source": [
    "\n",
    "case_shuffler = np. random. permutation(len(case))\n",
    "seg_shuffler = np. random. permutation(len(seg))\n",
    "\n",
    "case = case[case_shuffler]\n",
    "seg = seg[seg_shuffler]"
   ]
  }
 ],
 "metadata": {
  "kernelspec": {
   "display_name": "Python (venv)",
   "language": "python",
   "name": "venv"
  },
  "language_info": {
   "codemirror_mode": {
    "name": "ipython",
    "version": 3
   },
   "file_extension": ".py",
   "mimetype": "text/x-python",
   "name": "python",
   "nbconvert_exporter": "python",
   "pygments_lexer": "ipython3",
   "version": "3.7.9"
  }
 },
 "nbformat": 4,
 "nbformat_minor": 4
}
