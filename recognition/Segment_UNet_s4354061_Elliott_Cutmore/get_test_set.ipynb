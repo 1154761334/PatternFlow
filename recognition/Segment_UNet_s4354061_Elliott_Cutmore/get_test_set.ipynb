{
 "cells": [
  {
   "cell_type": "code",
   "execution_count": 2,
   "metadata": {
    "collapsed": true
   },
   "outputs": [],
   "source": [
    "import os\n",
    "from os import path\n",
    "import shutil\n",
    "\n"
   ]
  },
  {
   "cell_type": "code",
   "execution_count": null,
   "metadata": {},
   "outputs": [],
   "source": [
    "src_case = \"H:\\\\COMP3710\\\\ISIC2018_Task1-2_Training_Input_x2\"\n",
    "dst_case = \"H:\\\\COMP3710\\\\test_case_set\"\n"
   ]
  },
  {
   "cell_type": "code",
   "execution_count": null,
   "metadata": {},
   "outputs": [],
   "source": [
    "data_dir = \"./\"\n",
    "folders = [\"ISIC2018_Task1-2_Training_Input_x2/\",\n",
    "          \"ISIC2018_Task1_Training_GroundTruth_x2/\"]\n",
    "case_pattern = \"ISIC_???????.jpg\"\n",
    "seg_pattern = \"ISIC_???????_segmentation.png\"\n",
    "\n",
    "# Pre-defined\n",
    "h, w = 1296, 1936\n",
    "seed = 123\n",
    "\n",
    "case_file_pattern = os.path.join(data_dir, folders[0], case_pattern)\n",
    "seg_file_pattern = os.path.join(data_dir, folders[1], seg_pattern)\n",
    "\n",
    "case_fname = glob.glob(case_file_pattern)\n",
    "seg_fname = glob.glob(seg_file_pattern)"
   ]
  },
  {
   "cell_type": "code",
   "execution_count": null,
   "metadata": {},
   "outputs": [],
   "source": [
    "num_test_images = 100;\n",
    "case, seg = [], []\n",
    "\n",
    "print(\"Reading case...\")\n",
    "i=0\n",
    "for i in range(num_test_images):\n",
    "    img_no = ((len(case_fname)-1) / num_test_images)*i\n",
    "    shutil.copy(path.join(src, case_fname[img_no]), dst)\n",
    "\n",
    "# train_oh = load_image_one_hot(tf.constant(train_fname))\n",
    "    \n",
    "print(\"Reading seg...\")\n",
    "i = 0\n",
    "for fname in (seg_fname):\n",
    "    seg.append(load_image_one_hot(fname))\n",
    "    print(i)\n",
    "    i+=1"
   ]
  },
  {
   "cell_type": "code",
   "execution_count": null,
   "metadata": {},
   "outputs": [],
   "source": []
  }
 ],
 "metadata": {
  "kernelspec": {
   "display_name": "Python 2",
   "language": "python",
   "name": "python2"
  },
  "language_info": {
   "codemirror_mode": {
    "name": "ipython",
    "version": 2
   },
   "file_extension": ".py",
   "mimetype": "text/x-python",
   "name": "python",
   "nbconvert_exporter": "python",
   "pygments_lexer": "ipython2",
   "version": "2.7.6"
  }
 },
 "nbformat": 4,
 "nbformat_minor": 0
}
