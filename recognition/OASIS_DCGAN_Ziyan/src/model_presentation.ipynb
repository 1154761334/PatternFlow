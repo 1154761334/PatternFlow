{
 "cells": [
  {
   "cell_type": "code",
   "execution_count": 1,
   "metadata": {},
   "outputs": [],
   "source": [
    "from DCGAN import DCGAN\n",
    "from image_loader import ImgLoader"
   ]
  },
  {
   "cell_type": "markdown",
   "metadata": {},
   "source": [
    "# Introduction"
   ]
  },
  {
   "cell_type": "markdown",
   "metadata": {},
   "source": [
    "This page will use both generator 64 * 64 output and 32 * 32 output to generate 256 fake images and compare the randomly shuffled real images"
   ]
  },
  {
   "cell_type": "markdown",
   "metadata": {},
   "source": [
    "# 64*64 output DCGAN"
   ]
  },
  {
   "cell_type": "markdown",
   "metadata": {},
   "source": [
    "The result below shows the mean SSIM of 256 64 * 64 fake outputs from DCGAN is above 0.6."
   ]
  },
  {
   "cell_type": "code",
   "execution_count": 2,
   "metadata": {},
   "outputs": [],
   "source": [
    "IMG_SIZE = 64\n",
    "TARGET_SLICE = list(range(5,10)) # Same slice from training for ssim test"
   ]
  },
  {
   "cell_type": "code",
   "execution_count": 3,
   "metadata": {},
   "outputs": [],
   "source": [
    "img_loader = ImgLoader(\"E:\\Datasets\\keras_png_slices_data\\keras_png_slices_train\")\n",
    "data_64 = img_loader.load_to_tensor(target_slice=TARGET_SLICE,img_size=IMG_SIZE)\n",
    "dcgan_64 = DCGAN(IMG_SIZE)"
   ]
  },
  {
   "cell_type": "code",
   "execution_count": 4,
   "metadata": {},
   "outputs": [
    {
     "data": {
      "text/plain": [
       "0.61486816"
      ]
     },
     "execution_count": 4,
     "metadata": {},
     "output_type": "execute_result"
    },
    {
     "data": {
      "image/png": "[encoded data removed]",
      "text/plain": [
       "<Figure size 432x288 with 1 Axes>"
      ]
     },
     "metadata": {
      "needs_background": "light"
     },
     "output_type": "display_data"
    }
   ],
   "source": [
    "dcgan_64.load_model() # Load the latest model from checkpoints\n",
    "fakes = dcgan_64.generate_images(256) # Generate 256 fake images\n",
    "dcgan_64.cal_ssim(data_64) #Calculate mean ssim with 256 real images"
   ]
  },
  {
   "cell_type": "markdown",
   "metadata": {},
   "source": [
    "# 32*32 output DCGAN"
   ]
  },
  {
   "cell_type": "markdown",
   "metadata": {},
   "source": [
    "The result below shows the mean SSIM of 256 32 * 32 fake outputs from DCGAN is around 0.7."
   ]
  },
  {
   "cell_type": "code",
   "execution_count": 5,
   "metadata": {},
   "outputs": [],
   "source": [
    "IMG_SIZE = 32\n",
    "TARGET_SLICE = list(range(12,17))"
   ]
  },
  {
   "cell_type": "code",
   "execution_count": 6,
   "metadata": {},
   "outputs": [],
   "source": [
    "img_loader = ImgLoader(\"E:\\Datasets\\keras_png_slices_data\\keras_png_slices_train\")\n",
    "data_32 = img_loader.load_to_tensor(target_slice=TARGET_SLICE,img_size=IMG_SIZE)\n",
    "dcgan_32 = DCGAN(IMG_SIZE)"
   ]
  },
  {
   "cell_type": "code",
   "execution_count": 7,
   "metadata": {},
   "outputs": [
    {
     "data": {
      "text/plain": [
       "0.69417655"
      ]
     },
     "execution_count": 7,
     "metadata": {},
     "output_type": "execute_result"
    },
    {
     "data": {
      "image/png": "[encoded data removed]",
      "text/plain": [
       "<Figure size 432x288 with 1 Axes>"
      ]
     },
     "metadata": {
      "needs_background": "light"
     },
     "output_type": "display_data"
    }
   ],
   "source": [
    "dcgan_32.load_model() # Load the latest model from checkpoints\n",
    "fakes = dcgan_32.generate_images(256) # Generate 256 fake images\n",
    "dcgan_32.cal_ssim(data_32) #Calculate mean ssim with 256 real images"
   ]
  },
  {
   "cell_type": "code",
   "execution_count": null,
   "metadata": {},
   "outputs": [],
   "source": []
  }
 ],
 "metadata": {
  "kernelspec": {
   "display_name": "Python 3",
   "language": "python",
   "name": "python3"
  },
  "language_info": {
   "codemirror_mode": {
    "name": "ipython",
    "version": 3
   },
   "file_extension": ".py",
   "mimetype": "text/x-python",
   "name": "python",
   "nbconvert_exporter": "python",
   "pygments_lexer": "ipython3",
   "version": "3.8.5"
  }
 },
 "nbformat": 4,
 "nbformat_minor": 4
}
