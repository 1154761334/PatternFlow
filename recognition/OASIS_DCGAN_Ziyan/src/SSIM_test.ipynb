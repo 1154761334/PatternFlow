{
 "cells": [
  {
   "cell_type": "code",
   "execution_count": 1,
   "metadata": {},
   "outputs": [],
   "source": [
    "from image_loader import ImgLoader\n",
    "import tensorflow as tf"
   ]
  },
  {
   "cell_type": "code",
   "execution_count": 2,
   "metadata": {},
   "outputs": [],
   "source": [
    "img_loader = ImgLoader(\"E:\\Datasets\\keras_png_slices_data\\keras_png_slices_train\")"
   ]
  },
  {
   "cell_type": "markdown",
   "metadata": {},
   "source": [
    "# 256"
   ]
  },
  {
   "cell_type": "code",
   "execution_count": 3,
   "metadata": {},
   "outputs": [
    {
     "name": "stdout",
     "output_type": "stream",
     "text": [
      "0.6045723\n"
     ]
    }
   ],
   "source": [
    "test_256 = img_loader.load_to_tensor(0,img_size=256)\n",
    "test_imgs = next(iter(test_256)).numpy().astype('float32')[0:256] * 127.5 + 127.5\n",
    "print(tf.image.ssim(test_imgs[0:100],test_imgs[100:200],255).numpy().mean())"
   ]
  },
  {
   "cell_type": "markdown",
   "metadata": {},
   "source": [
    "# 128"
   ]
  },
  {
   "cell_type": "code",
   "execution_count": 4,
   "metadata": {},
   "outputs": [
    {
     "name": "stdout",
     "output_type": "stream",
     "text": [
      "0.5509035\n"
     ]
    }
   ],
   "source": [
    "test_128 = img_loader.load_to_tensor(0,img_size=128)\n",
    "test_imgs = next(iter(test_128)).numpy().astype('float32')[0:256] * 127.5 + 127.5\n",
    "print(tf.image.ssim(test_imgs[0:100],test_imgs[100:200],255).numpy().mean())"
   ]
  },
  {
   "cell_type": "markdown",
   "metadata": {},
   "source": [
    "# 64"
   ]
  },
  {
   "cell_type": "code",
   "execution_count": 5,
   "metadata": {},
   "outputs": [
    {
     "name": "stdout",
     "output_type": "stream",
     "text": [
      "0.51851827\n"
     ]
    }
   ],
   "source": [
    "test_64 = img_loader.load_to_tensor(0,img_size=64)\n",
    "test_imgs = next(iter(test_64)).numpy().astype('float32')[0:256] * 127.5 + 127.5\n",
    "print(tf.image.ssim(test_imgs[0:100],test_imgs[100:200],255).numpy().mean())"
   ]
  }
 ],
 "metadata": {
  "kernelspec": {
   "display_name": "Python 3",
   "language": "python",
   "name": "python3"
  },
  "language_info": {
   "codemirror_mode": {
    "name": "ipython",
    "version": 3
   },
   "file_extension": ".py",
   "mimetype": "text/x-python",
   "name": "python",
   "nbconvert_exporter": "python",
   "pygments_lexer": "ipython3",
   "version": "3.8.5"
  }
 },
 "nbformat": 4,
 "nbformat_minor": 4
}
