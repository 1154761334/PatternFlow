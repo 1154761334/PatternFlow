{
 "cells": [
  {
   "cell_type": "code",
   "execution_count": 2,
   "metadata": {},
   "outputs": [],
   "source": [
    "import numpy as np\n",
    "import tensorflow \n",
    "from tensorflow import keras\n",
    "from tensorflow.keras import layers\n",
    "from tensorflow.keras.layers import LeakyReLU, Conv2D, Conv1D, MaxPooling2D,Dropout,UpSampling2D,UpSampling3D,concatenate,Conv2DTranspose,Add\n",
    "from tensorflow.keras import Sequential\n",
    "from tensorflow.keras.layers import Dense, Flatten"
   ]
  },
  {
   "cell_type": "code",
   "execution_count": 3,
   "metadata": {},
   "outputs": [
    {
     "name": "stdout",
     "output_type": "stream",
     "text": [
      "Model: \"model\"\n",
      "__________________________________________________________________________________________________\n",
      "Layer (type)                    Output Shape         Param #     Connected to                     \n",
      "==================================================================================================\n",
      "input_1 (InputLayer)            [(None, 256, 256, 1) 0                                            \n",
      "__________________________________________________________________________________________________\n",
      "conv2d (Conv2D)                 (None, 256, 256, 16) 160         input_1[0][0]                    \n",
      "__________________________________________________________________________________________________\n",
      "conv2d_1 (Conv2D)               (None, 256, 256, 16) 2320        conv2d[0][0]                     \n",
      "__________________________________________________________________________________________________\n",
      "dropout (Dropout)               (None, 256, 256, 16) 0           conv2d_1[0][0]                   \n",
      "__________________________________________________________________________________________________\n",
      "conv2d_2 (Conv2D)               (None, 256, 256, 16) 2320        dropout[0][0]                    \n",
      "__________________________________________________________________________________________________\n",
      "add (Add)                       (None, 256, 256, 16) 0           conv2d[0][0]                     \n",
      "                                                                 conv2d_2[0][0]                   \n",
      "__________________________________________________________________________________________________\n",
      "conv2d_3 (Conv2D)               (None, 128, 128, 32) 4640        add[0][0]                        \n",
      "__________________________________________________________________________________________________\n",
      "conv2d_4 (Conv2D)               (None, 128, 128, 32) 9248        conv2d_3[0][0]                   \n",
      "__________________________________________________________________________________________________\n",
      "dropout_1 (Dropout)             (None, 128, 128, 32) 0           conv2d_4[0][0]                   \n",
      "__________________________________________________________________________________________________\n",
      "conv2d_5 (Conv2D)               (None, 128, 128, 32) 9248        dropout_1[0][0]                  \n",
      "__________________________________________________________________________________________________\n",
      "add_1 (Add)                     (None, 128, 128, 32) 0           conv2d_3[0][0]                   \n",
      "                                                                 conv2d_5[0][0]                   \n",
      "__________________________________________________________________________________________________\n",
      "conv2d_6 (Conv2D)               (None, 64, 64, 64)   18496       add_1[0][0]                      \n",
      "__________________________________________________________________________________________________\n",
      "conv2d_7 (Conv2D)               (None, 64, 64, 64)   36928       conv2d_6[0][0]                   \n",
      "__________________________________________________________________________________________________\n",
      "dropout_2 (Dropout)             (None, 64, 64, 64)   0           conv2d_7[0][0]                   \n",
      "__________________________________________________________________________________________________\n",
      "conv2d_8 (Conv2D)               (None, 64, 64, 64)   36928       dropout_2[0][0]                  \n",
      "__________________________________________________________________________________________________\n",
      "add_2 (Add)                     (None, 64, 64, 64)   0           conv2d_6[0][0]                   \n",
      "                                                                 conv2d_8[0][0]                   \n",
      "__________________________________________________________________________________________________\n",
      "conv2d_9 (Conv2D)               (None, 32, 32, 128)  73856       add_2[0][0]                      \n",
      "__________________________________________________________________________________________________\n",
      "conv2d_10 (Conv2D)              (None, 32, 32, 128)  147584      conv2d_9[0][0]                   \n",
      "__________________________________________________________________________________________________\n",
      "dropout_3 (Dropout)             (None, 32, 32, 128)  0           conv2d_10[0][0]                  \n",
      "__________________________________________________________________________________________________\n",
      "conv2d_11 (Conv2D)              (None, 32, 32, 128)  147584      dropout_3[0][0]                  \n",
      "__________________________________________________________________________________________________\n",
      "add_3 (Add)                     (None, 32, 32, 128)  0           conv2d_9[0][0]                   \n",
      "                                                                 conv2d_11[0][0]                  \n",
      "__________________________________________________________________________________________________\n",
      "conv2d_12 (Conv2D)              (None, 16, 16, 256)  295168      add_3[0][0]                      \n",
      "__________________________________________________________________________________________________\n",
      "conv2d_13 (Conv2D)              (None, 16, 16, 256)  590080      conv2d_12[0][0]                  \n",
      "__________________________________________________________________________________________________\n",
      "dropout_4 (Dropout)             (None, 16, 16, 256)  0           conv2d_13[0][0]                  \n",
      "__________________________________________________________________________________________________\n",
      "conv2d_14 (Conv2D)              (None, 16, 16, 256)  590080      dropout_4[0][0]                  \n",
      "__________________________________________________________________________________________________\n",
      "add_4 (Add)                     (None, 16, 16, 256)  0           conv2d_12[0][0]                  \n",
      "                                                                 conv2d_14[0][0]                  \n",
      "__________________________________________________________________________________________________\n",
      "up_sampling2d (UpSampling2D)    (None, 32, 32, 256)  0           add_4[0][0]                      \n",
      "__________________________________________________________________________________________________\n",
      "concatenate (Concatenate)       (None, 32, 32, 384)  0           up_sampling2d[0][0]              \n",
      "                                                                 add_3[0][0]                      \n",
      "__________________________________________________________________________________________________\n",
      "conv2d_15 (Conv2D)              (None, 32, 32, 128)  442496      concatenate[0][0]                \n",
      "__________________________________________________________________________________________________\n",
      "conv2d_16 (Conv2D)              (None, 32, 32, 128)  16512       conv2d_15[0][0]                  \n",
      "__________________________________________________________________________________________________\n",
      "up_sampling2d_1 (UpSampling2D)  (None, 64, 64, 128)  0           conv2d_16[0][0]                  \n",
      "__________________________________________________________________________________________________\n",
      "concatenate_1 (Concatenate)     (None, 64, 64, 192)  0           up_sampling2d_1[0][0]            \n",
      "                                                                 add_2[0][0]                      \n",
      "__________________________________________________________________________________________________\n",
      "conv2d_17 (Conv2D)              (None, 64, 64, 64)   110656      concatenate_1[0][0]              \n",
      "__________________________________________________________________________________________________\n",
      "conv2d_18 (Conv2D)              (None, 64, 64, 64)   4160        conv2d_17[0][0]                  \n",
      "__________________________________________________________________________________________________\n",
      "up_sampling2d_3 (UpSampling2D)  (None, 128, 128, 64) 0           conv2d_18[0][0]                  \n",
      "__________________________________________________________________________________________________\n",
      "concatenate_2 (Concatenate)     (None, 128, 128, 96) 0           up_sampling2d_3[0][0]            \n",
      "                                                                 add_1[0][0]                      \n",
      "__________________________________________________________________________________________________\n",
      "conv2d_20 (Conv2D)              (None, 128, 128, 32) 27680       concatenate_2[0][0]              \n",
      "__________________________________________________________________________________________________\n",
      "conv2d_21 (Conv2D)              (None, 128, 128, 32) 1056        conv2d_20[0][0]                  \n",
      "__________________________________________________________________________________________________\n",
      "conv2d_19 (Conv2D)              (None, 64, 64, 4)    2308        conv2d_18[0][0]                  \n",
      "__________________________________________________________________________________________________\n",
      "up_sampling2d_4 (UpSampling2D)  (None, 256, 256, 32) 0           conv2d_21[0][0]                  \n",
      "__________________________________________________________________________________________________\n",
      "up_sampling2d_2 (UpSampling2D)  (None, 128, 128, 4)  0           conv2d_19[0][0]                  \n",
      "__________________________________________________________________________________________________\n",
      "conv2d_22 (Conv2D)              (None, 128, 128, 4)  1156        conv2d_21[0][0]                  \n",
      "__________________________________________________________________________________________________\n",
      "concatenate_3 (Concatenate)     (None, 256, 256, 48) 0           up_sampling2d_4[0][0]            \n",
      "                                                                 add[0][0]                        \n",
      "__________________________________________________________________________________________________\n",
      "add_5 (Add)                     (None, 128, 128, 4)  0           up_sampling2d_2[0][0]            \n",
      "                                                                 conv2d_22[0][0]                  \n",
      "__________________________________________________________________________________________________\n",
      "conv2d_23 (Conv2D)              (None, 256, 256, 32) 1568        concatenate_3[0][0]              \n",
      "__________________________________________________________________________________________________\n",
      "up_sampling2d_5 (UpSampling2D)  (None, 256, 256, 4)  0           add_5[0][0]                      \n",
      "__________________________________________________________________________________________________\n",
      "conv2d_24 (Conv2D)              (None, 256, 256, 4)  1156        conv2d_23[0][0]                  \n",
      "__________________________________________________________________________________________________\n",
      "add_6 (Add)                     (None, 256, 256, 4)  0           up_sampling2d_5[0][0]            \n",
      "                                                                 conv2d_24[0][0]                  \n",
      "__________________________________________________________________________________________________\n",
      "conv2d_25 (Conv2D)              (None, 256, 256, 4)  20          add_6[0][0]                      \n",
      "==================================================================================================\n",
      "Total params: 2,573,408\n",
      "Trainable params: 2,573,408\n",
      "Non-trainable params: 0\n",
      "__________________________________________________________________________________________________\n"
     ]
    }
   ],
   "source": [
    "inputs = tf.keras.Input(shape=( 256,256, 1))\n",
    "conv_layer = Conv2D(16, (3,3), activation = LeakyReLU(alpha=0.01), padding = 'same')(inputs)\n",
    "conv_layer1 = Conv2D(16, (3,3), activation = LeakyReLU(alpha=0.01), padding = 'same')(conv_layer)\n",
    "pool1 =  Dropout(0.3)(conv_layer1)\n",
    "conv_layer1 = Conv2D(16, (3,3), activation = LeakyReLU(alpha=0.01), padding = 'same')(pool1)\n",
    "conv_layer1 = Add()([conv_layer, conv_layer1])\n",
    "\n",
    "conv_layer_1s = Conv2D(32, (3,3), activation = LeakyReLU(alpha=0.01), padding = 'same', strides=(2,2))(conv_layer1)\n",
    "\n",
    "conv_layer2 = Conv2D(32,(3,3) , activation = LeakyReLU(alpha=0.01), padding = 'same')(conv_layer_1s)\n",
    "pool2 =  Dropout(0.3)(conv_layer2)\n",
    "conv_layer2 = Conv2D(32, (3,3), activation = LeakyReLU(alpha=0.01), padding = 'same')(pool2)\n",
    "conv_layer2 = Add()([conv_layer_1s, conv_layer2])\n",
    "\n",
    "conv_layer_2s = Conv2D(64, (3,3), activation = LeakyReLU(alpha=0.01), padding = 'same', strides=(2, 2))(conv_layer2)\n",
    "\n",
    "conv_layer3 = Conv2D(64,(3,3) , activation = LeakyReLU(alpha=0.01), padding = 'same')(conv_layer_2s)\n",
    "pool3 =  Dropout(0.3)(conv_layer3)\n",
    "conv_layer3 = Conv2D(64, (3,3),activation = LeakyReLU(alpha=0.01), padding = 'same')(pool3)\n",
    "conv_layer3 = Add()([conv_layer_2s, conv_layer3])\n",
    "\n",
    "conv_layer_3s = Conv2D(128, (3, 3), activation = LeakyReLU(alpha=0.01), padding = 'same', strides=(2, 2))(conv_layer3)\n",
    "\n",
    "conv_layer4 = Conv2D(128,(3,3) , activation = LeakyReLU(alpha=0.01), padding = 'same')(conv_layer_3s)\n",
    "pool4 =  Dropout(0.3)(conv_layer4)\n",
    "conv_layer4 = Conv2D(128, (3,3), activation = LeakyReLU(alpha=0.01), padding = 'same')(pool4)\n",
    "conv_layer4 = Add()([conv_layer_3s, conv_layer4])\n",
    "\n",
    "\n",
    "conv_layer_4s = Conv2D(256, (3, 3), activation = LeakyReLU(alpha=0.01), padding = 'same', strides=(2,2))(conv_layer4)\n",
    "\n",
    "conv_layer5 = Conv2D(256,(3,3) , activation = LeakyReLU(alpha=0.01), padding = 'same')(conv_layer_4s)\n",
    "pool5 =  Dropout(0.3)(conv_layer5)\n",
    "conv_layer5 = Conv2D(256, (3,3), activation = LeakyReLU(alpha=0.01), padding = 'same')(pool5)\n",
    "conv_layer5 = Add()([conv_layer_4s, conv_layer5])\n",
    "\n",
    "layer_6 = UpSampling2D()(conv_layer5)\n",
    "\n",
    "con1 = concatenate([layer_6, conv_layer4])\n",
    "\n",
    "up1 = Conv2D(128,(3,3) , activation = LeakyReLU(alpha=0.01), padding = 'same')(con1)\n",
    "up1 = Conv2D(128, (1,1),activation = LeakyReLU(alpha=0.01), padding = 'same')(up1)\n",
    "\n",
    "layer_7 = UpSampling2D()(up1)\n",
    "\n",
    "con2 = concatenate([layer_7, conv_layer3])\n",
    "\n",
    "up2 = Conv2D(64,(3,3) , activation = LeakyReLU(alpha=0.01), padding = 'same')(con2)\n",
    "up2 = Conv2D(64, (1,1),activation = LeakyReLU(alpha=0.01), padding = 'same')(up2)\n",
    "\n",
    "seg1 = Conv2D(4,(3,3) , activation = LeakyReLU(alpha=0.01), padding = 'same')(up2)\n",
    "seg1 = UpSampling2D()(seg1)\n",
    "\n",
    "layer_8 = UpSampling2D()(up2)\n",
    "\n",
    "con3 = concatenate([layer_8, conv_layer2])\n",
    "\n",
    "up3 = Conv2D(32,(3,3) ,activation = LeakyReLU(alpha=0.01), padding = 'same')(con3)\n",
    "up3 = Conv2D(32, (1,1), activation = LeakyReLU(alpha=0.01), padding = 'same')(up3)\n",
    "\n",
    "seg2 = Conv2D(4,(3,3) , activation = LeakyReLU(alpha=0.01), padding = 'same')(up3)\n",
    "\n",
    "layer_9 = UpSampling2D()(up3)\n",
    "\n",
    "con4 = concatenate([layer_9, conv_layer1])\n",
    "\n",
    "layer_10 = Conv2D(32, (1,1), activation = LeakyReLU(alpha=0.01), padding = 'same')(con4)\n",
    "\n",
    "seg3 = Conv2D(4,(3,3) , activation = LeakyReLU(alpha=0.01), padding = 'same')(layer_10)\n",
    "\n",
    "added_seg12 =Add()([seg1, seg2])\n",
    "added_seg12= UpSampling2D()(added_seg12)\n",
    "added_seg123= Add()([added_seg12, seg3])\n",
    "\n",
    "conv_final = Conv2D(4, 1, activation = \"softmax\")(added_seg123)\n",
    "model = tf.keras.Model(inputs=inputs, outputs=conv_final)\n",
    "model.summary()"
   ]
  },
  {
   "cell_type": "code",
   "execution_count": 4,
   "metadata": {},
   "outputs": [],
   "source": [
    "import glob\n",
    "from PIL import Image\n",
    "import numpy as np"
   ]
  },
  {
   "cell_type": "code",
   "execution_count": 7,
   "metadata": {},
   "outputs": [],
   "source": [
    "base_path = \"C:/Users/s4601130/Downloads\"\n",
    "x_train_files = glob.glob(base_path + \"/keras_png_slices_data/keras_png_slices_train/*.png\")\n",
    "y_train_files =glob.glob(base_path + \"/keras_png_slices_data/keras_png_slices_seg_train/*.png\")\n",
    "x_val_files = glob.glob(base_path + \"/keras_png_slices_data/keras_png_slices_validate/*.png\")\n",
    "y_val_files = glob.glob(base_path + \"/keras_png_slices_data/keras_png_slices_seg_validate/*.png\")\n",
    "x_test_files =glob.glob(base_path + \"/keras_png_slices_data/keras_png_slices_test/*.png\")\n",
    "y_test_files = glob.glob(base_path + \"/keras_png_slices_data/keras_png_slices_seg_test/*.png\")"
   ]
  },
  {
   "cell_type": "code",
   "execution_count": 8,
   "metadata": {},
   "outputs": [
    {
     "name": "stdout",
     "output_type": "stream",
     "text": [
      "C:/Users/s4601130/Downloads/keras_png_slices_data/keras_png_slices_validate\\case_402_slice_0.nii.png\n",
      "C:/Users/s4601130/Downloads/keras_png_slices_data/keras_png_slices_seg_validate\\seg_402_slice_0.nii.png\n"
     ]
    }
   ],
   "source": [
    "x_train_files.sort()\n",
    "y_train_files.sort()\n",
    "x_val_files.sort()\n",
    "y_val_files.sort()\n",
    "x_test_files.sort()\n",
    "y_test_files.sort()\n",
    "print(x_val_files[0])\n",
    "print(y_val_files[0])"
   ]
  },
  {
   "cell_type": "code",
   "execution_count": 9,
   "metadata": {},
   "outputs": [
    {
     "name": "stdout",
     "output_type": "stream",
     "text": [
      "(9664, 256, 256, 1)\n",
      "(9664, 256, 256, 1)\n"
     ]
    }
   ],
   "source": [
    "x_train = []\n",
    "y_train = []\n",
    "x_val= []\n",
    "y_val = []\n",
    "x_test =[]\n",
    "y_test= []\n",
    "assert(len(y_train_files) == len(x_train_files))\n",
    "for i in range(len(x_train_files)):\n",
    "    \n",
    "    x = np.array(Image.open(x_train_files[i]))\n",
    "    x_train.append(x)\n",
    "    x = np.array(Image.open(y_train_files[i]))\n",
    "    y_train.append(x)\n",
    "x_train = np.expand_dims(np.array(x_train), -1)\n",
    "y_train = np.expand_dims(np.array(y_train), -1)\n",
    "\n",
    "\n",
    "print(np.array(x_train).shape)\n",
    "print(np.array(y_train).shape)"
   ]
  },
  {
   "cell_type": "code",
   "execution_count": 10,
   "metadata": {},
   "outputs": [],
   "source": [
    "assert(len(y_test_files) == len(x_test_files))\n",
    "for i in range(len(x_test_files)):\n",
    "    \n",
    "    x = np.array(Image.open(x_test_files[i]))\n",
    "    x_test.append(x)\n",
    "    x = np.array(Image.open(y_test_files[i]))\n",
    "    y_test.append(x)\n",
    "x_test = np.expand_dims(np.array(x_test), -1)\n",
    "y_test = np.expand_dims(np.array(y_test), -1)"
   ]
  },
  {
   "cell_type": "code",
   "execution_count": 11,
   "metadata": {},
   "outputs": [],
   "source": [
    "assert(len(y_val_files) == len(x_val_files))\n",
    "for i in range(len(x_val_files)):\n",
    "    \n",
    "    x = np.array(Image.open(x_val_files[i]))\n",
    "    x_val.append(x)\n",
    "    x = np.array(Image.open(y_val_files[i]))\n",
    "    y_val.append(x)\n",
    "x_val = np.expand_dims(np.array(x_val), -1)\n",
    "y_val = np.expand_dims(np.array(y_val), -1)"
   ]
  },
  {
   "cell_type": "code",
   "execution_count": 12,
   "metadata": {},
   "outputs": [
    {
     "data": {
      "text/plain": [
       "array([0., 1., 2., 3.])"
      ]
     },
     "execution_count": 12,
     "metadata": {},
     "output_type": "execute_result"
    }
   ],
   "source": [
    "y_train = y_train/85\n",
    "\n",
    "np.unique(y_train[0])\n",
    "y_test = y_test/85\n",
    "np.unique(y_test[0])\n",
    "y_val = y_val/85\n",
    "np.unique(y_val[0])"
   ]
  },
  {
   "cell_type": "code",
   "execution_count": 13,
   "metadata": {},
   "outputs": [],
   "source": [
    "model.compile(loss='sparse_categorical_crossentropy',\n",
    "optimizer=tf.keras.optimizers.Adam(learning_rate=5e-4),\n",
    "metrics=['accuracy'])"
   ]
  },
  {
   "cell_type": "code",
   "execution_count": 14,
   "metadata": {},
   "outputs": [
    {
     "name": "stdout",
     "output_type": "stream",
     "text": [
      "Train on 9664 samples, validate on 1120 samples\n",
      "Epoch 1/4\n",
      "9664/9664 [==============================] - 91s 9ms/sample - loss: 0.1177 - accuracy: 0.9555 - val_loss: 0.0469 - val_accuracy: 0.9807\n",
      "Epoch 2/4\n",
      "9664/9664 [==============================] - 87s 9ms/sample - loss: 0.0494 - accuracy: 0.9797 - val_loss: 0.0366 - val_accuracy: 0.9849\n",
      "Epoch 3/4\n",
      "9664/9664 [==============================] - 88s 9ms/sample - loss: 0.0399 - accuracy: 0.9836 - val_loss: 0.0354 - val_accuracy: 0.9852\n",
      "Epoch 4/4\n",
      "9664/9664 [==============================] - 88s 9ms/sample - loss: 0.0359 - accuracy: 0.9852 - val_loss: 0.0409 - val_accuracy: 0.9827\n"
     ]
    }
   ],
   "source": [
    "moel_result = model.fit(x_train, y_train, batch_size=8, epochs=4, validation_data = (x_val, y_val))"
   ]
  },
  {
   "cell_type": "code",
   "execution_count": 16,
   "metadata": {},
   "outputs": [],
   "source": [
    "y_pred = model.predict(x_test)"
   ]
  },
  {
   "cell_type": "code",
   "execution_count": 24,
   "metadata": {},
   "outputs": [
    {
     "name": "stdout",
     "output_type": "stream",
     "text": [
      "tf.Tensor(0.9999999977436697, shape=(), dtype=float64)\n"
     ]
    }
   ],
   "source": [
    "from tensorflow. keras import backend as K\n",
    "def iou_coef(y_test, y_pred, smooth=0):\n",
    "  intersection = K.sum(K.abs(y_test * y_pred), axis=[1,2,3])\n",
    "  union = K.sum(y_test,[1,2,3])+K.sum(y_test,[1,2,3])-intersection\n",
    "  iou = K.mean((intersection + smooth) / (union + smooth), axis=0)\n",
    "  return iou\n",
    "dice_sim = iou_coef(y_test, y_pred)\n",
    "print(dice_sim)"
   ]
  },
  {
   "cell_type": "code",
   "execution_count": 20,
   "metadata": {},
   "outputs": [
    {
     "name": "stdout",
     "output_type": "stream",
     "text": [
      "accuracy: 98.09%\n"
     ]
    }
   ],
   "source": [
    "scores = model.evaluate(x_test,y_test, verbose=0)\n",
    "print(\"%s: %.2f%%\" % (model.metrics_names[1], scores[1]*100))"
   ]
  },
  {
   "cell_type": "code",
   "execution_count": 27,
   "metadata": {},
   "outputs": [
    {
     "ename": "ModuleNotFoundError",
     "evalue": "No module named 'matplotlib'",
     "output_type": "error",
     "traceback": [
      "\u001b[1;31m---------------------------------------------------------------------------\u001b[0m",
      "\u001b[1;31mModuleNotFoundError\u001b[0m                       Traceback (most recent call last)",
      "\u001b[1;32m<ipython-input-27-60429fcf5479>\u001b[0m in \u001b[0;36m<module>\u001b[1;34m\u001b[0m\n\u001b[1;32m----> 1\u001b[1;33m \u001b[0mget_ipython\u001b[0m\u001b[1;33m(\u001b[0m\u001b[1;33m)\u001b[0m\u001b[1;33m.\u001b[0m\u001b[0mrun_line_magic\u001b[0m\u001b[1;33m(\u001b[0m\u001b[1;34m'matplotlib'\u001b[0m\u001b[1;33m,\u001b[0m \u001b[1;34m''\u001b[0m\u001b[1;33m)\u001b[0m\u001b[1;33m\u001b[0m\u001b[1;33m\u001b[0m\u001b[0m\n\u001b[0m\u001b[0;32m      2\u001b[0m \u001b[1;32mimport\u001b[0m \u001b[0mmatplotlib\u001b[0m\u001b[1;33m\u001b[0m\u001b[1;33m\u001b[0m\u001b[0m\n\u001b[0;32m      3\u001b[0m \u001b[1;32mimport\u001b[0m \u001b[0mmatplotlib\u001b[0m\u001b[1;33m.\u001b[0m\u001b[0mpyplot\u001b[0m \u001b[1;32mas\u001b[0m \u001b[0mplt\u001b[0m\u001b[1;33m\u001b[0m\u001b[1;33m\u001b[0m\u001b[0m\n\u001b[0;32m      4\u001b[0m \u001b[0mfig\u001b[0m\u001b[1;33m,\u001b[0m \u001b[0maxs\u001b[0m \u001b[1;33m=\u001b[0m \u001b[0mplt\u001b[0m\u001b[1;33m.\u001b[0m\u001b[0msubplots\u001b[0m\u001b[1;33m(\u001b[0m\u001b[1;36m1\u001b[0m\u001b[1;33m,\u001b[0m \u001b[1;36m2\u001b[0m\u001b[1;33m,\u001b[0m \u001b[0mfigsize\u001b[0m\u001b[1;33m=\u001b[0m\u001b[1;33m(\u001b[0m\u001b[1;36m14\u001b[0m\u001b[1;33m,\u001b[0m \u001b[1;36m4\u001b[0m\u001b[1;33m)\u001b[0m\u001b[1;33m)\u001b[0m\u001b[1;33m\u001b[0m\u001b[1;33m\u001b[0m\u001b[0m\n\u001b[0;32m      5\u001b[0m \u001b[0maxs\u001b[0m\u001b[1;33m[\u001b[0m\u001b[1;36m0\u001b[0m\u001b[1;33m]\u001b[0m\u001b[1;33m.\u001b[0m\u001b[0mset_title\u001b[0m\u001b[1;33m(\u001b[0m\u001b[1;34m\"Loss plot\"\u001b[0m\u001b[1;33m)\u001b[0m\u001b[1;33m\u001b[0m\u001b[1;33m\u001b[0m\u001b[0m\n",
      "\u001b[1;32m~\\.conda\\envs\\demshiv\\lib\\site-packages\\IPython\\core\\interactiveshell.py\u001b[0m in \u001b[0;36mrun_line_magic\u001b[1;34m(self, magic_name, line, _stack_depth)\u001b[0m\n\u001b[0;32m   2324\u001b[0m                 \u001b[0mkwargs\u001b[0m\u001b[1;33m[\u001b[0m\u001b[1;34m'local_ns'\u001b[0m\u001b[1;33m]\u001b[0m \u001b[1;33m=\u001b[0m \u001b[0mself\u001b[0m\u001b[1;33m.\u001b[0m\u001b[0mget_local_scope\u001b[0m\u001b[1;33m(\u001b[0m\u001b[0mstack_depth\u001b[0m\u001b[1;33m)\u001b[0m\u001b[1;33m\u001b[0m\u001b[1;33m\u001b[0m\u001b[0m\n\u001b[0;32m   2325\u001b[0m             \u001b[1;32mwith\u001b[0m \u001b[0mself\u001b[0m\u001b[1;33m.\u001b[0m\u001b[0mbuiltin_trap\u001b[0m\u001b[1;33m:\u001b[0m\u001b[1;33m\u001b[0m\u001b[1;33m\u001b[0m\u001b[0m\n\u001b[1;32m-> 2326\u001b[1;33m                 \u001b[0mresult\u001b[0m \u001b[1;33m=\u001b[0m \u001b[0mfn\u001b[0m\u001b[1;33m(\u001b[0m\u001b[1;33m*\u001b[0m\u001b[0margs\u001b[0m\u001b[1;33m,\u001b[0m \u001b[1;33m**\u001b[0m\u001b[0mkwargs\u001b[0m\u001b[1;33m)\u001b[0m\u001b[1;33m\u001b[0m\u001b[1;33m\u001b[0m\u001b[0m\n\u001b[0m\u001b[0;32m   2327\u001b[0m             \u001b[1;32mreturn\u001b[0m \u001b[0mresult\u001b[0m\u001b[1;33m\u001b[0m\u001b[1;33m\u001b[0m\u001b[0m\n\u001b[0;32m   2328\u001b[0m \u001b[1;33m\u001b[0m\u001b[0m\n",
      "\u001b[1;32m<decorator-gen-102>\u001b[0m in \u001b[0;36mmatplotlib\u001b[1;34m(self, line)\u001b[0m\n",
      "\u001b[1;32m~\\.conda\\envs\\demshiv\\lib\\site-packages\\IPython\\core\\magic.py\u001b[0m in \u001b[0;36m<lambda>\u001b[1;34m(f, *a, **k)\u001b[0m\n\u001b[0;32m    185\u001b[0m     \u001b[1;31m# but it's overkill for just that one bit of state.\u001b[0m\u001b[1;33m\u001b[0m\u001b[1;33m\u001b[0m\u001b[1;33m\u001b[0m\u001b[0m\n\u001b[0;32m    186\u001b[0m     \u001b[1;32mdef\u001b[0m \u001b[0mmagic_deco\u001b[0m\u001b[1;33m(\u001b[0m\u001b[0marg\u001b[0m\u001b[1;33m)\u001b[0m\u001b[1;33m:\u001b[0m\u001b[1;33m\u001b[0m\u001b[1;33m\u001b[0m\u001b[0m\n\u001b[1;32m--> 187\u001b[1;33m         \u001b[0mcall\u001b[0m \u001b[1;33m=\u001b[0m \u001b[1;32mlambda\u001b[0m \u001b[0mf\u001b[0m\u001b[1;33m,\u001b[0m \u001b[1;33m*\u001b[0m\u001b[0ma\u001b[0m\u001b[1;33m,\u001b[0m \u001b[1;33m**\u001b[0m\u001b[0mk\u001b[0m\u001b[1;33m:\u001b[0m \u001b[0mf\u001b[0m\u001b[1;33m(\u001b[0m\u001b[1;33m*\u001b[0m\u001b[0ma\u001b[0m\u001b[1;33m,\u001b[0m \u001b[1;33m**\u001b[0m\u001b[0mk\u001b[0m\u001b[1;33m)\u001b[0m\u001b[1;33m\u001b[0m\u001b[1;33m\u001b[0m\u001b[0m\n\u001b[0m\u001b[0;32m    188\u001b[0m \u001b[1;33m\u001b[0m\u001b[0m\n\u001b[0;32m    189\u001b[0m         \u001b[1;32mif\u001b[0m \u001b[0mcallable\u001b[0m\u001b[1;33m(\u001b[0m\u001b[0marg\u001b[0m\u001b[1;33m)\u001b[0m\u001b[1;33m:\u001b[0m\u001b[1;33m\u001b[0m\u001b[1;33m\u001b[0m\u001b[0m\n",
      "\u001b[1;32m~\\.conda\\envs\\demshiv\\lib\\site-packages\\IPython\\core\\magics\\pylab.py\u001b[0m in \u001b[0;36mmatplotlib\u001b[1;34m(self, line)\u001b[0m\n\u001b[0;32m     97\u001b[0m             \u001b[0mprint\u001b[0m\u001b[1;33m(\u001b[0m\u001b[1;34m\"Available matplotlib backends: %s\"\u001b[0m \u001b[1;33m%\u001b[0m \u001b[0mbackends_list\u001b[0m\u001b[1;33m)\u001b[0m\u001b[1;33m\u001b[0m\u001b[1;33m\u001b[0m\u001b[0m\n\u001b[0;32m     98\u001b[0m         \u001b[1;32melse\u001b[0m\u001b[1;33m:\u001b[0m\u001b[1;33m\u001b[0m\u001b[1;33m\u001b[0m\u001b[0m\n\u001b[1;32m---> 99\u001b[1;33m             \u001b[0mgui\u001b[0m\u001b[1;33m,\u001b[0m \u001b[0mbackend\u001b[0m \u001b[1;33m=\u001b[0m \u001b[0mself\u001b[0m\u001b[1;33m.\u001b[0m\u001b[0mshell\u001b[0m\u001b[1;33m.\u001b[0m\u001b[0menable_matplotlib\u001b[0m\u001b[1;33m(\u001b[0m\u001b[0margs\u001b[0m\u001b[1;33m.\u001b[0m\u001b[0mgui\u001b[0m\u001b[1;33m.\u001b[0m\u001b[0mlower\u001b[0m\u001b[1;33m(\u001b[0m\u001b[1;33m)\u001b[0m \u001b[1;32mif\u001b[0m \u001b[0misinstance\u001b[0m\u001b[1;33m(\u001b[0m\u001b[0margs\u001b[0m\u001b[1;33m.\u001b[0m\u001b[0mgui\u001b[0m\u001b[1;33m,\u001b[0m \u001b[0mstr\u001b[0m\u001b[1;33m)\u001b[0m \u001b[1;32melse\u001b[0m \u001b[0margs\u001b[0m\u001b[1;33m.\u001b[0m\u001b[0mgui\u001b[0m\u001b[1;33m)\u001b[0m\u001b[1;33m\u001b[0m\u001b[1;33m\u001b[0m\u001b[0m\n\u001b[0m\u001b[0;32m    100\u001b[0m             \u001b[0mself\u001b[0m\u001b[1;33m.\u001b[0m\u001b[0m_show_matplotlib_backend\u001b[0m\u001b[1;33m(\u001b[0m\u001b[0margs\u001b[0m\u001b[1;33m.\u001b[0m\u001b[0mgui\u001b[0m\u001b[1;33m,\u001b[0m \u001b[0mbackend\u001b[0m\u001b[1;33m)\u001b[0m\u001b[1;33m\u001b[0m\u001b[1;33m\u001b[0m\u001b[0m\n\u001b[0;32m    101\u001b[0m \u001b[1;33m\u001b[0m\u001b[0m\n",
      "\u001b[1;32m~\\.conda\\envs\\demshiv\\lib\\site-packages\\IPython\\core\\interactiveshell.py\u001b[0m in \u001b[0;36menable_matplotlib\u001b[1;34m(self, gui)\u001b[0m\n\u001b[0;32m   3491\u001b[0m         \"\"\"\n\u001b[0;32m   3492\u001b[0m         \u001b[1;32mfrom\u001b[0m \u001b[0mIPython\u001b[0m\u001b[1;33m.\u001b[0m\u001b[0mcore\u001b[0m \u001b[1;32mimport\u001b[0m \u001b[0mpylabtools\u001b[0m \u001b[1;32mas\u001b[0m \u001b[0mpt\u001b[0m\u001b[1;33m\u001b[0m\u001b[1;33m\u001b[0m\u001b[0m\n\u001b[1;32m-> 3493\u001b[1;33m         \u001b[0mgui\u001b[0m\u001b[1;33m,\u001b[0m \u001b[0mbackend\u001b[0m \u001b[1;33m=\u001b[0m \u001b[0mpt\u001b[0m\u001b[1;33m.\u001b[0m\u001b[0mfind_gui_and_backend\u001b[0m\u001b[1;33m(\u001b[0m\u001b[0mgui\u001b[0m\u001b[1;33m,\u001b[0m \u001b[0mself\u001b[0m\u001b[1;33m.\u001b[0m\u001b[0mpylab_gui_select\u001b[0m\u001b[1;33m)\u001b[0m\u001b[1;33m\u001b[0m\u001b[1;33m\u001b[0m\u001b[0m\n\u001b[0m\u001b[0;32m   3494\u001b[0m \u001b[1;33m\u001b[0m\u001b[0m\n\u001b[0;32m   3495\u001b[0m         \u001b[1;32mif\u001b[0m \u001b[0mgui\u001b[0m \u001b[1;33m!=\u001b[0m \u001b[1;34m'inline'\u001b[0m\u001b[1;33m:\u001b[0m\u001b[1;33m\u001b[0m\u001b[1;33m\u001b[0m\u001b[0m\n",
      "\u001b[1;32m~\\.conda\\envs\\demshiv\\lib\\site-packages\\IPython\\core\\pylabtools.py\u001b[0m in \u001b[0;36mfind_gui_and_backend\u001b[1;34m(gui, gui_select)\u001b[0m\n\u001b[0;32m    278\u001b[0m     \"\"\"\n\u001b[0;32m    279\u001b[0m \u001b[1;33m\u001b[0m\u001b[0m\n\u001b[1;32m--> 280\u001b[1;33m     \u001b[1;32mimport\u001b[0m \u001b[0mmatplotlib\u001b[0m\u001b[1;33m\u001b[0m\u001b[1;33m\u001b[0m\u001b[0m\n\u001b[0m\u001b[0;32m    281\u001b[0m \u001b[1;33m\u001b[0m\u001b[0m\n\u001b[0;32m    282\u001b[0m     \u001b[1;32mif\u001b[0m \u001b[0mgui\u001b[0m \u001b[1;32mand\u001b[0m \u001b[0mgui\u001b[0m \u001b[1;33m!=\u001b[0m \u001b[1;34m'auto'\u001b[0m\u001b[1;33m:\u001b[0m\u001b[1;33m\u001b[0m\u001b[1;33m\u001b[0m\u001b[0m\n",
      "\u001b[1;31mModuleNotFoundError\u001b[0m: No module named 'matplotlib'"
     ]
    }
   ],
   "source": [
    "\n",
    "import matplotlib\n",
    "import matplotlib.pyplot as plt\n",
    "fig, axs = plt.subplots(1, 2, figsize=(14, 4))\n",
    "axs[0].set_title(\"Loss plot\")\n",
    "axs[0].plot(history.history['loss'], color='purple', label='train')\n",
    "axs[0].plot(history.history['val_loss'], color='orange', label='test')\n",
    "axs[1].set_title(\"Accuracy plot\")\n",
    "axs[1].plot(history.history['accuracy'], color='purple', label='train')\n",
    "axs[1].plot(history.history['val_accuracy'], color='orange', label='test')"
   ]
  },
  {
   "cell_type": "code",
   "execution_count": null,
   "metadata": {},
   "outputs": [],
   "source": []
  }
 ],
 "metadata": {
  "kernelspec": {
   "display_name": "Python 3",
   "language": "python",
   "name": "python3"
  },
  "language_info": {
   "codemirror_mode": {
    "name": "ipython",
    "version": 3
   },
   "file_extension": ".py",
   "mimetype": "text/x-python",
   "name": "python",
   "nbconvert_exporter": "python",
   "pygments_lexer": "ipython3",
   "version": "3.7.9"
  }
 },
 "nbformat": 4,
 "nbformat_minor": 4
}
