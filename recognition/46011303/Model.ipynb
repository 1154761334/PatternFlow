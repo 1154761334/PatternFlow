{
 "cells": [
  {
   "cell_type": "code",
   "execution_count": 1,
   "metadata": {},
   "outputs": [],
   "source": [
    "import numpy as np\n",
    "import tensorflow \n",
    "from tensorflow import keras\n",
    "from tensorflow.keras import layers\n",
    "from tensorflow.keras.layers import LeakyReLU, Conv2D, Conv1D, MaxPooling2D,Dropout,UpSampling2D,UpSampling3D,concatenate,Conv2DTranspose,Add\n",
    "from tensorflow.keras import Sequential\n",
    "from tensorflow.keras.layers import Dense, Flatten\n",
    "\n",
    "import glob\n",
    "from PIL import Image\n",
    "import numpy as np\n",
    "\n",
    "import sklearn\n",
    "from sklearn.model_selection import train_test_split"
   ]
  },
  {
   "cell_type": "code",
   "execution_count": 2,
   "metadata": {},
   "outputs": [],
   "source": [
    "base_path = \"C:/Users/s4601130/Downloads\"\n",
    "x_files = glob.glob(base_path + \"/ISIC2018_Task1-2_Training_Input_x2/*.jpg\")\n",
    "y_files = glob.glob(base_path + \"/ISIC2018_Task1_Training_GroundTruth_x2/*.png\")\n",
    "x_files.sort()\n",
    "y_files.sort()\n",
    "assert(len(x_files) == len(y_files))"
   ]
  },
  {
   "cell_type": "code",
   "execution_count": 4,
   "metadata": {
    "scrolled": false
   },
   "outputs": [
    {
     "name": "stdout",
     "output_type": "stream",
     "text": [
      "(2594, 256, 256, 3)\n",
      "(2594, 256, 256, 1)\n"
     ]
    }
   ],
   "source": [
    "x=[]\n",
    "y=[]\n",
    "for i in range(len(x_files)):\n",
    "    x_tmp = Image.open(x_files[i])\n",
    "    y_tmp = Image.open(y_files[i])\n",
    "    \n",
    "    x_tmp = np.array(x_tmp.resize((256,256), Image.ANTIALIAS))\n",
    "    y_tmp = np.array(y_tmp.resize((256,256), Image.ANTIALIAS))\n",
    "    \n",
    "    x.append(x_tmp)\n",
    "    y.append(y_tmp)\n",
    "    \n",
    "x = np.array(x)\n",
    "y = np.expand_dims(np.array(y), -1)\n",
    "\n",
    "\n",
    "print(x.shape)\n",
    "print(y.shape)\n",
    "#print(np.unique(y))\n"
   ]
  },
  {
   "cell_type": "code",
   "execution_count": 5,
   "metadata": {},
   "outputs": [],
   "source": [
    "y=y/255.0\n",
    "y= np.around(y)\n",
    "\n",
    "\n"
   ]
  },
  {
   "cell_type": "code",
   "execution_count": 6,
   "metadata": {},
   "outputs": [
    {
     "name": "stdout",
     "output_type": "stream",
     "text": [
      "[0. 1.]\n"
     ]
    }
   ],
   "source": [
    "print(np.unique(y))\n"
   ]
  },
  {
   "cell_type": "code",
   "execution_count": 26,
   "metadata": {},
   "outputs": [],
   "source": [
    "x_train, x_test, y_train, y_test = train_test_split(x, y, test_size=0.2, random_state=1)\n",
    "\n",
    "x_train, x_val, y_train, y_val = train_test_split(x_train, y_train, test_size=0.25, random_state=1)"
   ]
  },
  {
   "cell_type": "code",
   "execution_count": 27,
   "metadata": {},
   "outputs": [],
   "source": [
    "model.compile(loss='binary_crossentropy',\n",
    "optimizer=tensorflow.keras.optimizers.Adam(learning_rate=5e-4),\n",
    "metrics=['accuracy'])"
   ]
  },
  {
   "cell_type": "code",
   "execution_count": 10,
   "metadata": {},
   "outputs": [
    {
     "name": "stdout",
     "output_type": "stream",
     "text": [
      "(1556, 256, 256, 1)\n",
      "(519, 256, 256, 1)\n"
     ]
    }
   ],
   "source": [
    "print(y_train.shape)\n",
    "print(y_val.shape)"
   ]
  },
  {
   "cell_type": "code",
   "execution_count": 28,
   "metadata": {},
   "outputs": [
    {
     "name": "stdout",
     "output_type": "stream",
     "text": [
      "Train on 1556 samples, validate on 519 samples\n",
      "Epoch 1/40\n",
      "1556/1556 [==============================] - 16s 10ms/sample - loss: 0.2145 - accuracy: 0.9188 - val_loss: 0.2106 - val_accuracy: 0.9201\n",
      "Epoch 2/40\n",
      "1556/1556 [==============================] - 14s 9ms/sample - loss: 0.1966 - accuracy: 0.9246 - val_loss: 0.1757 - val_accuracy: 0.9344\n",
      "Epoch 3/40\n",
      "1556/1556 [==============================] - 14s 9ms/sample - loss: 0.1857 - accuracy: 0.9286 - val_loss: 0.1828 - val_accuracy: 0.9364\n",
      "Epoch 4/40\n",
      "1556/1556 [==============================] - 14s 9ms/sample - loss: 0.1817 - accuracy: 0.9287 - val_loss: 0.2044 - val_accuracy: 0.92910.1862 - ac\n",
      "Epoch 5/40\n",
      "1556/1556 [==============================] - 14s 9ms/sample - loss: 0.1790 - accuracy: 0.9295 - val_loss: 0.1744 - val_accuracy: 0.9360\n",
      "Epoch 6/40\n",
      "1556/1556 [==============================] - 14s 9ms/sample - loss: 0.1694 - accuracy: 0.9340 - val_loss: 0.1764 - val_accuracy: 0.9347\n",
      "Epoch 7/40\n",
      "1556/1556 [==============================] - 14s 9ms/sample - loss: 0.1668 - accuracy: 0.9356 - val_loss: 0.1596 - val_accuracy: 0.9397\n",
      "Epoch 8/40\n",
      "1556/1556 [==============================] - 15s 9ms/sample - loss: 0.1614 - accuracy: 0.9371 - val_loss: 0.1662 - val_accuracy: 0.9385\n",
      "Epoch 9/40\n",
      "1556/1556 [==============================] - 15s 9ms/sample - loss: 0.1635 - accuracy: 0.9355 - val_loss: 0.1615 - val_accuracy: 0.9369\n",
      "Epoch 10/40\n",
      "1556/1556 [==============================] - 15s 9ms/sample - loss: 0.1553 - accuracy: 0.9393 - val_loss: 0.1496 - val_accuracy: 0.9429\n",
      "Epoch 11/40\n",
      "1556/1556 [==============================] - 15s 9ms/sample - loss: 0.1554 - accuracy: 0.9395 - val_loss: 0.1580 - val_accuracy: 0.9428\n",
      "Epoch 12/40\n",
      "1556/1556 [==============================] - 15s 9ms/sample - loss: 0.1471 - accuracy: 0.9431 - val_loss: 0.1673 - val_accuracy: 0.9374\n",
      "Epoch 13/40\n",
      "1556/1556 [==============================] - 15s 9ms/sample - loss: 0.1485 - accuracy: 0.9417 - val_loss: 0.1507 - val_accuracy: 0.9409uracy\n",
      "Epoch 14/40\n",
      "1556/1556 [==============================] - 15s 9ms/sample - loss: 0.1433 - accuracy: 0.9434 - val_loss: 0.1656 - val_accuracy: 0.9321\n",
      "Epoch 15/40\n",
      "1556/1556 [==============================] - 15s 9ms/sample - loss: 0.1460 - accuracy: 0.9431 - val_loss: 0.1599 - val_accuracy: 0.9424\n",
      "Epoch 16/40\n",
      "1556/1556 [==============================] - 15s 9ms/sample - loss: 0.1374 - accuracy: 0.9462 - val_loss: 0.1535 - val_accuracy: 0.9431\n",
      "Epoch 17/40\n",
      "1556/1556 [==============================] - 15s 9ms/sample - loss: 0.1312 - accuracy: 0.9482 - val_loss: 0.1483 - val_accuracy: 0.9456\n",
      "Epoch 18/40\n",
      "1556/1556 [==============================] - 15s 9ms/sample - loss: 0.1330 - accuracy: 0.9471 - val_loss: 0.1632 - val_accuracy: 0.9407\n",
      "Epoch 19/40\n",
      "1556/1556 [==============================] - 15s 9ms/sample - loss: 0.1234 - accuracy: 0.9504 - val_loss: 0.1474 - val_accuracy: 0.9462\n",
      "Epoch 20/40\n",
      "1556/1556 [==============================] - 15s 9ms/sample - loss: 0.1187 - accuracy: 0.9521 - val_loss: 0.1746 - val_accuracy: 0.9377\n",
      "Epoch 21/40\n",
      "1556/1556 [==============================] - 15s 9ms/sample - loss: 0.1230 - accuracy: 0.9517 - val_loss: 0.1501 - val_accuracy: 0.9449\n",
      "Epoch 22/40\n",
      "1556/1556 [==============================] - 15s 9ms/sample - loss: 0.1160 - accuracy: 0.9535 - val_loss: 0.1594 - val_accuracy: 0.9449\n",
      "Epoch 23/40\n",
      "1556/1556 [==============================] - 15s 9ms/sample - loss: 0.1126 - accuracy: 0.9554 - val_loss: 0.1540 - val_accuracy: 0.9446\n",
      "Epoch 24/40\n",
      "1556/1556 [==============================] - 15s 9ms/sample - loss: 0.1087 - accuracy: 0.9564 - val_loss: 0.1499 - val_accuracy: 0.9437\n",
      "Epoch 25/40\n",
      "1556/1556 [==============================] - 15s 9ms/sample - loss: 0.1019 - accuracy: 0.9592 - val_loss: 0.1600 - val_accuracy: 0.9457\n",
      "Epoch 26/40\n",
      "1556/1556 [==============================] - 15s 9ms/sample - loss: 0.0995 - accuracy: 0.9599 - val_loss: 0.1493 - val_accuracy: 0.9439\n",
      "Epoch 27/40\n",
      "1556/1556 [==============================] - 15s 9ms/sample - loss: 0.0959 - accuracy: 0.9617 - val_loss: 0.1801 - val_accuracy: 0.9446\n",
      "Epoch 28/40\n",
      "1556/1556 [==============================] - 15s 9ms/sample - loss: 0.0968 - accuracy: 0.9615 - val_loss: 0.1656 - val_accuracy: 0.9431\n",
      "Epoch 29/40\n",
      "1556/1556 [==============================] - 15s 9ms/sample - loss: 0.0873 - accuracy: 0.9650 - val_loss: 0.1670 - val_accuracy: 0.9440\n",
      "Epoch 30/40\n",
      "1556/1556 [==============================] - 15s 9ms/sample - loss: 0.0834 - accuracy: 0.9667 - val_loss: 0.1797 - val_accuracy: 0.9439\n",
      "Epoch 31/40\n",
      "1556/1556 [==============================] - 15s 9ms/sample - loss: 0.0897 - accuracy: 0.9650 - val_loss: 0.1886 - val_accuracy: 0.9370\n",
      "Epoch 32/40\n",
      "1556/1556 [==============================] - 15s 9ms/sample - loss: 0.0824 - accuracy: 0.9670 - val_loss: 0.2006 - val_accuracy: 0.9431\n",
      "Epoch 33/40\n",
      "1556/1556 [==============================] - 15s 9ms/sample - loss: 0.0807 - accuracy: 0.9675 - val_loss: 0.1875 - val_accuracy: 0.9434\n",
      "Epoch 34/40\n",
      "1556/1556 [==============================] - 15s 9ms/sample - loss: 0.0724 - accuracy: 0.9707 - val_loss: 0.1845 - val_accuracy: 0.9441\n",
      "Epoch 35/40\n",
      "1556/1556 [==============================] - 15s 9ms/sample - loss: 0.0692 - accuracy: 0.9719 - val_loss: 0.1983 - val_accuracy: 0.9457\n",
      "Epoch 36/40\n",
      "1556/1556 [==============================] - 15s 9ms/sample - loss: 0.0661 - accuracy: 0.9730 - val_loss: 0.2069 - val_accuracy: 0.9449\n",
      "Epoch 37/40\n",
      "1556/1556 [==============================] - 15s 9ms/sample - loss: 0.0633 - accuracy: 0.9740 - val_loss: 0.2007 - val_accuracy: 0.9429\n",
      "Epoch 38/40\n",
      "1556/1556 [==============================] - 15s 9ms/sample - loss: 0.0598 - accuracy: 0.9755 - val_loss: 0.2077 - val_accuracy: 0.9442\n",
      "Epoch 39/40\n",
      "1556/1556 [==============================] - 15s 9ms/sample - loss: 0.0553 - accuracy: 0.9772 - val_loss: 0.2195 - val_accuracy: 0.9445\n",
      "Epoch 40/40\n",
      "1556/1556 [==============================] - 15s 9ms/sample - loss: 0.0600 - accuracy: 0.9754 - val_loss: 0.2067 - val_accuracy: 0.9429\n"
     ]
    }
   ],
   "source": [
    "moel_result = model.fit(x_train, y_train, batch_size=8, epochs=40, validation_data = (x_val, y_val))"
   ]
  },
  {
   "cell_type": "code",
   "execution_count": 29,
   "metadata": {},
   "outputs": [],
   "source": [
    "y_pred = model.predict(x_test)"
   ]
  },
  {
   "cell_type": "code",
   "execution_count": 24,
   "metadata": {},
   "outputs": [
    {
     "name": "stdout",
     "output_type": "stream",
     "text": [
      "(519, 256, 256, 1)\n",
      "(519, 256, 256, 1)\n"
     ]
    }
   ],
   "source": [
    "print(y_pred.shape)\n",
    "print(y_test.shape)"
   ]
  },
  {
   "cell_type": "code",
   "execution_count": 30,
   "metadata": {},
   "outputs": [
    {
     "name": "stdout",
     "output_type": "stream",
     "text": [
      "accuracy: 94.66%\n"
     ]
    }
   ],
   "source": [
    "scores = model.evaluate(x_test,y_test, verbose=0)\n",
    "print(\"%s: %.2f%%\" % (model.metrics_names[1], scores[1]*100))"
   ]
  },
  {
   "cell_type": "code",
   "execution_count": 31,
   "metadata": {},
   "outputs": [
    {
     "name": "stdout",
     "output_type": "stream",
     "text": [
      "tf.Tensor([0.81133067], shape=(1,), dtype=float64)\n"
     ]
    }
   ],
   "source": [
    "def dice_score(y_true, y_pred):\n",
    "    \n",
    "\n",
    "    intersection = tensorflow.reduce_sum(y_true*y_pred, axis= [1,2])\n",
    "\n",
    "    denominator = tensorflow.reduce_sum(y_true +y_pred, axis= [1,2])\n",
    "    \n",
    "    dice_score= tensorflow.reduce_mean((2.0*intersection)/(denominator+ 1e-6), axis=0)\n",
    "    return dice_score\n",
    "res = dice_score(y_test, y_pred)\n",
    "print(res)"
   ]
  },
  {
   "cell_type": "code",
   "execution_count": null,
   "metadata": {},
   "outputs": [],
   "source": []
  },
  {
   "cell_type": "code",
   "execution_count": 17,
   "metadata": {},
   "outputs": [
    {
     "name": "stdout",
     "output_type": "stream",
     "text": [
      "Model: \"model_1\"\n",
      "__________________________________________________________________________________________________\n",
      "Layer (type)                    Output Shape         Param #     Connected to                     \n",
      "==================================================================================================\n",
      "input_2 (InputLayer)            [(None, 256, 256, 3) 0                                            \n",
      "__________________________________________________________________________________________________\n",
      "conv2d_26 (Conv2D)              (None, 256, 256, 16) 448         input_2[0][0]                    \n",
      "__________________________________________________________________________________________________\n",
      "conv2d_27 (Conv2D)              (None, 256, 256, 16) 2320        conv2d_26[0][0]                  \n",
      "__________________________________________________________________________________________________\n",
      "dropout_5 (Dropout)             (None, 256, 256, 16) 0           conv2d_27[0][0]                  \n",
      "__________________________________________________________________________________________________\n",
      "conv2d_28 (Conv2D)              (None, 256, 256, 16) 2320        dropout_5[0][0]                  \n",
      "__________________________________________________________________________________________________\n",
      "add_7 (Add)                     (None, 256, 256, 16) 0           conv2d_26[0][0]                  \n",
      "                                                                 conv2d_28[0][0]                  \n",
      "__________________________________________________________________________________________________\n",
      "conv2d_29 (Conv2D)              (None, 128, 128, 32) 4640        add_7[0][0]                      \n",
      "__________________________________________________________________________________________________\n",
      "conv2d_30 (Conv2D)              (None, 128, 128, 32) 9248        conv2d_29[0][0]                  \n",
      "__________________________________________________________________________________________________\n",
      "dropout_6 (Dropout)             (None, 128, 128, 32) 0           conv2d_30[0][0]                  \n",
      "__________________________________________________________________________________________________\n",
      "conv2d_31 (Conv2D)              (None, 128, 128, 32) 9248        dropout_6[0][0]                  \n",
      "__________________________________________________________________________________________________\n",
      "add_8 (Add)                     (None, 128, 128, 32) 0           conv2d_29[0][0]                  \n",
      "                                                                 conv2d_31[0][0]                  \n",
      "__________________________________________________________________________________________________\n",
      "conv2d_32 (Conv2D)              (None, 64, 64, 64)   18496       add_8[0][0]                      \n",
      "__________________________________________________________________________________________________\n",
      "conv2d_33 (Conv2D)              (None, 64, 64, 64)   36928       conv2d_32[0][0]                  \n",
      "__________________________________________________________________________________________________\n",
      "dropout_7 (Dropout)             (None, 64, 64, 64)   0           conv2d_33[0][0]                  \n",
      "__________________________________________________________________________________________________\n",
      "conv2d_34 (Conv2D)              (None, 64, 64, 64)   36928       dropout_7[0][0]                  \n",
      "__________________________________________________________________________________________________\n",
      "add_9 (Add)                     (None, 64, 64, 64)   0           conv2d_32[0][0]                  \n",
      "                                                                 conv2d_34[0][0]                  \n",
      "__________________________________________________________________________________________________\n",
      "conv2d_35 (Conv2D)              (None, 32, 32, 128)  73856       add_9[0][0]                      \n",
      "__________________________________________________________________________________________________\n",
      "conv2d_36 (Conv2D)              (None, 32, 32, 128)  147584      conv2d_35[0][0]                  \n",
      "__________________________________________________________________________________________________\n",
      "dropout_8 (Dropout)             (None, 32, 32, 128)  0           conv2d_36[0][0]                  \n",
      "__________________________________________________________________________________________________\n",
      "conv2d_37 (Conv2D)              (None, 32, 32, 128)  147584      dropout_8[0][0]                  \n",
      "__________________________________________________________________________________________________\n",
      "add_10 (Add)                    (None, 32, 32, 128)  0           conv2d_35[0][0]                  \n",
      "                                                                 conv2d_37[0][0]                  \n",
      "__________________________________________________________________________________________________\n",
      "conv2d_38 (Conv2D)              (None, 16, 16, 256)  295168      add_10[0][0]                     \n",
      "__________________________________________________________________________________________________\n",
      "conv2d_39 (Conv2D)              (None, 16, 16, 256)  590080      conv2d_38[0][0]                  \n",
      "__________________________________________________________________________________________________\n",
      "dropout_9 (Dropout)             (None, 16, 16, 256)  0           conv2d_39[0][0]                  \n",
      "__________________________________________________________________________________________________\n",
      "conv2d_40 (Conv2D)              (None, 16, 16, 256)  590080      dropout_9[0][0]                  \n",
      "__________________________________________________________________________________________________\n",
      "add_11 (Add)                    (None, 16, 16, 256)  0           conv2d_38[0][0]                  \n",
      "                                                                 conv2d_40[0][0]                  \n",
      "__________________________________________________________________________________________________\n",
      "up_sampling2d_6 (UpSampling2D)  (None, 32, 32, 256)  0           add_11[0][0]                     \n",
      "__________________________________________________________________________________________________\n",
      "concatenate_4 (Concatenate)     (None, 32, 32, 384)  0           up_sampling2d_6[0][0]            \n",
      "                                                                 add_10[0][0]                     \n",
      "__________________________________________________________________________________________________\n",
      "conv2d_41 (Conv2D)              (None, 32, 32, 128)  442496      concatenate_4[0][0]              \n",
      "__________________________________________________________________________________________________\n",
      "conv2d_42 (Conv2D)              (None, 32, 32, 128)  16512       conv2d_41[0][0]                  \n",
      "__________________________________________________________________________________________________\n",
      "up_sampling2d_7 (UpSampling2D)  (None, 64, 64, 128)  0           conv2d_42[0][0]                  \n",
      "__________________________________________________________________________________________________\n",
      "concatenate_5 (Concatenate)     (None, 64, 64, 192)  0           up_sampling2d_7[0][0]            \n",
      "                                                                 add_9[0][0]                      \n",
      "__________________________________________________________________________________________________\n",
      "conv2d_43 (Conv2D)              (None, 64, 64, 64)   110656      concatenate_5[0][0]              \n",
      "__________________________________________________________________________________________________\n",
      "conv2d_44 (Conv2D)              (None, 64, 64, 64)   4160        conv2d_43[0][0]                  \n",
      "__________________________________________________________________________________________________\n",
      "up_sampling2d_9 (UpSampling2D)  (None, 128, 128, 64) 0           conv2d_44[0][0]                  \n",
      "__________________________________________________________________________________________________\n",
      "concatenate_6 (Concatenate)     (None, 128, 128, 96) 0           up_sampling2d_9[0][0]            \n",
      "                                                                 add_8[0][0]                      \n",
      "__________________________________________________________________________________________________\n",
      "conv2d_46 (Conv2D)              (None, 128, 128, 32) 27680       concatenate_6[0][0]              \n",
      "__________________________________________________________________________________________________\n",
      "conv2d_47 (Conv2D)              (None, 128, 128, 32) 1056        conv2d_46[0][0]                  \n",
      "__________________________________________________________________________________________________\n",
      "conv2d_45 (Conv2D)              (None, 64, 64, 4)    2308        conv2d_44[0][0]                  \n",
      "__________________________________________________________________________________________________\n",
      "up_sampling2d_10 (UpSampling2D) (None, 256, 256, 32) 0           conv2d_47[0][0]                  \n",
      "__________________________________________________________________________________________________\n",
      "up_sampling2d_8 (UpSampling2D)  (None, 128, 128, 4)  0           conv2d_45[0][0]                  \n",
      "__________________________________________________________________________________________________\n",
      "conv2d_48 (Conv2D)              (None, 128, 128, 4)  1156        conv2d_47[0][0]                  \n",
      "__________________________________________________________________________________________________\n",
      "concatenate_7 (Concatenate)     (None, 256, 256, 48) 0           up_sampling2d_10[0][0]           \n",
      "                                                                 add_7[0][0]                      \n",
      "__________________________________________________________________________________________________\n",
      "add_12 (Add)                    (None, 128, 128, 4)  0           up_sampling2d_8[0][0]            \n",
      "                                                                 conv2d_48[0][0]                  \n",
      "__________________________________________________________________________________________________\n",
      "conv2d_49 (Conv2D)              (None, 256, 256, 32) 1568        concatenate_7[0][0]              \n",
      "__________________________________________________________________________________________________\n",
      "up_sampling2d_11 (UpSampling2D) (None, 256, 256, 4)  0           add_12[0][0]                     \n",
      "__________________________________________________________________________________________________\n",
      "conv2d_50 (Conv2D)              (None, 256, 256, 4)  1156        conv2d_49[0][0]                  \n",
      "__________________________________________________________________________________________________\n",
      "add_13 (Add)                    (None, 256, 256, 4)  0           up_sampling2d_11[0][0]           \n",
      "                                                                 conv2d_50[0][0]                  \n",
      "__________________________________________________________________________________________________\n",
      "conv2d_51 (Conv2D)              (None, 256, 256, 1)  5           add_13[0][0]                     \n",
      "==================================================================================================\n",
      "Total params: 2,573,681\n",
      "Trainable params: 2,573,681\n",
      "Non-trainable params: 0\n",
      "__________________________________________________________________________________________________\n"
     ]
    }
   ],
   "source": [
    "inputs = tensorflow.keras.Input(shape=( 256,256, 3))\n",
    "conv_layer = Conv2D(16, (3,3), activation = LeakyReLU(alpha=0.01), padding = 'same')(inputs)\n",
    "conv_layer1 = Conv2D(16, (3,3), activation = LeakyReLU(alpha=0.01), padding = 'same')(conv_layer)\n",
    "pool1 =  Dropout(0.3)(conv_layer1)\n",
    "conv_layer1 = Conv2D(16, (3,3), activation = LeakyReLU(alpha=0.01), padding = 'same')(pool1)\n",
    "conv_layer1 = Add()([conv_layer, conv_layer1])\n",
    "\n",
    "conv_layer_1s = Conv2D(32, (3,3), activation = LeakyReLU(alpha=0.01), padding = 'same', strides=(2,2))(conv_layer1)\n",
    "\n",
    "conv_layer2 = Conv2D(32,(3,3) , activation = LeakyReLU(alpha=0.01), padding = 'same')(conv_layer_1s)\n",
    "pool2 =  Dropout(0.3)(conv_layer2)\n",
    "conv_layer2 = Conv2D(32, (3,3), activation = LeakyReLU(alpha=0.01), padding = 'same')(pool2)\n",
    "conv_layer2 = Add()([conv_layer_1s, conv_layer2])\n",
    "\n",
    "conv_layer_2s = Conv2D(64, (3,3), activation = LeakyReLU(alpha=0.01), padding = 'same', strides=(2, 2))(conv_layer2)\n",
    "\n",
    "conv_layer3 = Conv2D(64,(3,3) , activation = LeakyReLU(alpha=0.01), padding = 'same')(conv_layer_2s)\n",
    "pool3 =  Dropout(0.3)(conv_layer3)\n",
    "conv_layer3 = Conv2D(64, (3,3),activation = LeakyReLU(alpha=0.01), padding = 'same')(pool3)\n",
    "conv_layer3 = Add()([conv_layer_2s, conv_layer3])\n",
    "\n",
    "conv_layer_3s = Conv2D(128, (3, 3), activation = LeakyReLU(alpha=0.01), padding = 'same', strides=(2, 2))(conv_layer3)\n",
    "\n",
    "conv_layer4 = Conv2D(128,(3,3) , activation = LeakyReLU(alpha=0.01), padding = 'same')(conv_layer_3s)\n",
    "pool4 =  Dropout(0.3)(conv_layer4)\n",
    "conv_layer4 = Conv2D(128, (3,3), activation = LeakyReLU(alpha=0.01), padding = 'same')(pool4)\n",
    "conv_layer4 = Add()([conv_layer_3s, conv_layer4])\n",
    "\n",
    "\n",
    "conv_layer_4s = Conv2D(256, (3, 3), activation = LeakyReLU(alpha=0.01), padding = 'same', strides=(2,2))(conv_layer4)\n",
    "\n",
    "conv_layer5 = Conv2D(256,(3,3) , activation = LeakyReLU(alpha=0.01), padding = 'same')(conv_layer_4s)\n",
    "pool5 =  Dropout(0.3)(conv_layer5)\n",
    "conv_layer5 = Conv2D(256, (3,3), activation = LeakyReLU(alpha=0.01), padding = 'same')(pool5)\n",
    "conv_layer5 = Add()([conv_layer_4s, conv_layer5])\n",
    "\n",
    "layer_6 = UpSampling2D()(conv_layer5)\n",
    "\n",
    "con1 = concatenate([layer_6, conv_layer4])\n",
    "\n",
    "up1 = Conv2D(128,(3,3) , activation = LeakyReLU(alpha=0.01), padding = 'same')(con1)\n",
    "up1 = Conv2D(128, (1,1),activation = LeakyReLU(alpha=0.01), padding = 'same')(up1)\n",
    "\n",
    "layer_7 = UpSampling2D()(up1)\n",
    "\n",
    "con2 = concatenate([layer_7, conv_layer3])\n",
    "\n",
    "up2 = Conv2D(64,(3,3) , activation = LeakyReLU(alpha=0.01), padding = 'same')(con2)\n",
    "up2 = Conv2D(64, (1,1),activation = LeakyReLU(alpha=0.01), padding = 'same')(up2)\n",
    "\n",
    "seg1 = Conv2D(4,(3,3) , activation = LeakyReLU(alpha=0.01), padding = 'same')(up2)\n",
    "seg1 = UpSampling2D()(seg1)\n",
    "\n",
    "layer_8 = UpSampling2D()(up2)\n",
    "\n",
    "con3 = concatenate([layer_8, conv_layer2])\n",
    "\n",
    "up3 = Conv2D(32,(3,3) ,activation = LeakyReLU(alpha=0.01), padding = 'same')(con3)\n",
    "up3 = Conv2D(32, (1,1), activation = LeakyReLU(alpha=0.01), padding = 'same')(up3)\n",
    "\n",
    "seg2 = Conv2D(4,(3,3) , activation = LeakyReLU(alpha=0.01), padding = 'same')(up3)\n",
    "\n",
    "layer_9 = UpSampling2D()(up3)\n",
    "\n",
    "con4 = concatenate([layer_9, conv_layer1])\n",
    "\n",
    "layer_10 = Conv2D(32, (1,1), activation = LeakyReLU(alpha=0.01), padding = 'same')(con4)\n",
    "\n",
    "seg3 = Conv2D(4,(3,3) , activation = LeakyReLU(alpha=0.01), padding = 'same')(layer_10)\n",
    "\n",
    "added_seg12 =Add()([seg1, seg2])\n",
    "added_seg12= UpSampling2D()(added_seg12)\n",
    "added_seg123= Add()([added_seg12, seg3])\n",
    "\n",
    "conv_final = Conv2D(1, 1, activation = \"sigmoid\")(added_seg123)\n",
    "model = tensorflow.keras.Model(inputs=inputs, outputs=conv_final)\n",
    "model.summary()"
   ]
  },
  {
   "cell_type": "code",
   "execution_count": 32,
   "metadata": {},
   "outputs": [],
   "source": [
    "import matplotlib\n",
    "import matplotlib.pyplot as plt"
   ]
  },
  {
   "cell_type": "code",
   "execution_count": 33,
   "metadata": {},
   "outputs": [
    {
     "data": {
      "text/plain": [
       "[<matplotlib.lines.Line2D at 0x220cb9acb08>]"
      ]
     },
     "execution_count": 33,
     "metadata": {},
     "output_type": "execute_result"
    },
    {
     "data": {
      "image/png": "[encoded data removed]",
      "text/plain": [
       "<Figure size 1008x288 with 2 Axes>"
      ]
     },
     "metadata": {
      "needs_background": "light"
     },
     "output_type": "display_data"
    }
   ],
   "source": [
    "fig, axs = plt.subplots(1, 2, figsize=(14, 4))\n",
    "axs[0].set_title(\"Loss plot\")\n",
    "axs[0].plot(moel_result.history['loss'], color='purple', label='train')\n",
    "axs[0].plot(moel_result.history['val_loss'], color='orange', label='test')\n",
    "axs[1].set_title(\"Accuracy plot\")\n",
    "axs[1].plot(moel_result.history['accuracy'], color='purple', label='train')\n",
    "axs[1].plot(moel_result.history['val_accuracy'], color='orange', label='test')"
   ]
  }
 ],
 "metadata": {
  "kernelspec": {
   "display_name": "Python 3",
   "language": "python",
   "name": "python3"
  },
  "language_info": {
   "codemirror_mode": {
    "name": "ipython",
    "version": 3
   },
   "file_extension": ".py",
   "mimetype": "text/x-python",
   "name": "python",
   "nbconvert_exporter": "python",
   "pygments_lexer": "ipython3",
   "version": "3.7.9"
  }
 },
 "nbformat": 4,
 "nbformat_minor": 4
}
