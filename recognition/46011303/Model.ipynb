{
 "cells": [
  {
   "cell_type": "code",
   "execution_count": 5,
   "metadata": {},
   "outputs": [],
   "source": [
    "import numpy as np\n",
    "import tensorflow \n",
    "from tensorflow import keras\n",
    "from tensorflow.keras import layers\n",
    "from tensorflow.keras.layers import LeakyReLU, Conv2D, Conv1D, MaxPooling2D,Dropout,UpSampling2D,UpSampling3D,concatenate,Conv2DTranspose,Add\n",
    "from tensorflow.keras import Sequential\n",
    "from tensorflow.keras.layers import Dense, Flatten\n"
   ]
  },
  {
   "cell_type": "code",
   "execution_count": 7,
   "metadata": {},
   "outputs": [
    {
     "name": "stdout",
     "output_type": "stream",
     "text": [
      "Model: \"model\"\n",
      "__________________________________________________________________________________________________\n",
      "Layer (type)                    Output Shape         Param #     Connected to                     \n",
      "==================================================================================================\n",
      "input_3 (InputLayer)            [(None, 256, 256, 1) 0                                            \n",
      "__________________________________________________________________________________________________\n",
      "conv2d_26 (Conv2D)              (None, 256, 256, 16) 160         input_3[0][0]                    \n",
      "__________________________________________________________________________________________________\n",
      "conv2d_27 (Conv2D)              (None, 256, 256, 16) 2320        conv2d_26[0][0]                  \n",
      "__________________________________________________________________________________________________\n",
      "dropout_5 (Dropout)             (None, 256, 256, 16) 0           conv2d_27[0][0]                  \n",
      "__________________________________________________________________________________________________\n",
      "conv2d_28 (Conv2D)              (None, 256, 256, 16) 2320        dropout_5[0][0]                  \n",
      "__________________________________________________________________________________________________\n",
      "add_7 (Add)                     (None, 256, 256, 16) 0           conv2d_26[0][0]                  \n",
      "                                                                 conv2d_28[0][0]                  \n",
      "__________________________________________________________________________________________________\n",
      "conv2d_29 (Conv2D)              (None, 128, 128, 32) 4640        add_7[0][0]                      \n",
      "__________________________________________________________________________________________________\n",
      "conv2d_30 (Conv2D)              (None, 128, 128, 32) 9248        conv2d_29[0][0]                  \n",
      "__________________________________________________________________________________________________\n",
      "dropout_6 (Dropout)             (None, 128, 128, 32) 0           conv2d_30[0][0]                  \n",
      "__________________________________________________________________________________________________\n",
      "conv2d_31 (Conv2D)              (None, 128, 128, 32) 9248        dropout_6[0][0]                  \n",
      "__________________________________________________________________________________________________\n",
      "add_8 (Add)                     (None, 128, 128, 32) 0           conv2d_29[0][0]                  \n",
      "                                                                 conv2d_31[0][0]                  \n",
      "__________________________________________________________________________________________________\n",
      "conv2d_32 (Conv2D)              (None, 64, 64, 64)   18496       add_8[0][0]                      \n",
      "__________________________________________________________________________________________________\n",
      "conv2d_33 (Conv2D)              (None, 64, 64, 64)   36928       conv2d_32[0][0]                  \n",
      "__________________________________________________________________________________________________\n",
      "dropout_7 (Dropout)             (None, 64, 64, 64)   0           conv2d_33[0][0]                  \n",
      "__________________________________________________________________________________________________\n",
      "conv2d_34 (Conv2D)              (None, 64, 64, 64)   36928       dropout_7[0][0]                  \n",
      "__________________________________________________________________________________________________\n",
      "add_9 (Add)                     (None, 64, 64, 64)   0           conv2d_32[0][0]                  \n",
      "                                                                 conv2d_34[0][0]                  \n",
      "__________________________________________________________________________________________________\n",
      "conv2d_35 (Conv2D)              (None, 32, 32, 128)  73856       add_9[0][0]                      \n",
      "__________________________________________________________________________________________________\n",
      "conv2d_36 (Conv2D)              (None, 32, 32, 128)  147584      conv2d_35[0][0]                  \n",
      "__________________________________________________________________________________________________\n",
      "dropout_8 (Dropout)             (None, 32, 32, 128)  0           conv2d_36[0][0]                  \n",
      "__________________________________________________________________________________________________\n",
      "conv2d_37 (Conv2D)              (None, 32, 32, 128)  147584      dropout_8[0][0]                  \n",
      "__________________________________________________________________________________________________\n",
      "add_10 (Add)                    (None, 32, 32, 128)  0           conv2d_35[0][0]                  \n",
      "                                                                 conv2d_37[0][0]                  \n",
      "__________________________________________________________________________________________________\n",
      "conv2d_38 (Conv2D)              (None, 16, 16, 256)  295168      add_10[0][0]                     \n",
      "__________________________________________________________________________________________________\n",
      "conv2d_39 (Conv2D)              (None, 16, 16, 256)  590080      conv2d_38[0][0]                  \n",
      "__________________________________________________________________________________________________\n",
      "dropout_9 (Dropout)             (None, 16, 16, 256)  0           conv2d_39[0][0]                  \n",
      "__________________________________________________________________________________________________\n",
      "conv2d_40 (Conv2D)              (None, 16, 16, 256)  590080      dropout_9[0][0]                  \n",
      "__________________________________________________________________________________________________\n",
      "add_11 (Add)                    (None, 16, 16, 256)  0           conv2d_38[0][0]                  \n",
      "                                                                 conv2d_40[0][0]                  \n",
      "__________________________________________________________________________________________________\n",
      "up_sampling2d_6 (UpSampling2D)  (None, 32, 32, 256)  0           add_11[0][0]                     \n",
      "__________________________________________________________________________________________________\n",
      "concatenate_4 (Concatenate)     (None, 32, 32, 384)  0           up_sampling2d_6[0][0]            \n",
      "                                                                 add_10[0][0]                     \n",
      "__________________________________________________________________________________________________\n",
      "conv2d_41 (Conv2D)              (None, 32, 32, 128)  442496      concatenate_4[0][0]              \n",
      "__________________________________________________________________________________________________\n",
      "conv2d_42 (Conv2D)              (None, 32, 32, 128)  16512       conv2d_41[0][0]                  \n",
      "__________________________________________________________________________________________________\n",
      "up_sampling2d_7 (UpSampling2D)  (None, 64, 64, 128)  0           conv2d_42[0][0]                  \n",
      "__________________________________________________________________________________________________\n",
      "concatenate_5 (Concatenate)     (None, 64, 64, 192)  0           up_sampling2d_7[0][0]            \n",
      "                                                                 add_9[0][0]                      \n",
      "__________________________________________________________________________________________________\n",
      "conv2d_43 (Conv2D)              (None, 64, 64, 64)   110656      concatenate_5[0][0]              \n",
      "__________________________________________________________________________________________________\n",
      "conv2d_44 (Conv2D)              (None, 64, 64, 64)   4160        conv2d_43[0][0]                  \n",
      "__________________________________________________________________________________________________\n",
      "up_sampling2d_9 (UpSampling2D)  (None, 128, 128, 64) 0           conv2d_44[0][0]                  \n",
      "__________________________________________________________________________________________________\n",
      "concatenate_6 (Concatenate)     (None, 128, 128, 96) 0           up_sampling2d_9[0][0]            \n",
      "                                                                 add_8[0][0]                      \n",
      "__________________________________________________________________________________________________\n",
      "conv2d_46 (Conv2D)              (None, 128, 128, 32) 27680       concatenate_6[0][0]              \n",
      "__________________________________________________________________________________________________\n",
      "conv2d_47 (Conv2D)              (None, 128, 128, 32) 1056        conv2d_46[0][0]                  \n",
      "__________________________________________________________________________________________________\n",
      "conv2d_45 (Conv2D)              (None, 64, 64, 4)    2308        conv2d_44[0][0]                  \n",
      "__________________________________________________________________________________________________\n",
      "up_sampling2d_10 (UpSampling2D) (None, 256, 256, 32) 0           conv2d_47[0][0]                  \n",
      "__________________________________________________________________________________________________\n",
      "up_sampling2d_8 (UpSampling2D)  (None, 128, 128, 4)  0           conv2d_45[0][0]                  \n",
      "__________________________________________________________________________________________________\n",
      "conv2d_48 (Conv2D)              (None, 128, 128, 4)  1156        conv2d_47[0][0]                  \n",
      "__________________________________________________________________________________________________\n",
      "concatenate_7 (Concatenate)     (None, 256, 256, 48) 0           up_sampling2d_10[0][0]           \n",
      "                                                                 add_7[0][0]                      \n",
      "__________________________________________________________________________________________________\n",
      "add_12 (Add)                    (None, 128, 128, 4)  0           up_sampling2d_8[0][0]            \n",
      "                                                                 conv2d_48[0][0]                  \n",
      "__________________________________________________________________________________________________\n",
      "conv2d_49 (Conv2D)              (None, 256, 256, 32) 1568        concatenate_7[0][0]              \n",
      "__________________________________________________________________________________________________\n",
      "up_sampling2d_11 (UpSampling2D) (None, 256, 256, 4)  0           add_12[0][0]                     \n",
      "__________________________________________________________________________________________________\n",
      "conv2d_50 (Conv2D)              (None, 256, 256, 4)  1156        conv2d_49[0][0]                  \n",
      "__________________________________________________________________________________________________\n",
      "add_13 (Add)                    (None, 256, 256, 4)  0           up_sampling2d_11[0][0]           \n",
      "                                                                 conv2d_50[0][0]                  \n",
      "__________________________________________________________________________________________________\n",
      "conv2d_51 (Conv2D)              (None, 256, 256, 4)  20          add_13[0][0]                     \n",
      "==================================================================================================\n",
      "Total params: 2,573,408\n",
      "Trainable params: 2,573,408\n",
      "Non-trainable params: 0\n",
      "__________________________________________________________________________________________________\n"
     ]
    }
   ],
   "source": [
    "inputs = tensorflow.keras.Input(shape=( 256,256, 1))\n",
    "conv_layer = Conv2D(16, (3,3), activation = LeakyReLU(alpha=0.01), padding = 'same')(inputs)\n",
    "conv_layer1 = Conv2D(16, (3,3), activation = LeakyReLU(alpha=0.01), padding = 'same')(conv_layer)\n",
    "pool1 =  Dropout(0.3)(conv_layer1)\n",
    "conv_layer1 = Conv2D(16, (3,3), activation = LeakyReLU(alpha=0.01), padding = 'same')(pool1)\n",
    "conv_layer1 = Add()([conv_layer, conv_layer1])\n",
    "\n",
    "conv_layer_1s = Conv2D(32, (3,3), activation = LeakyReLU(alpha=0.01), padding = 'same', strides=(2,2))(conv_layer1)\n",
    "\n",
    "conv_layer2 = Conv2D(32,(3,3) , activation = LeakyReLU(alpha=0.01), padding = 'same')(conv_layer_1s)\n",
    "pool2 =  Dropout(0.3)(conv_layer2)\n",
    "conv_layer2 = Conv2D(32, (3,3), activation = LeakyReLU(alpha=0.01), padding = 'same')(pool2)\n",
    "conv_layer2 = Add()([conv_layer_1s, conv_layer2])\n",
    "\n",
    "conv_layer_2s = Conv2D(64, (3,3), activation = LeakyReLU(alpha=0.01), padding = 'same', strides=(2, 2))(conv_layer2)\n",
    "\n",
    "conv_layer3 = Conv2D(64,(3,3) , activation = LeakyReLU(alpha=0.01), padding = 'same')(conv_layer_2s)\n",
    "pool3 =  Dropout(0.3)(conv_layer3)\n",
    "conv_layer3 = Conv2D(64, (3,3),activation = LeakyReLU(alpha=0.01), padding = 'same')(pool3)\n",
    "conv_layer3 = Add()([conv_layer_2s, conv_layer3])\n",
    "\n",
    "conv_layer_3s = Conv2D(128, (3, 3), activation = LeakyReLU(alpha=0.01), padding = 'same', strides=(2, 2))(conv_layer3)\n",
    "\n",
    "conv_layer4 = Conv2D(128,(3,3) , activation = LeakyReLU(alpha=0.01), padding = 'same')(conv_layer_3s)\n",
    "pool4 =  Dropout(0.3)(conv_layer4)\n",
    "conv_layer4 = Conv2D(128, (3,3), activation = LeakyReLU(alpha=0.01), padding = 'same')(pool4)\n",
    "conv_layer4 = Add()([conv_layer_3s, conv_layer4])\n",
    "\n",
    "\n",
    "conv_layer_4s = Conv2D(256, (3, 3), activation = LeakyReLU(alpha=0.01), padding = 'same', strides=(2,2))(conv_layer4)\n",
    "\n",
    "conv_layer5 = Conv2D(256,(3,3) , activation = LeakyReLU(alpha=0.01), padding = 'same')(conv_layer_4s)\n",
    "pool5 =  Dropout(0.3)(conv_layer5)\n",
    "conv_layer5 = Conv2D(256, (3,3), activation = LeakyReLU(alpha=0.01), padding = 'same')(pool5)\n",
    "conv_layer5 = Add()([conv_layer_4s, conv_layer5])\n",
    "\n",
    "layer_6 = UpSampling2D()(conv_layer5)\n",
    "\n",
    "con1 = concatenate([layer_6, conv_layer4])\n",
    "\n",
    "up1 = Conv2D(128,(3,3) , activation = LeakyReLU(alpha=0.01), padding = 'same')(con1)\n",
    "up1 = Conv2D(128, (1,1),activation = LeakyReLU(alpha=0.01), padding = 'same')(up1)\n",
    "\n",
    "layer_7 = UpSampling2D()(up1)\n",
    "\n",
    "con2 = concatenate([layer_7, conv_layer3])\n",
    "\n",
    "up2 = Conv2D(64,(3,3) , activation = LeakyReLU(alpha=0.01), padding = 'same')(con2)\n",
    "up2 = Conv2D(64, (1,1),activation = LeakyReLU(alpha=0.01), padding = 'same')(up2)\n",
    "\n",
    "seg1 = Conv2D(4,(3,3) , activation = LeakyReLU(alpha=0.01), padding = 'same')(up2)\n",
    "seg1 = UpSampling2D()(seg1)\n",
    "\n",
    "layer_8 = UpSampling2D()(up2)\n",
    "\n",
    "con3 = concatenate([layer_8, conv_layer2])\n",
    "\n",
    "up3 = Conv2D(32,(3,3) ,activation = LeakyReLU(alpha=0.01), padding = 'same')(con3)\n",
    "up3 = Conv2D(32, (1,1), activation = LeakyReLU(alpha=0.01), padding = 'same')(up3)\n",
    "\n",
    "seg2 = Conv2D(4,(3,3) , activation = LeakyReLU(alpha=0.01), padding = 'same')(up3)\n",
    "\n",
    "layer_9 = UpSampling2D()(up3)\n",
    "\n",
    "con4 = concatenate([layer_9, conv_layer1])\n",
    "\n",
    "layer_10 = Conv2D(32, (1,1), activation = LeakyReLU(alpha=0.01), padding = 'same')(con4)\n",
    "\n",
    "seg3 = Conv2D(4,(3,3) , activation = LeakyReLU(alpha=0.01), padding = 'same')(layer_10)\n",
    "\n",
    "added_seg12 =Add()([seg1, seg2])\n",
    "added_seg12= UpSampling2D()(added_seg12)\n",
    "added_seg123= Add()([added_seg12, seg3])\n",
    "\n",
    "conv_final = Conv2D(4, 1, activation = \"softmax\")(added_seg123)\n",
    "model = tensorflow.keras.Model(inputs=inputs, outputs=conv_final)\n",
    "model.summary()"
   ]
  },
  {
   "cell_type": "code",
   "execution_count": 9,
   "metadata": {},
   "outputs": [],
   "source": [
    "import glob\n",
    "from PIL import Image\n",
    "import numpy as np"
   ]
  },
  {
   "cell_type": "code",
   "execution_count": 10,
   "metadata": {},
   "outputs": [],
   "source": [
    "base_path = \"C:/Users/s4601130/Downloads\"\n",
    "x_train_files = glob.glob(base_path + \"/keras_png_slices_data/keras_png_slices_train/*.png\")\n",
    "y_train_files =glob.glob(base_path + \"/keras_png_slices_data/keras_png_slices_seg_train/*.png\")\n",
    "x_val_files = glob.glob(base_path + \"/keras_png_slices_data/keras_png_slices_validate/*.png\")\n",
    "y_val_files = glob.glob(base_path + \"/keras_png_slices_data/keras_png_slices_seg_validate/*.png\")\n",
    "x_test_files =glob.glob(base_path + \"/keras_png_slices_data/keras_png_slices_test/*.png\")\n",
    "y_test_files = glob.glob(base_path + \"/keras_png_slices_data/keras_png_slices_seg_test/*.png\")"
   ]
  },
  {
   "cell_type": "code",
   "execution_count": 11,
   "metadata": {},
   "outputs": [
    {
     "name": "stdout",
     "output_type": "stream",
     "text": [
      "C:/Users/s4601130/Downloads/keras_png_slices_data/keras_png_slices_validate\\case_402_slice_0.nii.png\n",
      "C:/Users/s4601130/Downloads/keras_png_slices_data/keras_png_slices_seg_validate\\seg_402_slice_0.nii.png\n"
     ]
    }
   ],
   "source": [
    "x_train_files.sort()\n",
    "y_train_files.sort()\n",
    "x_val_files.sort()\n",
    "y_val_files.sort()\n",
    "x_test_files.sort()\n",
    "y_test_files.sort()\n",
    "print(x_val_files[0])\n",
    "print(y_val_files[0])"
   ]
  },
  {
   "cell_type": "code",
   "execution_count": 12,
   "metadata": {},
   "outputs": [
    {
     "name": "stdout",
     "output_type": "stream",
     "text": [
      "(9664, 256, 256, 1)\n"
     ]
    }
   ],
   "source": [
    "x_train = []\n",
    "y_train = []\n",
    "x_val= []\n",
    "y_val = []\n",
    "x_test =[]\n",
    "y_test= []\n",
    "assert(len(y_train_files) == len(x_train_files))\n",
    "for i in range(len(x_train_files)):\n",
    "    \n",
    "    x = np.array(Image.open(x_train_files[i]))\n",
    "    x_train.append(x)\n",
    "    x = np.array(Image.open(y_train_files[i]))\n",
    "    y_train.append(x)\n",
    "x_train = np.expand_dims(np.array(x_train), -1)\n",
    "y_train = np.expand_dims(np.array(y_train), -1)\n",
    "\n",
    "\n",
    "\n",
    "print(np.array(y_train).shape)"
   ]
  },
  {
   "cell_type": "code",
   "execution_count": 13,
   "metadata": {},
   "outputs": [
    {
     "name": "stdout",
     "output_type": "stream",
     "text": [
      "(544, 256, 256, 1)\n"
     ]
    }
   ],
   "source": [
    "assert(len(y_test_files) == len(x_test_files))\n",
    "for i in range(len(x_test_files)):\n",
    "    \n",
    "    x = np.array(Image.open(x_test_files[i]))\n",
    "    x_test.append(x)\n",
    "    x = np.array(Image.open(y_test_files[i]))\n",
    "    y_test.append(x)\n",
    "x_test = np.expand_dims(np.array(x_test), -1)\n",
    "y_test = np.expand_dims(np.array(y_test), -1)\n",
    "print(np.array(y_test).shape)"
   ]
  },
  {
   "cell_type": "code",
   "execution_count": 14,
   "metadata": {},
   "outputs": [],
   "source": [
    "assert(len(y_val_files) == len(x_val_files))\n",
    "for i in range(len(x_val_files)):\n",
    "    \n",
    "    x = np.array(Image.open(x_val_files[i]))\n",
    "    x_val.append(x)\n",
    "    x = np.array(Image.open(y_val_files[i]))\n",
    "    y_val.append(x)\n",
    "x_val = np.expand_dims(np.array(x_val), -1)\n",
    "y_val = np.expand_dims(np.array(y_val), -1)"
   ]
  },
  {
   "cell_type": "code",
   "execution_count": 15,
   "metadata": {},
   "outputs": [
    {
     "data": {
      "text/plain": [
       "array([0., 1., 2., 3.])"
      ]
     },
     "execution_count": 15,
     "metadata": {},
     "output_type": "execute_result"
    }
   ],
   "source": [
    "y_train = y_train/85\n",
    "\n",
    "#np.unique(y_train[0])\n",
    "y_test = y_test/85\n",
    "\n",
    "y_val = y_val/85\n",
    "#np.unique(y_val[0])\n",
    "np.unique(y_train[0])"
   ]
  },
  {
   "cell_type": "code",
   "execution_count": null,
   "metadata": {},
   "outputs": [],
   "source": []
  },
  {
   "cell_type": "code",
   "execution_count": 18,
   "metadata": {},
   "outputs": [],
   "source": [
    "model.compile(loss='sparse_categorical_crossentropy',\n",
    "optimizer=tensorflow.keras.optimizers.Adam(learning_rate=5e-4),\n",
    "metrics=['accuracy'])"
   ]
  },
  {
   "cell_type": "code",
   "execution_count": null,
   "metadata": {},
   "outputs": [],
   "source": [
    "print(y_train.shape)\n",
    "print(y_val.shape)"
   ]
  },
  {
   "cell_type": "code",
   "execution_count": 19,
   "metadata": {},
   "outputs": [
    {
     "name": "stdout",
     "output_type": "stream",
     "text": [
      "Train on 9664 samples, validate on 1120 samples\n",
      "Epoch 1/4\n",
      "9664/9664 [==============================] - 92s 10ms/sample - loss: 0.1472 - accuracy: 0.9488 - val_loss: 0.0573 - val_accuracy: 0.9767\n",
      "Epoch 2/4\n",
      "9664/9664 [==============================] - 88s 9ms/sample - loss: 0.0500 - accuracy: 0.9800 - val_loss: 0.0417 - val_accuracy: 0.9829\n",
      "Epoch 3/4\n",
      "9664/9664 [==============================] - 87s 9ms/sample - loss: 0.0395 - accuracy: 0.9841 - val_loss: 0.0430 - val_accuracy: 0.9819\n",
      "Epoch 4/4\n",
      "9664/9664 [==============================] - 88s 9ms/sample - loss: 0.0352 - accuracy: 0.9857 - val_loss: 0.0301 - val_accuracy: 0.9878\n"
     ]
    }
   ],
   "source": [
    "moel_result = model.fit(x_train, y_train, batch_size=8, epochs=4, validation_data = (x_val, y_val))"
   ]
  },
  {
   "cell_type": "code",
   "execution_count": 20,
   "metadata": {},
   "outputs": [],
   "source": [
    "y_pred = model.predict(x_test)"
   ]
  },
  {
   "cell_type": "code",
   "execution_count": null,
   "metadata": {},
   "outputs": [],
   "source": [
    "print(y_pred.shape)\n",
    "print(y_test.shape)"
   ]
  },
  {
   "cell_type": "code",
   "execution_count": null,
   "metadata": {},
   "outputs": [],
   "source": [
    "from tensorflow. keras import backend as K\n",
    "def dice_coef(y_true, y_pred, smooth=1):\n",
    "  intersection = K.sum(y_true * y_pred, axis=[1,2,3])\n",
    "  union = K.sum(y_true, axis=[1,2,3]) + K.sum(y_pred, axis=[1,2,3])\n",
    "  dice = K.mean((2. * intersection + smooth)/(union + smooth), axis=0)\n",
    "  return dice\n",
    "dice_sim = dice_coef(y_test, y_pred)\n",
    "print(dice_sim)"
   ]
  },
  {
   "cell_type": "code",
   "execution_count": null,
   "metadata": {},
   "outputs": [],
   "source": [
    "scores = model.evaluate(x_test,y_test, verbose=0)\n",
    "print(\"%s: %.2f%%\" % (model.metrics_names[1], scores[1]*100))"
   ]
  },
  {
   "cell_type": "code",
   "execution_count": 22,
   "metadata": {},
   "outputs": [
    {
     "name": "stdout",
     "output_type": "stream",
     "text": [
      "tf.Tensor([0.99773209 0.90456766 0.93014963 0.95998859], shape=(4,), dtype=float64)\n"
     ]
    }
   ],
   "source": [
    "def dice_score(y_true, y_pred):\n",
    "    y_true = tensorflow.keras.utils.to_categorical(y_true,4, \"int32\")\n",
    "\n",
    "    intersection = tensorflow.reduce_sum(y_true*y_pred, axis= [1,2])\n",
    "\n",
    "    denominator = tensorflow.reduce_sum(y_true +y_pred, axis= [1,2])\n",
    "    \n",
    "    dice_score= tensorflow.reduce_mean((2.0*intersection)/(denominator+ 1e-6), axis=0)\n",
    "    return dice_score\n",
    "res = dice_score(y_test, y_pred)\n",
    "print(res)"
   ]
  },
  {
   "cell_type": "code",
   "execution_count": null,
   "metadata": {},
   "outputs": [],
   "source": []
  }
 ],
 "metadata": {
  "kernelspec": {
   "display_name": "Python 3",
   "language": "python",
   "name": "python3"
  }
 },
 "nbformat": 4,
 "nbformat_minor": 4
}
