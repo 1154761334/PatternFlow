{
 "cells": [
  {
   "cell_type": "code",
   "execution_count": 17,
   "metadata": {},
   "outputs": [],
   "source": [
    "import numpy as np\n",
    "import tensorflow as tf\n",
    "from tensorflow import keras\n",
    "from tensorflow.keras import layers\n",
    "from tensorflow.keras.layers import Conv3D, Conv1D, MaxPooling2D,Dropout,UpSampling2D,UpSampling3D,concatenate,Conv2DTranspose,Add\n",
    "from tensorflow.keras import Sequential\n",
    "from keras.layers import Dense, Flatten"
   ]
  },
  {
   "cell_type": "code",
   "execution_count": 24,
   "metadata": {},
   "outputs": [
    {
     "ename": "TypeError",
     "evalue": "__init__() got multiple values for argument 'data_format'",
     "output_type": "error",
     "traceback": [
      "\u001b[1;31m---------------------------------------------------------------------------\u001b[0m",
      "\u001b[1;31mTypeError\u001b[0m                                 Traceback (most recent call last)",
      "\u001b[1;32m<ipython-input-24-386629a4b395>\u001b[0m in \u001b[0;36m<module>\u001b[1;34m\u001b[0m\n\u001b[0;32m     35\u001b[0m \u001b[0mconv_layer5\u001b[0m \u001b[1;33m=\u001b[0m \u001b[0mAdd\u001b[0m\u001b[1;33m(\u001b[0m\u001b[1;33m)\u001b[0m\u001b[1;33m(\u001b[0m\u001b[1;33m[\u001b[0m\u001b[0mconv_layer4\u001b[0m\u001b[1;33m,\u001b[0m \u001b[0mconv_layer5\u001b[0m\u001b[1;33m]\u001b[0m\u001b[1;33m)\u001b[0m\u001b[1;33m\u001b[0m\u001b[1;33m\u001b[0m\u001b[0m\n\u001b[0;32m     36\u001b[0m \u001b[1;33m\u001b[0m\u001b[0m\n\u001b[1;32m---> 37\u001b[1;33m \u001b[0mlayer_6\u001b[0m \u001b[1;33m=\u001b[0m \u001b[0mUpSampling3D\u001b[0m\u001b[1;33m(\u001b[0m\u001b[1;36m128\u001b[0m\u001b[1;33m,\u001b[0m\u001b[1;33m(\u001b[0m\u001b[1;36m3\u001b[0m\u001b[1;33m,\u001b[0m\u001b[1;36m3\u001b[0m\u001b[1;33m,\u001b[0m\u001b[1;36m3\u001b[0m\u001b[1;33m)\u001b[0m \u001b[1;33m,\u001b[0m \u001b[0mactivation\u001b[0m \u001b[1;33m=\u001b[0m \u001b[1;34m'relu'\u001b[0m\u001b[1;33m,\u001b[0m\u001b[0mdata_format\u001b[0m\u001b[1;33m=\u001b[0m \u001b[1;34m'data_format'\u001b[0m\u001b[1;33m,\u001b[0m \u001b[0mpadding\u001b[0m \u001b[1;33m=\u001b[0m \u001b[1;34m'same'\u001b[0m\u001b[1;33m)\u001b[0m\u001b[1;33m(\u001b[0m\u001b[0mconv_layer5\u001b[0m\u001b[1;33m)\u001b[0m\u001b[1;33m\u001b[0m\u001b[1;33m\u001b[0m\u001b[0m\n\u001b[0m",
      "\u001b[1;31mTypeError\u001b[0m: __init__() got multiple values for argument 'data_format'"
     ]
    }
   ],
   "source": [
    "inputs = tf.keras.Input(shape=( None, 256,256, 1))\n",
    "conv_layer = Conv3D(16, (3,3,3), activation = 'relu', padding = 'same')(inputs)\n",
    "conv_layer1 = Conv3D(16, (3,3,3), activation = 'relu', padding = 'same')(conv_layer)\n",
    "pool1 =  Dropout(0.3)(conv_layer1)\n",
    "conv_layer1 = Conv3D(16, (3,3, 3), activation = 'relu', padding = 'same')(pool1)\n",
    "conv_layer1 = Add()([conv_layer, conv_layer1])\n",
    "\n",
    "conv_layer1 = Conv3D(32, (3,3, 3), activation = 'relu', padding = 'same', strides=(2,2, 2))(conv_layer1)\n",
    "\n",
    "conv_layer2 = Conv3D(32,(3,3,3) , activation = 'relu', padding = 'same')(conv_layer1)\n",
    "pool2 =  Dropout(0.3)(conv_layer2)\n",
    "conv_layer2 = Conv3D(32, (3,3,3), activation = 'relu', padding = 'same')(pool2)\n",
    "conv_layer2 = Add()([conv_layer1, conv_layer2])\n",
    "\n",
    "conv_layer2 = Conv3D(64, (3,3, 3), activation = 'relu', padding = 'same', strides=(2,2, 2))(conv_layer2)\n",
    "\n",
    "conv_layer3 = Conv3D(64,(3,3,3) , activation = 'relu', padding = 'same')(conv_layer2)\n",
    "pool3 =  Dropout(0.3)(conv_layer3)\n",
    "conv_layer3 = Conv3D(64, (3,3,3), activation = 'relu', padding = 'same')(pool3)\n",
    "conv_layer3 = Add()([conv_layer2, conv_layer3])\n",
    "\n",
    "conv_layer3 = Conv3D(128, (3,3, 3), activation = 'relu', padding = 'same', strides=(2,2, 2))(conv_layer3)\n",
    "\n",
    "conv_layer4 = Conv3D(128,(3,3,3) , activation = 'relu', padding = 'same')(conv_layer3)\n",
    "pool4 =  Dropout(0.3)(conv_layer4)\n",
    "conv_layer4 = Conv3D(128, (3,3,3), activation = 'relu', padding = 'same')(pool4)\n",
    "conv_layer4 = Add()([conv_layer3, conv_layer4])\n",
    "\n",
    "\n",
    "conv_layer4 = Conv3D(256, (3,3, 3), activation = 'relu', padding = 'same', strides=(2,2, 2))(conv_layer4)\n",
    "\n",
    "conv_layer5 = Conv3D(256,(3,3,3) , activation = 'relu', padding = 'same')(conv_layer4)\n",
    "pool5 =  Dropout(0.3)(conv_layer5)\n",
    "conv_layer5 = Conv3D(256, (3,3,3), activation = 'relu', padding = 'same')(pool5)\n",
    "conv_layer5 = Add()([conv_layer4, conv_layer5])\n",
    "\n",
    "layer_6 = UpSampling3D(128,(3,3,3) , activation = 'relu',data_format= , padding = 'same')(conv_layer5)"
   ]
  },
  {
   "cell_type": "code",
   "execution_count": null,
   "metadata": {},
   "outputs": [],
   "source": []
  }
 ],
 "metadata": {
  "kernelspec": {
   "display_name": "Python 3",
   "language": "python",
   "name": "python3"
  },
  "language_info": {
   "codemirror_mode": {
    "name": "ipython",
    "version": 3
   },
   "file_extension": ".py",
   "mimetype": "text/x-python",
   "name": "python",
   "nbconvert_exporter": "python",
   "pygments_lexer": "ipython3",
   "version": "3.7.7"
  }
 },
 "nbformat": 4,
 "nbformat_minor": 4
}
