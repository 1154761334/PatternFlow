{
 "cells": [
  {
   "cell_type": "code",
   "execution_count": 1,
   "metadata": {},
   "outputs": [
    {
     "name": "stderr",
     "output_type": "stream",
     "text": [
      "Using TensorFlow backend.\n"
     ]
    }
   ],
   "source": [
    "import numpy as np\n",
    "import tensorflow as tf\n",
    "from tensorflow import keras\n",
    "from tensorflow.keras import layers\n",
    "from tensorflow.keras.layers import Conv2D, Conv1D, MaxPooling2D,Dropout,UpSampling2D,UpSampling3D,concatenate,Conv2DTranspose,Add\n",
    "from tensorflow.keras import Sequential\n",
    "from keras.layers import Dense, Flatten"
   ]
  },
  {
   "cell_type": "code",
   "execution_count": 18,
   "metadata": {},
   "outputs": [],
   "source": [
    "inputs = tf.keras.Input(shape=( 256,256, 1))\n",
    "conv_layer = Conv2D(16, (3,3), activation = 'relu', padding = 'same')(inputs)\n",
    "conv_layer1 = Conv2D(16, (3,3), activation = 'relu', padding = 'same')(conv_layer)\n",
    "pool1 =  Dropout(0.3)(conv_layer1)\n",
    "conv_layer1 = Conv2D(16, (3,3), activation = 'relu', padding = 'same')(pool1)\n",
    "conv_layer1 = Add()([conv_layer, conv_layer1])\n",
    "\n",
    "conv_layer_1s = Conv2D(32, (3,3), activation = 'relu', padding = 'same', strides=(2,2))(conv_layer1)\n",
    "\n",
    "conv_layer2 = Conv2D(32,(3,3) , activation = 'relu', padding = 'same')(conv_layer_1s)\n",
    "pool2 =  Dropout(0.3)(conv_layer2)\n",
    "conv_layer2 = Conv2D(32, (3,3), activation = 'relu', padding = 'same')(pool2)\n",
    "conv_layer2 = Add()([conv_layer_1s, conv_layer2])\n",
    "\n",
    "conv_layer_2s = Conv2D(64, (3,3), activation = 'relu', padding = 'same', strides=(2, 2))(conv_layer2)\n",
    "\n",
    "conv_layer3 = Conv2D(64,(3,3) , activation = 'relu', padding = 'same')(conv_layer_2s)\n",
    "pool3 =  Dropout(0.3)(conv_layer3)\n",
    "conv_layer3 = Conv2D(64, (3,3), activation = 'relu', padding = 'same')(pool3)\n",
    "conv_layer3 = Add()([conv_layer_2s, conv_layer3])\n",
    "\n",
    "conv_layer_3s = Conv2D(128, (3, 3), activation = 'relu', padding = 'same', strides=(2, 2))(conv_layer3)\n",
    "\n",
    "conv_layer4 = Conv2D(128,(3,3) , activation = 'relu', padding = 'same')(conv_layer_3s)\n",
    "pool4 =  Dropout(0.3)(conv_layer4)\n",
    "conv_layer4 = Conv2D(128, (3,3), activation = 'relu', padding = 'same')(pool4)\n",
    "conv_layer4 = Add()([conv_layer_3s, conv_layer4])\n",
    "\n",
    "\n",
    "conv_layer_4s = Conv2D(256, (3, 3), activation = 'relu', padding = 'same', strides=(2,2))(conv_layer4)\n",
    "\n",
    "conv_layer5 = Conv2D(256,(3,3) , activation = 'relu', padding = 'same')(conv_layer_4s)\n",
    "pool5 =  Dropout(0.3)(conv_layer5)\n",
    "conv_layer5 = Conv2D(256, (3,3), activation = 'relu', padding = 'same')(pool5)\n",
    "conv_layer5 = Add()([conv_layer_4s, conv_layer5])\n",
    "\n",
    "layer_6 = UpSampling2D()(conv_layer5)\n",
    "\n",
    "con1 = concatenate([layer_6, conv_layer4])\n",
    "\n",
    "up1 = Conv2D(128,(3,3) , activation = 'relu', padding = 'same')(con1)\n",
    "up1 = Conv2D(128, (1,1), activation = 'relu', padding = 'same')(up1)\n",
    "\n",
    "layer_7 = UpSampling2D()(up1)\n",
    "\n",
    "con2 = concatenate([layer_7, conv_layer3])\n",
    "\n",
    "up2 = Conv2D(64,(3,3) , activation = 'relu', padding = 'same')(con2)\n",
    "up2 = Conv2D(64, (1,1), activation = 'relu', padding = 'same')(up2)\n",
    "\n",
    "layer_8 = UpSampling2D()(up2)\n",
    "\n",
    "con3 = concatenate([layer_8, conv_layer2])\n",
    "\n",
    "up3 = Conv2D(32,(3,3) , activation = 'relu', padding = 'same')(con3)\n",
    "up3 = Conv2D(32, (1,1), activation = 'relu', padding = 'same')(up3)\n",
    "\n",
    "layer_9 = UpSampling2D()(up3)\n",
    "\n",
    "con4 = concatenate([layer_9, conv_layer1])\n",
    "\n",
    "layer_10 = Conv2D(32, (1,1), activation = 'relu', padding = 'same')(con4)"
   ]
  },
  {
   "cell_type": "code",
   "execution_count": null,
   "metadata": {},
   "outputs": [],
   "source": []
  }
 ],
 "metadata": {
  "kernelspec": {
   "display_name": "Python 3",
   "language": "python",
   "name": "python3"
  },
  "language_info": {
   "codemirror_mode": {
    "name": "ipython",
    "version": 3
   },
   "file_extension": ".py",
   "mimetype": "text/x-python",
   "name": "python",
   "nbconvert_exporter": "python",
   "pygments_lexer": "ipython3",
   "version": "3.7.7"
  }
 },
 "nbformat": 4,
 "nbformat_minor": 4
}
