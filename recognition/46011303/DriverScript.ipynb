{
 "cells": [
  {
   "cell_type": "code",
   "execution_count": 1,
   "metadata": {},
   "outputs": [],
   "source": [
    "import numpy as np\n",
    "import tensorflow \n",
    "from tensorflow import keras\n",
    "from tensorflow.keras import layers\n",
    "from tensorflow.keras.layers import LeakyReLU, Conv2D, Conv1D, MaxPooling2D,Dropout,UpSampling2D,UpSampling3D,concatenate,Conv2DTranspose,Add\n",
    "from tensorflow.keras import Sequential\n",
    "from tensorflow.keras.layers import Dense, Flatten\n",
    "from model import model\n",
    "import glob\n",
    "from PIL import Image\n",
    "import numpy as np\n",
    "\n",
    "import sklearn\n",
    "from sklearn.model_selection import train_test_split"
   ]
  },
  {
   "cell_type": "code",
   "execution_count": 4,
   "metadata": {},
   "outputs": [],
   "source": [
    "base_path = \"C:/Users/s4601130/ISIC2018_Task1-2_Training_Data\"\n",
    "x_files = glob.glob(base_path + \"/ISIC2018_Task1-2_Training_Input_x2/*.jpg\")\n",
    "y_files = glob.glob(base_path + \"/ISIC2018_Task1_Training_GroundTruth_x2/*.png\")\n",
    "x_files.sort()\n",
    "y_files.sort()\n",
    "assert(len(x_files) == len(y_files))\n",
    "\n",
    "    \n",
    "    \n"
   ]
  },
  {
   "cell_type": "code",
   "execution_count": 5,
   "metadata": {
    "scrolled": false
   },
   "outputs": [
    {
     "name": "stdout",
     "output_type": "stream",
     "text": [
      "(2594, 256, 256, 3)\n",
      "(2594, 256, 256, 1)\n"
     ]
    }
   ],
   "source": [
    "x=[]\n",
    "y=[]\n",
    "for i in range(len(x_files)):\n",
    "    x_tmp = Image.open(x_files[i])\n",
    "    y_tmp = Image.open(y_files[i])\n",
    "    \n",
    "    x_tmp = np.array(x_tmp.resize((256,256), Image.ANTIALIAS))\n",
    "    y_tmp = np.array(y_tmp.resize((256,256), Image.ANTIALIAS))\n",
    "    \n",
    "    x.append(x_tmp)\n",
    "    y.append(y_tmp)\n",
    "    \n",
    "x = np.array(x)\n",
    "y = np.expand_dims(np.array(y), -1)\n",
    "\n",
    "\n",
    "print(x.shape)\n",
    "print(y.shape)\n",
    "#print(np.unique(y))\n"
   ]
  },
  {
   "cell_type": "code",
   "execution_count": 6,
   "metadata": {},
   "outputs": [],
   "source": [
    "y=y/255.0\n",
    "y= np.around(y)\n",
    "\n",
    "\n"
   ]
  },
  {
   "cell_type": "code",
   "execution_count": 6,
   "metadata": {},
   "outputs": [
    {
     "name": "stdout",
     "output_type": "stream",
     "text": [
      "[0. 1.]\n"
     ]
    }
   ],
   "source": [
    "print(np.unique(y))\n"
   ]
  },
  {
   "cell_type": "code",
   "execution_count": 7,
   "metadata": {},
   "outputs": [],
   "source": [
    "x_train, x_test, y_train, y_test = train_test_split(x, y, test_size=0.2, random_state=1)\n",
    "\n",
    "x_train, x_val, y_train, y_val = train_test_split(x_train, y_train, test_size=0.25, random_state=1)"
   ]
  },
  {
   "cell_type": "code",
   "execution_count": 8,
   "metadata": {},
   "outputs": [
    {
     "name": "stdout",
     "output_type": "stream",
     "text": [
      "Model: \"model\"\n",
      "__________________________________________________________________________________________________\n",
      "Layer (type)                    Output Shape         Param #     Connected to                     \n",
      "==================================================================================================\n",
      "input_1 (InputLayer)            [(None, 256, 256, 3) 0                                            \n",
      "__________________________________________________________________________________________________\n",
      "conv2d (Conv2D)                 (None, 256, 256, 16) 448         input_1[0][0]                    \n",
      "__________________________________________________________________________________________________\n",
      "conv2d_1 (Conv2D)               (None, 256, 256, 16) 2320        conv2d[0][0]                     \n",
      "__________________________________________________________________________________________________\n",
      "dropout (Dropout)               (None, 256, 256, 16) 0           conv2d_1[0][0]                   \n",
      "__________________________________________________________________________________________________\n",
      "conv2d_2 (Conv2D)               (None, 256, 256, 16) 2320        dropout[0][0]                    \n",
      "__________________________________________________________________________________________________\n",
      "add (Add)                       (None, 256, 256, 16) 0           conv2d[0][0]                     \n",
      "                                                                 conv2d_2[0][0]                   \n",
      "__________________________________________________________________________________________________\n",
      "conv2d_3 (Conv2D)               (None, 128, 128, 32) 4640        add[0][0]                        \n",
      "__________________________________________________________________________________________________\n",
      "conv2d_4 (Conv2D)               (None, 128, 128, 32) 9248        conv2d_3[0][0]                   \n",
      "__________________________________________________________________________________________________\n",
      "dropout_1 (Dropout)             (None, 128, 128, 32) 0           conv2d_4[0][0]                   \n",
      "__________________________________________________________________________________________________\n",
      "conv2d_5 (Conv2D)               (None, 128, 128, 32) 9248        dropout_1[0][0]                  \n",
      "__________________________________________________________________________________________________\n",
      "add_1 (Add)                     (None, 128, 128, 32) 0           conv2d_3[0][0]                   \n",
      "                                                                 conv2d_5[0][0]                   \n",
      "__________________________________________________________________________________________________\n",
      "conv2d_6 (Conv2D)               (None, 64, 64, 64)   18496       add_1[0][0]                      \n",
      "__________________________________________________________________________________________________\n",
      "conv2d_7 (Conv2D)               (None, 64, 64, 64)   36928       conv2d_6[0][0]                   \n",
      "__________________________________________________________________________________________________\n",
      "dropout_2 (Dropout)             (None, 64, 64, 64)   0           conv2d_7[0][0]                   \n",
      "__________________________________________________________________________________________________\n",
      "conv2d_8 (Conv2D)               (None, 64, 64, 64)   36928       dropout_2[0][0]                  \n",
      "__________________________________________________________________________________________________\n",
      "add_2 (Add)                     (None, 64, 64, 64)   0           conv2d_6[0][0]                   \n",
      "                                                                 conv2d_8[0][0]                   \n",
      "__________________________________________________________________________________________________\n",
      "conv2d_9 (Conv2D)               (None, 32, 32, 128)  73856       add_2[0][0]                      \n",
      "__________________________________________________________________________________________________\n",
      "conv2d_10 (Conv2D)              (None, 32, 32, 128)  147584      conv2d_9[0][0]                   \n",
      "__________________________________________________________________________________________________\n",
      "dropout_3 (Dropout)             (None, 32, 32, 128)  0           conv2d_10[0][0]                  \n",
      "__________________________________________________________________________________________________\n",
      "conv2d_11 (Conv2D)              (None, 32, 32, 128)  147584      dropout_3[0][0]                  \n",
      "__________________________________________________________________________________________________\n",
      "add_3 (Add)                     (None, 32, 32, 128)  0           conv2d_9[0][0]                   \n",
      "                                                                 conv2d_11[0][0]                  \n",
      "__________________________________________________________________________________________________\n",
      "conv2d_12 (Conv2D)              (None, 16, 16, 256)  295168      add_3[0][0]                      \n",
      "__________________________________________________________________________________________________\n",
      "conv2d_13 (Conv2D)              (None, 16, 16, 256)  590080      conv2d_12[0][0]                  \n",
      "__________________________________________________________________________________________________\n",
      "dropout_4 (Dropout)             (None, 16, 16, 256)  0           conv2d_13[0][0]                  \n",
      "__________________________________________________________________________________________________\n",
      "conv2d_14 (Conv2D)              (None, 16, 16, 256)  590080      dropout_4[0][0]                  \n",
      "__________________________________________________________________________________________________\n",
      "add_4 (Add)                     (None, 16, 16, 256)  0           conv2d_12[0][0]                  \n",
      "                                                                 conv2d_14[0][0]                  \n",
      "__________________________________________________________________________________________________\n",
      "up_sampling2d (UpSampling2D)    (None, 32, 32, 256)  0           add_4[0][0]                      \n",
      "__________________________________________________________________________________________________\n",
      "concatenate (Concatenate)       (None, 32, 32, 384)  0           up_sampling2d[0][0]              \n",
      "                                                                 add_3[0][0]                      \n",
      "__________________________________________________________________________________________________\n",
      "conv2d_15 (Conv2D)              (None, 32, 32, 128)  442496      concatenate[0][0]                \n",
      "__________________________________________________________________________________________________\n",
      "conv2d_16 (Conv2D)              (None, 32, 32, 128)  16512       conv2d_15[0][0]                  \n",
      "__________________________________________________________________________________________________\n",
      "up_sampling2d_1 (UpSampling2D)  (None, 64, 64, 128)  0           conv2d_16[0][0]                  \n",
      "__________________________________________________________________________________________________\n",
      "concatenate_1 (Concatenate)     (None, 64, 64, 192)  0           up_sampling2d_1[0][0]            \n",
      "                                                                 add_2[0][0]                      \n",
      "__________________________________________________________________________________________________\n",
      "conv2d_17 (Conv2D)              (None, 64, 64, 64)   110656      concatenate_1[0][0]              \n",
      "__________________________________________________________________________________________________\n",
      "conv2d_18 (Conv2D)              (None, 64, 64, 64)   4160        conv2d_17[0][0]                  \n",
      "__________________________________________________________________________________________________\n",
      "up_sampling2d_3 (UpSampling2D)  (None, 128, 128, 64) 0           conv2d_18[0][0]                  \n",
      "__________________________________________________________________________________________________\n",
      "concatenate_2 (Concatenate)     (None, 128, 128, 96) 0           up_sampling2d_3[0][0]            \n",
      "                                                                 add_1[0][0]                      \n",
      "__________________________________________________________________________________________________\n",
      "conv2d_20 (Conv2D)              (None, 128, 128, 32) 27680       concatenate_2[0][0]              \n",
      "__________________________________________________________________________________________________\n",
      "conv2d_21 (Conv2D)              (None, 128, 128, 32) 1056        conv2d_20[0][0]                  \n",
      "__________________________________________________________________________________________________\n",
      "conv2d_19 (Conv2D)              (None, 64, 64, 4)    2308        conv2d_18[0][0]                  \n",
      "__________________________________________________________________________________________________\n",
      "up_sampling2d_4 (UpSampling2D)  (None, 256, 256, 32) 0           conv2d_21[0][0]                  \n",
      "__________________________________________________________________________________________________\n",
      "up_sampling2d_2 (UpSampling2D)  (None, 128, 128, 4)  0           conv2d_19[0][0]                  \n",
      "__________________________________________________________________________________________________\n",
      "conv2d_22 (Conv2D)              (None, 128, 128, 4)  1156        conv2d_21[0][0]                  \n",
      "__________________________________________________________________________________________________\n",
      "concatenate_3 (Concatenate)     (None, 256, 256, 48) 0           up_sampling2d_4[0][0]            \n",
      "                                                                 add[0][0]                        \n",
      "__________________________________________________________________________________________________\n",
      "add_5 (Add)                     (None, 128, 128, 4)  0           up_sampling2d_2[0][0]            \n",
      "                                                                 conv2d_22[0][0]                  \n",
      "__________________________________________________________________________________________________\n",
      "conv2d_23 (Conv2D)              (None, 256, 256, 32) 1568        concatenate_3[0][0]              \n",
      "__________________________________________________________________________________________________\n",
      "up_sampling2d_5 (UpSampling2D)  (None, 256, 256, 4)  0           add_5[0][0]                      \n",
      "__________________________________________________________________________________________________\n",
      "conv2d_24 (Conv2D)              (None, 256, 256, 4)  1156        conv2d_23[0][0]                  \n",
      "__________________________________________________________________________________________________\n",
      "add_6 (Add)                     (None, 256, 256, 4)  0           up_sampling2d_5[0][0]            \n",
      "                                                                 conv2d_24[0][0]                  \n",
      "__________________________________________________________________________________________________\n",
      "conv2d_25 (Conv2D)              (None, 256, 256, 1)  5           add_6[0][0]                      \n",
      "==================================================================================================\n",
      "Total params: 2,573,681\n",
      "Trainable params: 2,573,681\n",
      "Non-trainable params: 0\n",
      "__________________________________________________________________________________________________\n"
     ]
    }
   ],
   "source": [
    "model = model()\n",
    "model.compile(loss='binary_crossentropy',\n",
    "optimizer=tensorflow.keras.optimizers.Adam(learning_rate=5e-4),\n",
    "metrics=['accuracy'])"
   ]
  },
  {
   "cell_type": "code",
   "execution_count": 10,
   "metadata": {},
   "outputs": [
    {
     "name": "stdout",
     "output_type": "stream",
     "text": [
      "(1556, 256, 256, 1)\n",
      "(519, 256, 256, 1)\n"
     ]
    }
   ],
   "source": [
    "print(y_train.shape)\n",
    "print(y_val.shape)"
   ]
  },
  {
   "cell_type": "code",
   "execution_count": 9,
   "metadata": {},
   "outputs": [
    {
     "name": "stdout",
     "output_type": "stream",
     "text": [
      "Train on 1556 samples, validate on 519 samples\n",
      "Epoch 1/40\n",
      "1556/1556 [==============================] - 22s 14ms/sample - loss: 0.8276 - accuracy: 0.7787 - val_loss: 0.3402 - val_accuracy: 0.8870\n",
      "Epoch 2/40\n",
      "1556/1556 [==============================] - 15s 10ms/sample - loss: 0.3036 - accuracy: 0.8929 - val_loss: 0.2661 - val_accuracy: 0.9061\n",
      "Epoch 3/40\n",
      "1556/1556 [==============================] - 15s 10ms/sample - loss: 0.2807 - accuracy: 0.8989 - val_loss: 0.2352 - val_accuracy: 0.9132\n",
      "Epoch 4/40\n",
      "1556/1556 [==============================] - 15s 10ms/sample - loss: 0.2464 - accuracy: 0.9100 - val_loss: 0.2402 - val_accuracy: 0.9167\n",
      "Epoch 5/40\n",
      "1556/1556 [==============================] - 15s 10ms/sample - loss: 0.2261 - accuracy: 0.9158 - val_loss: 0.2026 - val_accuracy: 0.9239\n",
      "Epoch 6/40\n",
      "1556/1556 [==============================] - 15s 10ms/sample - loss: 0.2146 - accuracy: 0.9187 - val_loss: 0.2234 - val_accuracy: 0.9181\n",
      "Epoch 7/40\n",
      "1556/1556 [==============================] - 15s 10ms/sample - loss: 0.2141 - accuracy: 0.9185 - val_loss: 0.2145 - val_accuracy: 0.9173\n",
      "Epoch 8/40\n",
      "1556/1556 [==============================] - 15s 10ms/sample - loss: 0.1993 - accuracy: 0.9243 - val_loss: 0.1820 - val_accuracy: 0.9316\n",
      "Epoch 9/40\n",
      "1556/1556 [==============================] - 15s 10ms/sample - loss: 0.1942 - accuracy: 0.9260 - val_loss: 0.1911 - val_accuracy: 0.9310\n",
      "Epoch 10/40\n",
      "1556/1556 [==============================] - 15s 10ms/sample - loss: 0.1935 - accuracy: 0.9260 - val_loss: 0.1868 - val_accuracy: 0.9328\n",
      "Epoch 11/40\n",
      "1556/1556 [==============================] - 15s 10ms/sample - loss: 0.1839 - accuracy: 0.9292 - val_loss: 0.1808 - val_accuracy: 0.9338\n",
      "Epoch 12/40\n",
      "1556/1556 [==============================] - 15s 10ms/sample - loss: 0.1887 - accuracy: 0.9271 - val_loss: 0.1741 - val_accuracy: 0.9340\n",
      "Epoch 13/40\n",
      "1556/1556 [==============================] - 15s 10ms/sample - loss: 0.1867 - accuracy: 0.9273 - val_loss: 0.1833 - val_accuracy: 0.9308\n",
      "Epoch 14/40\n",
      "1556/1556 [==============================] - 15s 10ms/sample - loss: 0.1809 - accuracy: 0.9307 - val_loss: 0.1753 - val_accuracy: 0.9340\n",
      "Epoch 15/40\n",
      "1556/1556 [==============================] - 15s 10ms/sample - loss: 0.1751 - accuracy: 0.9320 - val_loss: 0.1830 - val_accuracy: 0.9340\n",
      "Epoch 16/40\n",
      "1556/1556 [==============================] - 15s 10ms/sample - loss: 0.1754 - accuracy: 0.9329 - val_loss: 0.1703 - val_accuracy: 0.9369\n",
      "Epoch 17/40\n",
      "1556/1556 [==============================] - 15s 10ms/sample - loss: 0.1785 - accuracy: 0.9309 - val_loss: 0.1632 - val_accuracy: 0.9389\n",
      "Epoch 18/40\n",
      "1556/1556 [==============================] - 15s 10ms/sample - loss: 0.1667 - accuracy: 0.9350 - val_loss: 0.1659 - val_accuracy: 0.9381\n",
      "Epoch 19/40\n",
      "1556/1556 [==============================] - 15s 10ms/sample - loss: 0.1640 - accuracy: 0.9357 - val_loss: 0.1630 - val_accuracy: 0.9386\n",
      "Epoch 20/40\n",
      "1556/1556 [==============================] - 15s 10ms/sample - loss: 0.1668 - accuracy: 0.9358 - val_loss: 0.1811 - val_accuracy: 0.9344\n",
      "Epoch 21/40\n",
      "1556/1556 [==============================] - 15s 10ms/sample - loss: 0.1679 - accuracy: 0.9340 - val_loss: 0.1638 - val_accuracy: 0.9372\n",
      "Epoch 22/40\n",
      "1556/1556 [==============================] - 15s 10ms/sample - loss: 0.1659 - accuracy: 0.9361 - val_loss: 0.1684 - val_accuracy: 0.9392\n",
      "Epoch 23/40\n",
      "1556/1556 [==============================] - 15s 10ms/sample - loss: 0.1638 - accuracy: 0.9355 - val_loss: 0.1656 - val_accuracy: 0.9393\n",
      "Epoch 24/40\n",
      "1556/1556 [==============================] - 15s 10ms/sample - loss: 0.1653 - accuracy: 0.9362 - val_loss: 0.1641 - val_accuracy: 0.9400\n",
      "Epoch 25/40\n",
      "1556/1556 [==============================] - 15s 10ms/sample - loss: 0.1557 - accuracy: 0.9395 - val_loss: 0.1535 - val_accuracy: 0.9418\n",
      "Epoch 26/40\n",
      "1556/1556 [==============================] - 15s 10ms/sample - loss: 0.1554 - accuracy: 0.9403 - val_loss: 0.1530 - val_accuracy: 0.9421\n",
      "Epoch 27/40\n",
      "1556/1556 [==============================] - 15s 10ms/sample - loss: 0.1550 - accuracy: 0.9404 - val_loss: 0.1544 - val_accuracy: 0.9433\n",
      "Epoch 28/40\n",
      "1556/1556 [==============================] - 15s 10ms/sample - loss: 0.1424 - accuracy: 0.9443 - val_loss: 0.1632 - val_accuracy: 0.9403\n",
      "Epoch 29/40\n",
      "1556/1556 [==============================] - 15s 10ms/sample - loss: 0.1494 - accuracy: 0.9414 - val_loss: 0.1635 - val_accuracy: 0.9361\n",
      "Epoch 30/40\n",
      "1556/1556 [==============================] - 15s 10ms/sample - loss: 0.1414 - accuracy: 0.9446 - val_loss: 0.1879 - val_accuracy: 0.9425\n",
      "Epoch 31/40\n",
      "1556/1556 [==============================] - 15s 10ms/sample - loss: 0.1585 - accuracy: 0.9402 - val_loss: 0.1548 - val_accuracy: 0.9422\n",
      "Epoch 32/40\n",
      "1556/1556 [==============================] - 15s 10ms/sample - loss: 0.1464 - accuracy: 0.9433 - val_loss: 0.1661 - val_accuracy: 0.9417\n",
      "Epoch 33/40\n",
      "1556/1556 [==============================] - 15s 10ms/sample - loss: 0.1432 - accuracy: 0.9436 - val_loss: 0.1415 - val_accuracy: 0.9470\n",
      "Epoch 34/40\n",
      "1556/1556 [==============================] - 15s 10ms/sample - loss: 0.1362 - accuracy: 0.9460 - val_loss: 0.1639 - val_accuracy: 0.941636 - ETA: 0s - loss: 0.1356 - ac\n",
      "Epoch 35/40\n",
      "1556/1556 [==============================] - 15s 10ms/sample - loss: 0.1336 - accuracy: 0.9480 - val_loss: 0.1554 - val_accuracy: 0.9421\n",
      "Epoch 36/40\n",
      "1556/1556 [==============================] - 15s 10ms/sample - loss: 0.1290 - accuracy: 0.9485 - val_loss: 0.1547 - val_accuracy: 0.9450\n",
      "Epoch 37/40\n",
      "1556/1556 [==============================] - 15s 10ms/sample - loss: 0.1306 - accuracy: 0.9480 - val_loss: 0.1537 - val_accuracy: 0.9432\n",
      "Epoch 38/40\n",
      "1556/1556 [==============================] - 15s 10ms/sample - loss: 0.1248 - accuracy: 0.9507 - val_loss: 0.1530 - val_accuracy: 0.9457\n",
      "Epoch 39/40\n",
      "1556/1556 [==============================] - 15s 10ms/sample - loss: 0.1274 - accuracy: 0.9496 - val_loss: 0.1587 - val_accuracy: 0.9441\n",
      "Epoch 40/40\n",
      "1556/1556 [==============================] - 15s 10ms/sample - loss: 0.1206 - accuracy: 0.9518 - val_loss: 0.1590 - val_accuracy: 0.9442\n"
     ]
    }
   ],
   "source": [
    "moel_result = model.fit(x_train, y_train, batch_size=8, epochs=40, validation_data = (x_val, y_val))"
   ]
  },
  {
   "cell_type": "code",
   "execution_count": 10,
   "metadata": {},
   "outputs": [],
   "source": [
    "y_pred = model.predict(x_test)"
   ]
  },
  {
   "cell_type": "code",
   "execution_count": 24,
   "metadata": {},
   "outputs": [
    {
     "name": "stdout",
     "output_type": "stream",
     "text": [
      "(519, 256, 256, 1)\n",
      "(519, 256, 256, 1)\n"
     ]
    }
   ],
   "source": [
    "print(y_pred.shape)\n",
    "print(y_test.shape)"
   ]
  },
  {
   "cell_type": "code",
   "execution_count": 11,
   "metadata": {},
   "outputs": [
    {
     "name": "stdout",
     "output_type": "stream",
     "text": [
      "accuracy: 94.64%\n"
     ]
    }
   ],
   "source": [
    "scores = model.evaluate(x_test,y_test, verbose=0)\n",
    "print(\"%s: %.2f%%\" % (model.metrics_names[1], scores[1]*100))"
   ]
  },
  {
   "cell_type": "code",
   "execution_count": 12,
   "metadata": {},
   "outputs": [
    {
     "name": "stdout",
     "output_type": "stream",
     "text": [
      "tf.Tensor([0.78278332], shape=(1,), dtype=float64)\n"
     ]
    }
   ],
   "source": [
    "def dice_score(y_true, y_pred):\n",
    "    \n",
    "\n",
    "    intersection = tensorflow.reduce_sum(y_true*y_pred, axis= [1,2])\n",
    "\n",
    "    denominator = tensorflow.reduce_sum(y_true +y_pred, axis= [1,2])\n",
    "    \n",
    "    dice_score= tensorflow.reduce_mean((2.0*intersection)/(denominator+ 1e-6), axis=0)\n",
    "    return dice_score\n",
    "res = dice_score(y_test, y_pred)\n",
    "print(res)"
   ]
  },
  {
   "cell_type": "code",
   "execution_count": 26,
   "metadata": {},
   "outputs": [
    {
     "data": {
      "text/plain": [
       "<matplotlib.image.AxesImage at 0x26d5d449c08>"
      ]
     },
     "execution_count": 26,
     "metadata": {},
     "output_type": "execute_result"
    },
    {
     "data": {
      "image/png": "[encoded data removed]",
      "text/plain": [
       "<Figure size 432x288 with 1 Axes>"
      ]
     },
     "metadata": {
      "needs_background": "light"
     },
     "output_type": "display_data"
    }
   ],
   "source": [
    "plt.title(\"Predicted output\")\n",
    "plt.imshow(y_pred[10])"
   ]
  },
  {
   "cell_type": "code",
   "execution_count": 27,
   "metadata": {},
   "outputs": [
    {
     "data": {
      "text/plain": [
       "<matplotlib.image.AxesImage at 0x26d037eda08>"
      ]
     },
     "execution_count": 27,
     "metadata": {},
     "output_type": "execute_result"
    },
    {
     "data": {
      "image/png": "[encoded data removed]",
      "text/plain": [
       "<Figure size 432x288 with 1 Axes>"
      ]
     },
     "metadata": {
      "needs_background": "light"
     },
     "output_type": "display_data"
    }
   ],
   "source": [
    "plt.title(\"Ground truth\")\n",
    "plt.imshow(y_test[10])"
   ]
  },
  {
   "cell_type": "code",
   "execution_count": 15,
   "metadata": {},
   "outputs": [],
   "source": [
    "import matplotlib\n",
    "import matplotlib.pyplot as plt"
   ]
  },
  {
   "cell_type": "code",
   "execution_count": 16,
   "metadata": {},
   "outputs": [
    {
     "data": {
      "text/plain": [
       "[<matplotlib.lines.Line2D at 0x26d47252f08>]"
      ]
     },
     "execution_count": 16,
     "metadata": {},
     "output_type": "execute_result"
    },
    {
     "data": {
      "image/png": "[encoded data removed]",
      "text/plain": [
       "<Figure size 1008x288 with 2 Axes>"
      ]
     },
     "metadata": {
      "needs_background": "light"
     },
     "output_type": "display_data"
    }
   ],
   "source": [
    "fig, axs = plt.subplots(1, 2, figsize=(14, 4))\n",
    "axs[0].set_title(\"Loss plot\")\n",
    "axs[0].plot(moel_result.history['loss'], color='purple', label='train')\n",
    "axs[0].plot(moel_result.history['val_loss'], color='orange', label='test')\n",
    "axs[1].set_title(\"Accuracy plot\")\n",
    "axs[1].plot(moel_result.history['accuracy'], color='purple', label='train')\n",
    "axs[1].plot(moel_result.history['val_accuracy'], color='orange', label='test')"
   ]
  }
 ],
 "metadata": {
  "kernelspec": {
   "display_name": "Python 3",
   "language": "python",
   "name": "python3"
  },
  "language_info": {
   "codemirror_mode": {
    "name": "ipython",
    "version": 3
   },
   "file_extension": ".py",
   "mimetype": "text/x-python",
   "name": "python",
   "nbconvert_exporter": "python",
   "pygments_lexer": "ipython3",
   "version": "3.7.9"
  }
 },
 "nbformat": 4,
 "nbformat_minor": 4
}
