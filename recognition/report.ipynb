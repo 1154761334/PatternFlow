{
  "nbformat": 4,
  "nbformat_minor": 0,
  "metadata": {
    "colab": {
      "name": "report.ipynb",
      "provenance": [],
      "collapsed_sections": [],
      "authorship_tag": "ABX9TyN/Een/UeY47CBWd6MfGXiY",
      "include_colab_link": true
    },
    "kernelspec": {
      "name": "python3",
      "display_name": "Python 3"
    }
  },
  "cells": [
    {
      "cell_type": "markdown",
      "metadata": {
        "id": "view-in-github",
        "colab_type": "text"
      },
      "source": [
        "<a href=\"https://colab.research.google.com/github/MajorRedux/PatternFlow/blob/topic-recognition/recognition/report.ipynb\" target=\"_parent\"><img src=\"https://colab.research.google.com/assets/colab-badge.svg\" alt=\"Open In Colab\"/></a>"
      ]
    },
    {
      "cell_type": "markdown",
      "metadata": {
        "id": "6yWIwqmOo8Y3"
      },
      "source": [
        "# **Report - OAI AKOA knee data set using DCGAN**"
      ]
    },
    {
      "cell_type": "code",
      "metadata": {
        "id": "DeITBzkdpB58"
      },
      "source": [
        "# Connect to GDrive to acquire data\n",
        "from google.colab import drive"
      ],
      "execution_count": 1,
      "outputs": []
    },
    {
      "cell_type": "code",
      "metadata": {
        "id": "jyOWeXQEl_Vz",
        "outputId": "a1c313bc-7ab6-4fc0-c2fa-87102c452edf",
        "colab": {
          "base_uri": "https://localhost:8080/",
          "height": 51
        }
      },
      "source": [
        "# Connect to drive\n",
        "drive.mount('/content/gdrive')\n",
        "# Identify Location\n",
        "%cd /content/gdrive/My\\ Drive/Colab\\ Notebooks/data/AKOA_Analysis"
      ],
      "execution_count": 4,
      "outputs": [
        {
          "output_type": "stream",
          "text": [
            "Drive already mounted at /content/gdrive; to attempt to forcibly remount, call drive.mount(\"/content/gdrive\", force_remount=True).\n",
            "/content/gdrive/My Drive/Colab Notebooks/data/AKOA_Analysis\n"
          ],
          "name": "stdout"
        }
      ]
    },
    {
      "cell_type": "code",
      "metadata": {
        "id": "ntWJ-_SV6Hfd"
      },
      "source": [
        ""
      ],
      "execution_count": null,
      "outputs": []
    }
  ]
}