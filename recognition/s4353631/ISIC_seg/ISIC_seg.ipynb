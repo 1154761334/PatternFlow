{
 "cells": [
  {
   "cell_type": "code",
   "execution_count": 5,
   "metadata": {},
   "outputs": [],
   "source": [
    "import tensorflow as tf\n",
    "from tensorflow import keras\n",
    "from tensorflow.keras.optimizers import Adam as adam\n",
    "from tensorflow.keras import backend\n",
    "from sklearn.preprocessing import StandardScaler\n",
    "import matplotlib.pyplot as plt\n",
    "import glob\n",
    "from itertools import product as myzip\n",
    "import PIL"
   ]
  },
  {
   "cell_type": "code",
   "execution_count": 73,
   "metadata": {},
   "outputs": [],
   "source": [
    "my_path = 'D:\\s4353631\\ISIC2018_'\n",
    "datasets = {'train': [0, .7],\n",
    "            'val': [.7, .9],\n",
    "            'test': [.9, 1]}\n",
    "\n",
    "x_paths = glob.glob(my_path + 'x' + '/*.jpg')\n",
    "labels = [i[-11:-4] for i in x_paths]\n",
    "\n",
    "orig_shapes = []\n",
    "for i in x_paths:\n",
    "    i = tf.io.read_file(i)\n",
    "    i = tf.io.decode_png(i)\n",
    "    orig_shapes.append(tuple(i.shape[:-1]))\n",
    "\n",
    "data_dict = {}\n",
    "\n",
    "for i in datasets.keys():\n",
    "    lower_bound = int(datasets[i][0] * len(labels))\n",
    "    upper_bound = int(datasets[i][1] * len(labels))\n",
    "    \n",
    "    data_dict[i] = {'labels': labels[lower_bound:upper_bound],\n",
    "                    'orig_shapes': sizes[lower_bound:upper_bound],\n",
    "                    'quantity': upper_bound - lower_bound}"
   ]
  },
  {
   "cell_type": "code",
   "execution_count": 52,
   "metadata": {
    "scrolled": true
   },
   "outputs": [
    {
     "data": {
      "text/plain": [
       "<matplotlib.image.AxesImage at 0x179cfceb1c8>"
      ]
     },
     "execution_count": 52,
     "metadata": {},
     "output_type": "execute_result"
    },
    {
     "data": {
      "image/png": "[encoded data removed]",
      "text/plain": [
       "<Figure size 432x288 with 1 Axes>"
      ]
     },
     "metadata": {
      "needs_background": "light"
     },
     "output_type": "display_data"
    }
   ],
   "source": [
    "def data_generator(dataset)\n",
    "    x = tf.io.read_file('D:\\s4353631\\ISIC2018_x\\ISIC_0000000.jpg')\n",
    "    x = tf.io.decode_jpeg(x)\n",
    "\n",
    "    y = tf.io.read_file('D:\\s4353631\\ISIC2018_y\\ISIC_0000000_segmentation.png')\n",
    "    y = tf.io.decode_png(y)\n",
    "\n",
    "    x, y = [tf.image.resize(tf.cast(i, tf.float32) / 255, [200, 200]) for i in (x, y)]\n",
    "\n",
    "    y = tf.math.round(y)"
   ]
  },
  {
   "cell_type": "code",
   "execution_count": 37,
   "metadata": {},
   "outputs": [
    {
     "data": {
      "text/plain": [
       "Unique(y=<tf.Tensor: shape=(230,), dtype=uint8, numpy=\n",
       "array([  0,   3,  21,  24,  10, 199, 225, 223, 226, 161,  20,  25, 229,\n",
       "       255, 113,  23,  86, 242, 178,  17,  79, 213, 222, 240, 164,  32,\n",
       "         9,  81, 231, 254, 160,  18,   2,  82, 221, 241,  31, 197, 159,\n",
       "        22,  19,  85, 244, 224,   8, 212, 228, 196, 156,  89, 211,  30,\n",
       "         6,  16,  83, 149, 163,  77, 220, 162, 230, 227, 158, 219,  76,\n",
       "       114, 126,  15, 210, 239, 175, 209, 214,  80, 243,  78,  28, 208,\n",
       "       218,   7, 155,   5,  14, 145, 129, 207, 111, 217, 238, 128, 172,\n",
       "        84,  27,  75, 252, 216, 125, 173,  26, 253, 154,  13,  73, 205,\n",
       "        74, 206, 215, 237,  12, 204,  72,  71, 151,  70,   4, 138, 110,\n",
       "       203, 236, 109, 193, 108, 127, 248, 170, 201, 188, 235,  11, 147,\n",
       "       234, 186, 107, 133, 146, 168, 251, 102, 144, 198,  68, 233, 169,\n",
       "       143,  69,  91, 148, 101, 167, 142, 195,  63, 100, 185, 165, 141,\n",
       "       249, 250,  90, 139, 105, 166, 202, 103,  93,   1,  52, 176,  65,\n",
       "       194,  98, 200,  64,  88, 232, 135, 106,  99, 150, 131,  95,  43,\n",
       "        55,  96,  40,  53, 130,  54,  41,  94,  51,  49,  33,  29,  87,\n",
       "        42,  50,  48,  66,  44,  39,  38,  45,  34,  46,  35,  36,  47,\n",
       "       124,  56,  57,  37,  58,  59, 132,  92,  60,  61,  62,  97, 112,\n",
       "       191, 116, 104, 117, 115, 119, 118, 120, 134], dtype=uint8)>, idx=<tf.Tensor: shape=(196224,), dtype=int32, numpy=array([0, 0, 0, ..., 0, 0, 0])>)"
      ]
     },
     "execution_count": 37,
     "metadata": {},
     "output_type": "execute_result"
    }
   ],
   "source": [
    "my_img = tf.io.read_file('D:\\s4353631\\ISIC2018_y\\ISIC_0000000_segmentation.png')\n",
    "my_tens = tf.io.decode_png(my_img)\n",
    "\n",
    "tf.unique(tf.reshape(my_tens, [-1]))"
   ]
  },
  {
   "cell_type": "code",
   "execution_count": null,
   "metadata": {},
   "outputs": [],
   "source": [
    "def format_fn(path):\n",
    "    '''\n",
    "    Formats single-channel image (.png) at path as a tf.Tensor of shape suitable \n",
    "    for input to a CNN.\n",
    "    \n",
    "    Args:\n",
    "        path (str): Image filepath.\n",
    "        \n",
    "    Returns:\n",
    "        tf.Tensor: formatted tensor representing the image.\n",
    "    '''\n",
    "    img = tf.io.read_file(path)\n",
    "    tens = tf.image.decode_png(img)\n",
    "    \n",
    "    return tf.reshape(tens, [256, 256, 1])\n",
    "\n",
    "def path_2_tens(x_path, y_path, pixels=pixels):\n",
    "    '''\n",
    "    Formats x and y single-channel images (.png) as tf.Tensors of shape suitable \n",
    "    for input to a CNN. Formatting of y images is performed by separating the pixel \n",
    "    values in pixels into discrete Boolean channels along the depth axis.\n",
    "    \n",
    "    Args:\n",
    "        x_path (str): x image (raw input) filepath.\n",
    "        y_path (str): y image (raw input) filepath.\n",
    "        \n",
    "    Returns:\n",
    "        x (tf.Tensor): Formatted tensor representing the x image.\n",
    "        y (tf.Tensor): Formatted tensor of Boolean channels representing the y image.\n",
    "    '''\n",
    "    x = format_fn(x_path)\n",
    "    x = tf.cast(x, tf.float32)/127.5 - 1.0\n",
    "    \n",
    "    y = format_fn(y_path)\n",
    "    y = tf.reshape(y, [256, 256])\n",
    "    y = tf.stack([y==pixel for pixel in pixels], axis=2)\n",
    "    y = tf.cast(y, tf.float32)\n",
    "    \n",
    "    return x, y"
   ]
  },
  {
   "cell_type": "code",
   "execution_count": null,
   "metadata": {},
   "outputs": [],
   "source": [
    "x_paths = glob.glob(my_path + 'x' + '/*.jpg')\n",
    "y_paths = glob.glob(my_path + 'y' + '/*.jpg')\n",
    "\n",
    "for dataset in datasets:\n",
    "    data_dict[dataset] = tf.data.Dataset.from_tensor_slices((x_paths, y_paths))\n",
    "    data_dict[dataset] = data_dict[dataset].shuffle(10**5, reshuffle_each_iteration=True)\n",
    "    data_dict[dataset] = data_dict[dataset].map(path_2_tens)"
   ]
  }
 ],
 "metadata": {
  "kernelspec": {
   "display_name": "Python 3",
   "language": "python",
   "name": "python3"
  },
  "language_info": {
   "codemirror_mode": {
    "name": "ipython",
    "version": 3
   },
   "file_extension": ".py",
   "mimetype": "text/x-python",
   "name": "python",
   "nbconvert_exporter": "python",
   "pygments_lexer": "ipython3",
   "version": "3.7.7"
  }
 },
 "nbformat": 4,
 "nbformat_minor": 4
}
