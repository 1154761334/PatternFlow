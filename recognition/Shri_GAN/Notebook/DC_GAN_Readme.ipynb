{
 "cells": [
  {
   "cell_type": "markdown",
   "metadata": {},
   "source": [
    "# Readme.md file for DCGAN Brain image data."
   ]
  },
  {
   "cell_type": "markdown",
   "metadata": {},
   "source": [
    "# Author: Shrikant Agrawal\n",
    "## Student ID: S4562394\n",
    "## Course Code: COMP3710\n",
    "## Course Name: Pattern Recognition and analysis\n",
    "## Assessment: Final Assignment"
   ]
  },
  {
   "cell_type": "markdown",
   "metadata": {},
   "source": [
    "**Note to the readers:** This notebook provides a brief introduction to the DC-GANs and their application to generate Brain MRI images available from OASIS."
   ]
  },
  {
   "cell_type": "markdown",
   "metadata": {},
   "source": [
    "# DC GAN\n",
    "\n",
    "\n",
    "DC GAN or GAN: *Deep Convolutional Generative Adversarial Network* are the combination of two neural network models that are trained simultaneusly using an adversarial process.\n",
    "\n",
    "The goal of GAN is to take a set of random input array and generate near-real images based in the input images. The generator component of the model creates the images from the input array, while the discriminator component tries to identify whether the generated image from generator is real or fake. Over the time, generator improves by taking the feedback from discriminator and modifying its weights and biases to make the generated images resemble more to the training images.\n",
    "\n",
    "GANs were first introduced in the research paper <a href=\"https://arxiv.org/abs/1511.06434\" target=\"_blank\" >Unsupervised Representation Learning with Deep Convolutional Generative Adversarial Networks</a>\n",
    " by *Alec Radford, Luke Metz, Soumith Chintala.* Since then the GANS have been customised and developed for a variety of applications that doesn't limit to the image data. \n",
    "\n",
    "\n",
    "\n",
    "\n",
    "A successful GAN model is a one where the generated images look so real that the discriminator cannot identify a fake image from a real one. In terms of accuracy, the discriminator accuracy should reach 50% for a dataset with half real and half generated images. \n",
    "\n",
    "The best example to understand the power of GAN can be found on the website  https://thispersondoesnotexist.com/\n",
    "\n",
    "The website generates a new image of a person that does not exis in real life. in the back-end, it uses a modified version of the DCGAN model called Style-GAN that identifies different parts of faces to train the generaotr better. The end result is shockingly real.\n",
    "\n",
    "<img src=\"https://thispersondoesnotexist.com/image\" width=\"512\" height=\"512\" />\n",
    "<a href=\"https://thispersondoesnotexist.com/\" target=\"_blank\" ><p style=\"text-align: center;\">This person Doesnot Exist.</p></a>\n",
    "\n",
    "**Big Picture Process:**\n",
    "\n",
    "1. Generator generates a random image of the size similar to the training data based on a random seed.\n",
    "2. Discriminator checks if the input image from generator is real or fake.\n",
    "3. Outputs from discriminator are taken as loss function for generator. Using these results from the discriminator outputs, Generator trains itself.\n",
    "4. Combiner helps in the whole process by stacking up generator and discriminator as one black box. it takes noise as input => generates images => determines validity.\n",
    "5. When Generator is trained, Discriminator is static. When Discriminator is trained, Generator is static.\n",
    "6. Finally after training enough, the generator is able to create images that are very similar to the training data. The discriminator is unable to distinguish between the training data and the fake ones created by generator. \n",
    "\n",
    "\n",
    "\n",
    "\n",
    "\n",
    "```python\n",
    "\n",
    "```\n",
    "\n",
    "\n",
    "\n",
    "![Test Image](https://github.com/agrawal-s/PatternFlow/blob/topic-recognition/recognition/Shri_GAN/Screenshots/fake_celebrities.png?raw=true)\n",
    "<p style=\"text-align: center;\">These images are generated using the GAN network trained on celebrity faces dataset.</p>\n",
    "\n",
    "\n",
    "```python\n",
    "\n",
    "```\n",
    "\n",
    "\n",
    "```python\n",
    "\n",
    "```\n"
   ]
  },
  {
   "cell_type": "code",
   "execution_count": null,
   "metadata": {},
   "outputs": [],
   "source": []
  },
  {
   "cell_type": "code",
   "execution_count": null,
   "metadata": {},
   "outputs": [],
   "source": []
  },
  {
   "cell_type": "code",
   "execution_count": null,
   "metadata": {},
   "outputs": [],
   "source": []
  },
  {
   "cell_type": "code",
   "execution_count": null,
   "metadata": {},
   "outputs": [],
   "source": []
  },
  {
   "cell_type": "code",
   "execution_count": null,
   "metadata": {},
   "outputs": [],
   "source": []
  },
  {
   "cell_type": "code",
   "execution_count": null,
   "metadata": {},
   "outputs": [],
   "source": []
  },
  {
   "cell_type": "code",
   "execution_count": null,
   "metadata": {},
   "outputs": [],
   "source": []
  },
  {
   "cell_type": "code",
   "execution_count": null,
   "metadata": {},
   "outputs": [],
   "source": []
  },
  {
   "cell_type": "code",
   "execution_count": null,
   "metadata": {},
   "outputs": [],
   "source": []
  },
  {
   "cell_type": "code",
   "execution_count": null,
   "metadata": {},
   "outputs": [],
   "source": []
  }
 ],
 "metadata": {
  "kernelspec": {
   "display_name": "Python 3",
   "language": "python",
   "name": "python3"
  },
  "language_info": {
   "codemirror_mode": {
    "name": "ipython",
    "version": 3
   },
   "file_extension": ".py",
   "mimetype": "text/x-python",
   "name": "python",
   "nbconvert_exporter": "python",
   "pygments_lexer": "ipython3",
   "version": "3.7.7"
  }
 },
 "nbformat": 4,
 "nbformat_minor": 4
}
