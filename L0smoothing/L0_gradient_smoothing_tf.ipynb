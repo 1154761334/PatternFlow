{
 "cells": [
  {
   "cell_type": "code",
   "execution_count": 3,
   "metadata": {},
   "outputs": [],
   "source": [
    "from PIL import Image\n",
    "import tensorflow as tf \n",
    "import numpy as np\n",
    "import cv2\n",
    "import time "
   ]
  },
  {
   "cell_type": "code",
   "execution_count": 25,
   "metadata": {},
   "outputs": [],
   "source": [
    "# Load image in \n",
    "tf_img = tf.keras.preprocessing.image.load_img('dahlia.png')\n",
    "cols, rows = tf_img.size\n",
    "\n",
    "# Initialise S \n",
    "S = tf.constant(image, dtype=np.float32)\n",
    "S /= 256\n",
    "\n",
    "size_2D = [N, M]\n",
    "fx = [1, -1]\n",
    "fy = [[1], [-1]]"
   ]
  },
  {
   "cell_type": "code",
   "execution_count": null,
   "metadata": {},
   "outputs": [],
   "source": []
  }
 ],
 "metadata": {
  "kernelspec": {
   "display_name": "Python 3",
   "language": "python",
   "name": "python3"
  },
  "language_info": {
   "codemirror_mode": {
    "name": "ipython",
    "version": 3
   },
   "file_extension": ".py",
   "mimetype": "text/x-python",
   "name": "python",
   "nbconvert_exporter": "python",
   "pygments_lexer": "ipython3",
   "version": "3.6.5"
  }
 },
 "nbformat": 4,
 "nbformat_minor": 2
}
