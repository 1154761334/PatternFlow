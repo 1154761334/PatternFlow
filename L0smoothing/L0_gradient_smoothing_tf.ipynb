{
 "cells": [
  {
   "cell_type": "code",
   "execution_count": 50,
   "metadata": {},
   "outputs": [],
   "source": [
    "from PIL import Image\n",
    "import tensorflow as tf \n",
    "import numpy as np\n",
    "import cv2\n",
    "import time "
   ]
  },
  {
   "cell_type": "code",
   "execution_count": 85,
   "metadata": {},
   "outputs": [],
   "source": [
    "sess = tf.compat.v1.InteractiveSession()\n",
    "# Load image in \n",
    "tf_img = tf.keras.preprocessing.image.load_img('dahlia.png')\n",
    "cols, rows = tf_img.size\n",
    "\n",
    "# Initialise S \n",
    "S = tf.Variable(np.array(tf_img), dtype=np.float32)\n",
    "S = S.assign(S/256)\n",
    "\n",
    "size_2D = (rows, cols)\n",
    "fx = tf.constant([1, -1], dtype=np.int32)\n",
    "\n",
    "fx = np.int32([[1, -1]])\n",
    "fy = np.int32([[1], [-1]])"
   ]
  },
  {
   "cell_type": "code",
   "execution_count": 86,
   "metadata": {},
   "outputs": [],
   "source": [
    "def psf2otf(psf, outSize):\n",
    "    print(outSize)\n",
    "\n",
    "    # Determine PSF / OTF shapes\n",
    "    #psfSize = tf.constant(psf.shape.as_list())\n",
    "    \n",
    "    # Pad the PSF to outSize\n",
    "#     new_psf = tf.Variable(tf.zeros(outSize, dtype=np.int32))\n",
    "#     tf.scatter_nd_update(new_psf, tf.constant([[0,0]], dtype=np.int32), tf.constant([1], dtype=np.int32))\n",
    "\n",
    "\n",
    "    psf = np.float32(psf)\n",
    "\n",
    "    # Determine PSF / OTF shapes\n",
    "    psfSize = np.int32(psf.shape)\n",
    "\n",
    "    # Pad the PSF to outSize\n",
    "    new_psf = np.zeros(outSize, dtype=np.float32)\n",
    "    \n",
    "    \n",
    "    \n",
    "    new_psf[:psfSize[0],:psfSize[1]] = psf[:,:]\n",
    "    psf = new_psf\n",
    "    \n",
    "    print(new_psf.shape)\n",
    "\n",
    "    # Circularly shift the OTF so that PSF center is at (0,0)\n",
    "    shift = -(psfSize / 2)\n",
    "    \n",
    "    for i in range(shift.size):\n",
    "        psf = np.roll(psf, int(shift[i]), axis=i)\n",
    "    \n",
    "    otf = np.fft.fftn(psf)\n",
    "    return otf"
   ]
  },
  {
   "cell_type": "code",
   "execution_count": 87,
   "metadata": {},
   "outputs": [
    {
     "name": "stdout",
     "output_type": "stream",
     "text": [
      "(480, 640)\n",
      "(480, 640)\n",
      "(480, 640)\n",
      "(480, 640)\n"
     ]
    }
   ],
   "source": [
    "otfFx = psf2otf(fx, size_2D)\n",
    "otfFy = psf2otf(fy, size_2D)"
   ]
  },
  {
   "cell_type": "code",
   "execution_count": 88,
   "metadata": {},
   "outputs": [],
   "source": [
    "otfFx = tf.complex(otfFx.real, otfFx.imag)\n",
    "otfFy = tf.complex(otfFy.real, otfFy.imag)"
   ]
  },
  {
   "cell_type": "code",
   "execution_count": 89,
   "metadata": {},
   "outputs": [],
   "source": [
    "_lambda = 2e-2\n",
    "kappa = 2.0\n",
    "\n",
    "# Compute F(I)\n",
    "S_complex = tf.Variable(tf.complex(S, tf.constant(tf.zeros((rows, cols, 3)))))\n",
    "FI = tf.Variable(tf.complex(tf.zeros((rows, cols, 3)), tf.zeros((rows, cols, 3))))\n",
    "for i in range(S_complex.shape[2]):\n",
    "    FI = FI[:,:,i].assign(tf.signal.fft2d(S_complex[:,:,i]))"
   ]
  },
  {
   "cell_type": "code",
   "execution_count": 90,
   "metadata": {},
   "outputs": [],
   "source": [
    "MTF = tf.math.square(otfFx) + tf.math.square(otfFy)\n",
    "MTF = tf.stack([MTF, MTF, MTF], axis=2)"
   ]
  },
  {
   "cell_type": "code",
   "execution_count": 91,
   "metadata": {},
   "outputs": [],
   "source": [
    "# Initialize buffers\n",
    "# h = tf.complex(tf.zeros((rows, cols, 3)), tf.zeros((rows, cols, 3)))\n",
    "# v = tf.complex(tf.zeros((rows, cols, 3)), tf.zeros((rows, cols, 3)))\n",
    "\n",
    "h = tf.Variable(tf.zeros((rows, cols, 3), dtype=tf.float32))\n",
    "v = tf.Variable(tf.zeros((rows, cols, 3), dtype=tf.float32))\n",
    "dxhp = tf.Variable(tf.zeros((rows, cols, 3), dtype=tf.float32))\n",
    "dyvp = tf.Variable(tf.zeros((rows, cols, 3), dtype=tf.float32))\n",
    "FS = tf.Variable(tf.complex(tf.zeros((rows, cols, 3)), tf.zeros((rows, cols, 3))))\n",
    "\n",
    "# # Iteration settings\n",
    "beta_max = 1e5;\n",
    "beta = 2 * _lambda\n",
    "iteration = 0"
   ]
  },
  {
   "cell_type": "code",
   "execution_count": 92,
   "metadata": {},
   "outputs": [],
   "source": [
    "M = cols\n",
    "N = rows "
   ]
  },
  {
   "cell_type": "code",
   "execution_count": 93,
   "metadata": {},
   "outputs": [
    {
     "name": "stdout",
     "output_type": "stream",
     "text": [
      "<dtype: 'complex64'>\n",
      "<class 'tensorflow.python.ops.resource_variable_ops.ResourceVariable'>\n"
     ]
    },
    {
     "ename": "ValueError",
     "evalue": "Tensor conversion requested dtype complex64 for Tensor with dtype float32: <tf.Tensor: id=12153, shape=(480, 640), dtype=float32, numpy=\narray([[ 16768.99  ,  99270.08  , 109417.26  , ...,  16755.197 ,\n         16793.709 ,  16799.559 ],\n       [  4587.454 , 182875.3   , 193186.7   , ...,  12180.075 ,\n         12185.408 ,  11075.326 ],\n       [  3706.1533, 186284.61  , 199473.55  , ...,  11879.477 ,\n         10678.64  ,  10549.141 ],\n       ...,\n       [ 16865.38  , 100913.08  , 108424.05  , ...,  18047.295 ,\n         18045.895 ,  18054.105 ],\n       [ 17814.691 ,  97803.35  , 105214.875 , ...,  18032.852 ,\n         16815.84  ,  16712.594 ],\n       [ 16870.686 ,  99690.16  , 103868.57  , ...,  16850.756 ,\n         16756.809 ,  16741.092 ]], dtype=float32)>",
     "output_type": "error",
     "traceback": [
      "\u001b[0;31m---------------------------------------------------------------------------\u001b[0m",
      "\u001b[0;31mValueError\u001b[0m                                Traceback (most recent call last)",
      "\u001b[0;32m<ipython-input-93-d573b0dfaa1b>\u001b[0m in \u001b[0;36m<module>\u001b[0;34m\u001b[0m\n\u001b[1;32m     47\u001b[0m     \u001b[0;32mfor\u001b[0m \u001b[0mi\u001b[0m \u001b[0;32min\u001b[0m \u001b[0mrange\u001b[0m\u001b[0;34m(\u001b[0m\u001b[0mS\u001b[0m\u001b[0;34m.\u001b[0m\u001b[0mshape\u001b[0m\u001b[0;34m[\u001b[0m\u001b[0;36m2\u001b[0m\u001b[0;34m]\u001b[0m\u001b[0;34m)\u001b[0m\u001b[0;34m:\u001b[0m\u001b[0;34m\u001b[0m\u001b[0m\n\u001b[1;32m     48\u001b[0m         \u001b[0mprint\u001b[0m\u001b[0;34m(\u001b[0m\u001b[0mtype\u001b[0m\u001b[0;34m(\u001b[0m\u001b[0mS_complex\u001b[0m\u001b[0;34m)\u001b[0m\u001b[0;34m)\u001b[0m\u001b[0;34m\u001b[0m\u001b[0m\n\u001b[0;32m---> 49\u001b[0;31m         \u001b[0mS_complex\u001b[0m \u001b[0;34m=\u001b[0m \u001b[0mS_complex\u001b[0m\u001b[0;34m[\u001b[0m\u001b[0;34m:\u001b[0m\u001b[0;34m,\u001b[0m\u001b[0;34m:\u001b[0m\u001b[0;34m,\u001b[0m\u001b[0mi\u001b[0m\u001b[0;34m]\u001b[0m\u001b[0;34m.\u001b[0m\u001b[0massign\u001b[0m\u001b[0;34m(\u001b[0m\u001b[0mtf\u001b[0m\u001b[0;34m.\u001b[0m\u001b[0mmath\u001b[0m\u001b[0;34m.\u001b[0m\u001b[0mreal\u001b[0m\u001b[0;34m(\u001b[0m\u001b[0mtf\u001b[0m\u001b[0;34m.\u001b[0m\u001b[0msignal\u001b[0m\u001b[0;34m.\u001b[0m\u001b[0mfft2d\u001b[0m\u001b[0;34m(\u001b[0m\u001b[0mFS\u001b[0m\u001b[0;34m[\u001b[0m\u001b[0;34m:\u001b[0m\u001b[0;34m,\u001b[0m\u001b[0;34m:\u001b[0m\u001b[0;34m,\u001b[0m\u001b[0mi\u001b[0m\u001b[0;34m]\u001b[0m\u001b[0;34m)\u001b[0m\u001b[0;34m)\u001b[0m\u001b[0;34m)\u001b[0m\u001b[0;34m\u001b[0m\u001b[0m\n\u001b[0m\u001b[1;32m     50\u001b[0m \u001b[0;34m\u001b[0m\u001b[0m\n\u001b[1;32m     51\u001b[0m \u001b[0;31m#     S[:,:,0] = np.float32((np.fft.ifft2(FS[:,:,0])).real)\u001b[0m\u001b[0;34m\u001b[0m\u001b[0;34m\u001b[0m\u001b[0m\n",
      "\u001b[0;32m/usr/local/lib/python3.6/site-packages/tensorflow_core/python/ops/array_ops.py\u001b[0m in \u001b[0;36massign\u001b[0;34m(val, name)\u001b[0m\n\u001b[1;32m   1002\u001b[0m             \u001b[0mellipsis_mask\u001b[0m\u001b[0;34m=\u001b[0m\u001b[0mellipsis_mask\u001b[0m\u001b[0;34m,\u001b[0m\u001b[0;34m\u001b[0m\u001b[0m\n\u001b[1;32m   1003\u001b[0m             \u001b[0mnew_axis_mask\u001b[0m\u001b[0;34m=\u001b[0m\u001b[0mnew_axis_mask\u001b[0m\u001b[0;34m,\u001b[0m\u001b[0;34m\u001b[0m\u001b[0m\n\u001b[0;32m-> 1004\u001b[0;31m             shrink_axis_mask=shrink_axis_mask)\n\u001b[0m\u001b[1;32m   1005\u001b[0m \u001b[0;34m\u001b[0m\u001b[0m\n\u001b[1;32m   1006\u001b[0m     \u001b[0mop\u001b[0m\u001b[0;34m.\u001b[0m\u001b[0massign\u001b[0m \u001b[0;34m=\u001b[0m \u001b[0massign\u001b[0m\u001b[0;34m\u001b[0m\u001b[0m\n",
      "\u001b[0;32m/usr/local/lib/python3.6/site-packages/tensorflow_core/python/ops/resource_variable_ops.py\u001b[0m in \u001b[0;36m_strided_slice_assign\u001b[0;34m(self, begin, end, strides, value, name, begin_mask, end_mask, ellipsis_mask, new_axis_mask, shrink_axis_mask)\u001b[0m\n\u001b[1;32m   1190\u001b[0m               \u001b[0mend\u001b[0m\u001b[0;34m=\u001b[0m\u001b[0mend\u001b[0m\u001b[0;34m,\u001b[0m\u001b[0;34m\u001b[0m\u001b[0m\n\u001b[1;32m   1191\u001b[0m               \u001b[0mstrides\u001b[0m\u001b[0;34m=\u001b[0m\u001b[0mstrides\u001b[0m\u001b[0;34m,\u001b[0m\u001b[0;34m\u001b[0m\u001b[0m\n\u001b[0;32m-> 1192\u001b[0;31m               \u001b[0mvalue\u001b[0m\u001b[0;34m=\u001b[0m\u001b[0mops\u001b[0m\u001b[0;34m.\u001b[0m\u001b[0mconvert_to_tensor\u001b[0m\u001b[0;34m(\u001b[0m\u001b[0mvalue\u001b[0m\u001b[0;34m,\u001b[0m \u001b[0mdtype\u001b[0m\u001b[0;34m=\u001b[0m\u001b[0mself\u001b[0m\u001b[0;34m.\u001b[0m\u001b[0mdtype\u001b[0m\u001b[0;34m)\u001b[0m\u001b[0;34m,\u001b[0m\u001b[0;34m\u001b[0m\u001b[0m\n\u001b[0m\u001b[1;32m   1193\u001b[0m               \u001b[0mname\u001b[0m\u001b[0;34m=\u001b[0m\u001b[0mname\u001b[0m\u001b[0;34m,\u001b[0m\u001b[0;34m\u001b[0m\u001b[0m\n\u001b[1;32m   1194\u001b[0m               \u001b[0mbegin_mask\u001b[0m\u001b[0;34m=\u001b[0m\u001b[0mbegin_mask\u001b[0m\u001b[0;34m,\u001b[0m\u001b[0;34m\u001b[0m\u001b[0m\n",
      "\u001b[0;32m/usr/local/lib/python3.6/site-packages/tensorflow_core/python/framework/ops.py\u001b[0m in \u001b[0;36mconvert_to_tensor\u001b[0;34m(value, dtype, name, preferred_dtype, dtype_hint)\u001b[0m\n\u001b[1;32m   1182\u001b[0m   preferred_dtype = deprecation.deprecated_argument_lookup(\n\u001b[1;32m   1183\u001b[0m       \"dtype_hint\", dtype_hint, \"preferred_dtype\", preferred_dtype)\n\u001b[0;32m-> 1184\u001b[0;31m   \u001b[0;32mreturn\u001b[0m \u001b[0mconvert_to_tensor_v2\u001b[0m\u001b[0;34m(\u001b[0m\u001b[0mvalue\u001b[0m\u001b[0;34m,\u001b[0m \u001b[0mdtype\u001b[0m\u001b[0;34m,\u001b[0m \u001b[0mpreferred_dtype\u001b[0m\u001b[0;34m,\u001b[0m \u001b[0mname\u001b[0m\u001b[0;34m)\u001b[0m\u001b[0;34m\u001b[0m\u001b[0m\n\u001b[0m\u001b[1;32m   1185\u001b[0m \u001b[0;34m\u001b[0m\u001b[0m\n\u001b[1;32m   1186\u001b[0m \u001b[0;34m\u001b[0m\u001b[0m\n",
      "\u001b[0;32m/usr/local/lib/python3.6/site-packages/tensorflow_core/python/framework/ops.py\u001b[0m in \u001b[0;36mconvert_to_tensor_v2\u001b[0;34m(value, dtype, dtype_hint, name)\u001b[0m\n\u001b[1;32m   1240\u001b[0m       \u001b[0mname\u001b[0m\u001b[0;34m=\u001b[0m\u001b[0mname\u001b[0m\u001b[0;34m,\u001b[0m\u001b[0;34m\u001b[0m\u001b[0m\n\u001b[1;32m   1241\u001b[0m       \u001b[0mpreferred_dtype\u001b[0m\u001b[0;34m=\u001b[0m\u001b[0mdtype_hint\u001b[0m\u001b[0;34m,\u001b[0m\u001b[0;34m\u001b[0m\u001b[0m\n\u001b[0;32m-> 1242\u001b[0;31m       as_ref=False)\n\u001b[0m\u001b[1;32m   1243\u001b[0m \u001b[0;34m\u001b[0m\u001b[0m\n\u001b[1;32m   1244\u001b[0m \u001b[0;34m\u001b[0m\u001b[0m\n",
      "\u001b[0;32m/usr/local/lib/python3.6/site-packages/tensorflow_core/python/framework/ops.py\u001b[0m in \u001b[0;36minternal_convert_to_tensor\u001b[0;34m(value, dtype, name, as_ref, preferred_dtype, ctx, accept_composite_tensors)\u001b[0m\n\u001b[1;32m   1269\u001b[0m       raise ValueError(\n\u001b[1;32m   1270\u001b[0m           \u001b[0;34m\"Tensor conversion requested dtype %s for Tensor with dtype %s: %r\"\u001b[0m \u001b[0;34m%\u001b[0m\u001b[0;34m\u001b[0m\u001b[0m\n\u001b[0;32m-> 1271\u001b[0;31m           (dtype.name, value.dtype.name, value))\n\u001b[0m\u001b[1;32m   1272\u001b[0m     \u001b[0;32mreturn\u001b[0m \u001b[0mvalue\u001b[0m\u001b[0;34m\u001b[0m\u001b[0m\n\u001b[1;32m   1273\u001b[0m \u001b[0;34m\u001b[0m\u001b[0m\n",
      "\u001b[0;31mValueError\u001b[0m: Tensor conversion requested dtype complex64 for Tensor with dtype float32: <tf.Tensor: id=12153, shape=(480, 640), dtype=float32, numpy=\narray([[ 16768.99  ,  99270.08  , 109417.26  , ...,  16755.197 ,\n         16793.709 ,  16799.559 ],\n       [  4587.454 , 182875.3   , 193186.7   , ...,  12180.075 ,\n         12185.408 ,  11075.326 ],\n       [  3706.1533, 186284.61  , 199473.55  , ...,  11879.477 ,\n         10678.64  ,  10549.141 ],\n       ...,\n       [ 16865.38  , 100913.08  , 108424.05  , ...,  18047.295 ,\n         18045.895 ,  18054.105 ],\n       [ 17814.691 ,  97803.35  , 105214.875 , ...,  18032.852 ,\n         16815.84  ,  16712.594 ],\n       [ 16870.686 ,  99690.16  , 103868.57  , ...,  16850.756 ,\n         16756.809 ,  16741.092 ]], dtype=float32)>"
     ]
    }
   ],
   "source": [
    "# Iterate until desired convergence in similarity\n",
    "while beta < beta_max:\n",
    "    \n",
    "    h = tf.Variable(h)\n",
    "    v = tf.Variable(v)\n",
    "\n",
    "    # compute dxSp\n",
    "    h = h[:,0:M-1,:].assign(tf.math.real(S_complex[:,1:]-S_complex[:,:-1]))\n",
    "    h = h[:,M-1:M,:].assign(tf.math.real(S_complex[:,0:1,:] - S_complex[:,M-1:M,:]))\n",
    "\n",
    "    # compute dySp\n",
    "    v = v[0:N-1,:,:].assign(tf.math.real(S_complex[1:]-S_complex[:-1]))\n",
    "    v = v[N-1:N,:,:].assign(tf.math.real(S_complex[0:1,:,:] - S_complex[N-1:N,:,:]))\n",
    "    \n",
    "    # compute minimum energy E = dxSp^2 + dySp^2 <= _lambda/beta\n",
    "    t = tf.reduce_sum(tf.math.square(h) + tf.math.square(v), axis=2) < _lambda / beta\n",
    "    t = tf.stack([t, t, t], axis=2)\n",
    "\n",
    "    # compute piecewise solution for hp, vp\n",
    "    idx = tf.where(t)\n",
    "    h = tf.tensor_scatter_nd_update(h, idx, tf.zeros(idx.shape[0]))\n",
    "    v = tf.tensor_scatter_nd_update(v, idx, tf.zeros(idx.shape[0]))\n",
    "#     h[t] = 0\n",
    "#     v[t] = 0\n",
    "\n",
    "    # compute dxhp + dyvp\n",
    "    dxhp = dxhp[:,0:1,:].assign(h[:,M-1:M,:] - h[:,0:1,:])\n",
    "    dxhp = dxhp[:,1:M,:].assign(-(np.diff(h, 1, 1)))\n",
    "    dyvp = dyvp[0:1,:,:].assign(v[N-1:N,:,:] - v[0:1,:,:])\n",
    "    dyvp = dyvp[1:N,:,:].assign(-(np.diff(v, 1, 0)))\n",
    "    normin = dxhp + dyvp\n",
    "    \n",
    "    normin = tf.complex(normin, tf.constant(tf.zeros(normin.shape)))\n",
    "    for i in range(S.shape[2]):\n",
    "        FS = FS[:,:,i].assign(tf.signal.fft2d(normin[:,:,i]))\n",
    "    \n",
    "#     FS[:,:,0] = np.fft.fft2(normin[:,:,0])\n",
    "#     FS[:,:,1] = np.fft.fft2(normin[:,:,1])\n",
    "#     FS[:,:,2] = np.fft.fft2(normin[:,:,2])\n",
    "    \n",
    "    # solve for S + 1 in Fourier domain\n",
    "    denorm = tf.cast(1 + beta * MTF, dtype=tf.complex64)\n",
    "    print(denorm.dtype)\n",
    "    FS = FS[:,:,:].assign((FI + beta * FS) / denorm)\n",
    "\n",
    "    # inverse FFT to compute S + 1\n",
    "    for i in range(S.shape[2]):\n",
    "        print(type(S_complex))\n",
    "        S_complex = S_complex[:,:,i].assign(tf.math.real(tf.signal.fft2d(FS[:,:,i])))\n",
    "\n",
    "#     S[:,:,0] = np.float32((np.fft.ifft2(FS[:,:,0])).real)\n",
    "#     S[:,:,1] = np.float32((np.fft.ifft2(FS[:,:,1])).real)\n",
    "#     S[:,:,2] = np.float32((np.fft.ifft2(FS[:,:,2])).real)\n",
    "\n",
    "    # update beta for next iteration\n",
    "    beta *= kappa\n",
    "    iteration += 1\n",
    "\n",
    "# Rescale image\n",
    "S_complex = S_complex * 256\n",
    "\n",
    "print(\"Iterations: %d\" % (iteration))\n"
   ]
  },
  {
   "cell_type": "code",
   "execution_count": null,
   "metadata": {},
   "outputs": [],
   "source": [
    "#S.numpy()\n",
    "cv2.imwrite('out.png', S.numpy())"
   ]
  },
  {
   "cell_type": "code",
   "execution_count": null,
   "metadata": {},
   "outputs": [],
   "source": [
    "i = Image.open('out.png')"
   ]
  },
  {
   "cell_type": "code",
   "execution_count": 63,
   "metadata": {},
   "outputs": [
    {
     "data": {
      "image/png": "[encoded data removed]",
      "text/plain": [
       "<PIL.PngImagePlugin.PngImageFile image mode=RGB size=640x480 at 0x1434C75F8>"
      ]
     },
     "execution_count": 63,
     "metadata": {},
     "output_type": "execute_result"
    }
   ],
   "source": [
    "i"
   ]
  },
  {
   "cell_type": "code",
   "execution_count": null,
   "metadata": {},
   "outputs": [],
   "source": [
    "print(tf.__version__)\n",
    "print(dir(tf.scatter_update))"
   ]
  },
  {
   "cell_type": "code",
   "execution_count": 32,
   "metadata": {},
   "outputs": [],
   "source": [
    "r = tf.reduce_sum(tf.math.square(h) + tf.math.square(v), axis=2) "
   ]
  },
  {
   "cell_type": "code",
   "execution_count": 31,
   "metadata": {},
   "outputs": [
    {
     "data": {
      "text/plain": [
       "0.5"
      ]
     },
     "execution_count": 31,
     "metadata": {},
     "output_type": "execute_result"
    }
   ],
   "source": [
    "_lambda / beta"
   ]
  },
  {
   "cell_type": "code",
   "execution_count": 36,
   "metadata": {},
   "outputs": [
    {
     "data": {
      "text/plain": [
       "<tf.Tensor: id=480, shape=(480, 640), dtype=bool, numpy=\n",
       "array([[ True,  True,  True, ...,  True,  True,  True],\n",
       "       [ True,  True,  True, ...,  True,  True,  True],\n",
       "       [ True,  True,  True, ...,  True,  True,  True],\n",
       "       ...,\n",
       "       [ True,  True,  True, ...,  True,  True,  True],\n",
       "       [ True,  True,  True, ...,  True,  True,  True],\n",
       "       [ True,  True,  True, ...,  True,  True,  True]])>"
      ]
     },
     "execution_count": 36,
     "metadata": {},
     "output_type": "execute_result"
    }
   ],
   "source": [
    "tf.math.real(r) < 2 "
   ]
  },
  {
   "cell_type": "code",
   "execution_count": 79,
   "metadata": {},
   "outputs": [
    {
     "data": {
      "text/plain": [
       "<tf.Tensor: id=11212, shape=(480, 640, 3), dtype=complex64, numpy=\n",
       "array([[[0.0546875 +0.j, 0.05859375+0.j, 0.02734375+0.j],\n",
       "        [0.0546875 +0.j, 0.05859375+0.j, 0.02734375+0.j],\n",
       "        [0.0546875 +0.j, 0.05859375+0.j, 0.02734375+0.j],\n",
       "        ...,\n",
       "        [0.33203125+0.j, 0.41015625+0.j, 0.4375    +0.j],\n",
       "        [0.34765625+0.j, 0.41796875+0.j, 0.4453125 +0.j],\n",
       "        [0.34375   +0.j, 0.41015625+0.j, 0.44140625+0.j]],\n",
       "\n",
       "       [[0.0546875 +0.j, 0.05859375+0.j, 0.02734375+0.j],\n",
       "        [0.0546875 +0.j, 0.05859375+0.j, 0.02734375+0.j],\n",
       "        [0.0546875 +0.j, 0.05859375+0.j, 0.02734375+0.j],\n",
       "        ...,\n",
       "        [0.328125  +0.j, 0.4296875 +0.j, 0.44921875+0.j],\n",
       "        [0.328125  +0.j, 0.41796875+0.j, 0.44140625+0.j],\n",
       "        [0.3359375 +0.j, 0.421875  +0.j, 0.4453125 +0.j]],\n",
       "\n",
       "       [[0.05859375+0.j, 0.0625    +0.j, 0.03125   +0.j],\n",
       "        [0.0546875 +0.j, 0.05859375+0.j, 0.03125   +0.j],\n",
       "        [0.0546875 +0.j, 0.05859375+0.j, 0.02734375+0.j],\n",
       "        ...,\n",
       "        [0.32421875+0.j, 0.421875  +0.j, 0.44140625+0.j],\n",
       "        [0.33203125+0.j, 0.41796875+0.j, 0.44140625+0.j],\n",
       "        [0.328125  +0.j, 0.4140625 +0.j, 0.4375    +0.j]],\n",
       "\n",
       "       ...,\n",
       "\n",
       "       [[0.03125   +0.j, 0.03125   +0.j, 0.02734375+0.j],\n",
       "        [0.03125   +0.j, 0.03125   +0.j, 0.0234375 +0.j],\n",
       "        [0.03515625+0.j, 0.03515625+0.j, 0.02734375+0.j],\n",
       "        ...,\n",
       "        [0.609375  +0.j, 0.67578125+0.j, 0.67578125+0.j],\n",
       "        [0.60546875+0.j, 0.671875  +0.j, 0.671875  +0.j],\n",
       "        [0.5859375 +0.j, 0.66796875+0.j, 0.66015625+0.j]],\n",
       "\n",
       "       [[0.03515625+0.j, 0.03515625+0.j, 0.02734375+0.j],\n",
       "        [0.03515625+0.j, 0.03515625+0.j, 0.02734375+0.j],\n",
       "        [0.03515625+0.j, 0.03515625+0.j, 0.03125   +0.j],\n",
       "        ...,\n",
       "        [0.6171875 +0.j, 0.68359375+0.j, 0.68359375+0.j],\n",
       "        [0.6171875 +0.j, 0.68359375+0.j, 0.68359375+0.j],\n",
       "        [0.59765625+0.j, 0.6796875 +0.j, 0.67578125+0.j]],\n",
       "\n",
       "       [[0.03515625+0.j, 0.03515625+0.j, 0.02734375+0.j],\n",
       "        [0.03515625+0.j, 0.03515625+0.j, 0.02734375+0.j],\n",
       "        [0.0390625 +0.j, 0.0390625 +0.j, 0.03125   +0.j],\n",
       "        ...,\n",
       "        [0.6171875 +0.j, 0.68359375+0.j, 0.68359375+0.j],\n",
       "        [0.6171875 +0.j, 0.68359375+0.j, 0.68359375+0.j],\n",
       "        [0.59765625+0.j, 0.6796875 +0.j, 0.67578125+0.j]]],\n",
       "      dtype=complex64)>"
      ]
     },
     "execution_count": 79,
     "metadata": {},
     "output_type": "execute_result"
    }
   ],
   "source": [
    "S_complex"
   ]
  },
  {
   "cell_type": "code",
   "execution_count": null,
   "metadata": {},
   "outputs": [],
   "source": []
  }
 ],
 "metadata": {
  "kernelspec": {
   "display_name": "Python 3",
   "language": "python",
   "name": "python3"
  },
  "language_info": {
   "codemirror_mode": {
    "name": "ipython",
    "version": 3
   },
   "file_extension": ".py",
   "mimetype": "text/x-python",
   "name": "python",
   "nbconvert_exporter": "python",
   "pygments_lexer": "ipython3",
   "version": "3.6.5"
  }
 },
 "nbformat": 4,
 "nbformat_minor": 2
}
