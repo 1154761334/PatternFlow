{
 "cells": [
  {
   "cell_type": "code",
   "execution_count": 28,
   "metadata": {},
   "outputs": [],
   "source": [
    "from PIL import Image\n",
    "import tensorflow as tf \n",
    "import numpy as np"
   ]
  },
  {
   "cell_type": "code",
   "execution_count": 3,
   "metadata": {},
   "outputs": [
    {
     "name": "stdout",
     "output_type": "stream",
     "text": [
      "README.md      Untitled.ipynb dahlia.png\r\n"
     ]
    }
   ],
   "source": [
    "! ls"
   ]
  },
  {
   "cell_type": "code",
   "execution_count": 5,
   "metadata": {},
   "outputs": [],
   "source": [
    "im = Image.open('dahlia.png')"
   ]
  },
  {
   "cell_type": "code",
   "execution_count": 9,
   "metadata": {},
   "outputs": [],
   "source": [
    "im.show()"
   ]
  },
  {
   "cell_type": "code",
   "execution_count": 8,
   "metadata": {},
   "outputs": [
    {
     "data": {
      "text/plain": [
       "(640, 480)"
      ]
     },
     "execution_count": 8,
     "metadata": {},
     "output_type": "execute_result"
    }
   ],
   "source": [
    "im.size"
   ]
  },
  {
   "cell_type": "code",
   "execution_count": 10,
   "metadata": {},
   "outputs": [],
   "source": [
    "cols, rows = im.size"
   ]
  },
  {
   "cell_type": "code",
   "execution_count": 17,
   "metadata": {},
   "outputs": [],
   "source": []
  },
  {
   "cell_type": "code",
   "execution_count": 43,
   "metadata": {},
   "outputs": [],
   "source": [
    "np_im = np.array(im, dtype='float32')"
   ]
  },
  {
   "cell_type": "code",
   "execution_count": 44,
   "metadata": {},
   "outputs": [
    {
     "data": {
      "text/plain": [
       "(480, 640)"
      ]
     },
     "execution_count": 44,
     "metadata": {},
     "output_type": "execute_result"
    }
   ],
   "source": [
    "np_im[:,:,1].shape"
   ]
  },
  {
   "cell_type": "code",
   "execution_count": 45,
   "metadata": {},
   "outputs": [],
   "source": [
    "no_channels = len(im.split())"
   ]
  },
  {
   "cell_type": "code",
   "execution_count": 46,
   "metadata": {},
   "outputs": [],
   "source": [
    "# Create dict of split channels \n",
    "I_channels = {}\n",
    "S_channels = {}\n",
    "for i in range(np_im.shape[-1]): \n",
    "    I_channels[i] = np_im[:, :, i]\n",
    "    S_channels[i] = np_im[:, :, i]\n",
    "\n",
    "    \n",
    "    # Normalise \n",
    "    I_channels[i] /= 255.0\n",
    "    S_channels[i] /= 255.0"
   ]
  },
  {
   "cell_type": "code",
   "execution_count": 54,
   "metadata": {},
   "outputs": [],
   "source": [
    "# initialise matrices \n",
    "S = np.zeros(shape=(cols, rows))\n",
    "H = np.zeros(shape=(cols, rows))\n",
    "V = np.zeros(shape=(cols, rows))\n",
    "\n",
    "grad_x = np.zeros(shape=(cols, rows))\n",
    "grad_y = np.zeros(shape=(cols, rows))"
   ]
  },
  {
   "cell_type": "code",
   "execution_count": null,
   "metadata": {},
   "outputs": [],
   "source": [
    "def optimise(S_channel, I_channel, H, V, grad_x, grad_y, beta): \n",
    "    pass \n"
   ]
  },
  {
   "cell_type": "code",
   "execution_count": 56,
   "metadata": {},
   "outputs": [],
   "source": [
    "# do the thing here \n",
    "beta = 0\n",
    "beta_max = 0\n",
    "while(beta < beta_max):\n",
    "    pass "
   ]
  },
  {
   "cell_type": "code",
   "execution_count": 47,
   "metadata": {},
   "outputs": [
    {
     "data": {
      "text/plain": [
       "array([[0.05490196, 0.05490196, 0.05490196, ..., 0.33333334, 0.34901962,\n",
       "        0.34509805],\n",
       "       [0.05490196, 0.05490196, 0.05490196, ..., 0.32941177, 0.32941177,\n",
       "        0.3372549 ],\n",
       "       [0.05882353, 0.05490196, 0.05490196, ..., 0.3254902 , 0.33333334,\n",
       "        0.32941177],\n",
       "       ...,\n",
       "       [0.03137255, 0.03137255, 0.03529412, ..., 0.6117647 , 0.60784316,\n",
       "        0.5882353 ],\n",
       "       [0.03529412, 0.03529412, 0.03529412, ..., 0.61960787, 0.61960787,\n",
       "        0.6       ],\n",
       "       [0.03529412, 0.03529412, 0.03921569, ..., 0.61960787, 0.61960787,\n",
       "        0.6       ]], dtype=float32)"
      ]
     },
     "execution_count": 47,
     "metadata": {},
     "output_type": "execute_result"
    }
   ],
   "source": [
    "split_channels[0]"
   ]
  },
  {
   "cell_type": "code",
   "execution_count": null,
   "metadata": {},
   "outputs": [],
   "source": []
  },
  {
   "cell_type": "code",
   "execution_count": null,
   "metadata": {},
   "outputs": [],
   "source": []
  }
 ],
 "metadata": {
  "kernelspec": {
   "display_name": "Python 3",
   "language": "python",
   "name": "python3"
  },
  "language_info": {
   "codemirror_mode": {
    "name": "ipython",
    "version": 3
   },
   "file_extension": ".py",
   "mimetype": "text/x-python",
   "name": "python",
   "nbconvert_exporter": "python",
   "pygments_lexer": "ipython3",
   "version": "3.6.5"
  }
 },
 "nbformat": 4,
 "nbformat_minor": 2
}
