{
  "nbformat": 4,
  "nbformat_minor": 0,
  "metadata": {
    "colab": {
      "name": "cg_algorithm",
      "provenance": [],
      "collapsed_sections": [],
      "include_colab_link": true
    },
    "kernelspec": {
      "name": "python3",
      "display_name": "Python 3"
    }
  },
  "cells": [
    {
      "cell_type": "markdown",
      "metadata": {
        "id": "view-in-github",
        "colab_type": "text"
      },
      "source": [
        "<a href=\"https://colab.research.google.com/github/iciac/PatternFlow/blob/topic-algorithms/cg_algorithm.ipynb\" target=\"_parent\"><img src=\"https://colab.research.google.com/assets/colab-badge.svg\" alt=\"Open In Colab\"/></a>"
      ]
    },
    {
      "cell_type": "code",
      "metadata": {
        "id": "JzrceNM2vPRf",
        "colab_type": "code",
        "colab": {}
      },
      "source": [
        "import tensorflow as tf \n",
        "\n",
        "def tf_intensity_range(image,range_values='image',clip_negative=False): \n",
        "    \"\"\"\n",
        "    Doc-string \n",
        "    \"\"\" \n",
        "    \n",
        "    tf_dtype = tf.as_dtype(image.dtype) \n",
        "    tf_image = tf.convert_to_tensor(image,dtype=tf_dtype) \n",
        "    \n",
        "    if range_values == 'dtype': \n",
        "        range_values = tf_image.dtype\n",
        "        \n",
        "    if range_values == 'image': \n",
        "        i_min = tf.reduce_min(tf_image)\n",
        "        i_max = tf.reduce_max(tf_image) \n",
        "        \n",
        "    elif range_values in tf.dtypes: #DTYPE_RANGE: \n",
        "        i_min, i_max = tf_dtype.limits \n",
        "        if clip_negative:\n",
        "            i_min = 0 \n",
        "    else: \n",
        "        i_min, i_max = range_values \n",
        "        \n",
        "    return i_min, i_max \n",
        "    \n",
        "    "
      ],
      "execution_count": 0,
      "outputs": []
    },
    {
      "cell_type": "code",
      "metadata": {
        "id": "g_LDUcH_0YfJ",
        "colab_type": "code",
        "colab": {}
      },
      "source": [
        "def tf_rescale_intensity(image,in_range='image',out_range='dtype'): \n",
        "    \n",
        "    \"\"\" \n",
        "    Doc-string \n",
        "    \"\"\"\n",
        "    tf_dtype = tf.as_dtype(image.dtype) \n",
        "    tf_image = tf.convert_to_tensor(image,dtype=tf_dtype) \n",
        "    \n",
        "    imin, imax = tf_intensity_range(image,in_range) \n",
        "    omin, omax = tf_intensity_range(image,out_range,clip_negative=(imin>=0))\n",
        "    \n",
        "    image = # np.clip(image,imin,imax) \n",
        "    \n",
        "    if imin != imax: \n",
        "        image = (image-imin)/tf.float(imax-imin) \n",
        "        \n",
        "    return tf.constant(tf_image*(omax-omin)+omin,dtype=tf_dtype)"
      ],
      "execution_count": 0,
      "outputs": []
    },
    {
      "cell_type": "code",
      "metadata": {
        "id": "W7kmkqBv2MyZ",
        "colab_type": "code",
        "colab": {}
      },
      "source": [
        "import matplotlib.pyplot as plt \n",
        "\n",
        "def main(): \n",
        "    \"\"\"\n",
        "    Performs a test \n",
        "    \"\"\" \n",
        "    \n",
        "    image = # example image \n",
        "    intensity_test = tf_rescale_intensity(image) \n",
        "    plt.imshow(intensity_test)"
      ],
      "execution_count": 0,
      "outputs": []
    }
  ]
}